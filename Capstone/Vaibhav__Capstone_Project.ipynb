{
  "nbformat": 4,
  "nbformat_minor": 0,
  "metadata": {
    "colab": {
      "name": "Copy of Vaibhav__Capstone Project2.ipynb",
      "provenance": [],
      "collapsed_sections": []
    },
    "kernelspec": {
      "name": "python3",
      "display_name": "Python 3"
    },
    "language_info": {
      "name": "python"
    }
  },
  "cells": [
    {
      "cell_type": "code",
      "metadata": {
        "id": "22uOu8pQa-Zm"
      },
      "source": [
        "\n",
        "import numpy as np\n",
        "import pandas as pd\n",
        "import seaborn as sns\n",
        "import matplotlib.pyplot as plt\n",
        "from sklearn.model_selection import cross_val_score \n",
        "import warnings\n",
        "warnings.filterwarnings(\"ignore\")\n",
        "\n",
        "import os\n",
        "import time"
      ],
      "execution_count": null,
      "outputs": []
    },
    {
      "cell_type": "code",
      "metadata": {
        "colab": {
          "base_uri": "https://localhost:8080/",
          "height": 296
        },
        "id": "rDhEGhy7byw9",
        "outputId": "d3118121-76dc-475d-df8f-2d6e618a70c6"
      },
      "source": [
        "data = pd.read_excel('Customer Churn Data.xlsx',sheet_name='Data for DSBA')\n",
        "data.head()"
      ],
      "execution_count": null,
      "outputs": [
        {
          "output_type": "execute_result",
          "data": {
            "text/html": [
              "<div>\n",
              "<style scoped>\n",
              "    .dataframe tbody tr th:only-of-type {\n",
              "        vertical-align: middle;\n",
              "    }\n",
              "\n",
              "    .dataframe tbody tr th {\n",
              "        vertical-align: top;\n",
              "    }\n",
              "\n",
              "    .dataframe thead th {\n",
              "        text-align: right;\n",
              "    }\n",
              "</style>\n",
              "<table border=\"1\" class=\"dataframe\">\n",
              "  <thead>\n",
              "    <tr style=\"text-align: right;\">\n",
              "      <th></th>\n",
              "      <th>AccountID</th>\n",
              "      <th>Churn</th>\n",
              "      <th>Tenure</th>\n",
              "      <th>City_Tier</th>\n",
              "      <th>CC_Contacted_LY</th>\n",
              "      <th>Payment</th>\n",
              "      <th>Gender</th>\n",
              "      <th>Service_Score</th>\n",
              "      <th>Account_user_count</th>\n",
              "      <th>account_segment</th>\n",
              "      <th>CC_Agent_Score</th>\n",
              "      <th>Marital_Status</th>\n",
              "      <th>rev_per_month</th>\n",
              "      <th>Complain_ly</th>\n",
              "      <th>rev_growth_yoy</th>\n",
              "      <th>coupon_used_for_payment</th>\n",
              "      <th>Day_Since_CC_connect</th>\n",
              "      <th>cashback</th>\n",
              "      <th>Login_device</th>\n",
              "    </tr>\n",
              "  </thead>\n",
              "  <tbody>\n",
              "    <tr>\n",
              "      <th>0</th>\n",
              "      <td>20000</td>\n",
              "      <td>1</td>\n",
              "      <td>4.0</td>\n",
              "      <td>3.0</td>\n",
              "      <td>6.0</td>\n",
              "      <td>Debit Card</td>\n",
              "      <td>Female</td>\n",
              "      <td>3.0</td>\n",
              "      <td>3.0</td>\n",
              "      <td>Super</td>\n",
              "      <td>2.0</td>\n",
              "      <td>Single</td>\n",
              "      <td>9.0</td>\n",
              "      <td>1.0</td>\n",
              "      <td>11.0</td>\n",
              "      <td>1.0</td>\n",
              "      <td>5.0</td>\n",
              "      <td>159.93</td>\n",
              "      <td>Mobile</td>\n",
              "    </tr>\n",
              "    <tr>\n",
              "      <th>1</th>\n",
              "      <td>20001</td>\n",
              "      <td>1</td>\n",
              "      <td>0.0</td>\n",
              "      <td>1.0</td>\n",
              "      <td>8.0</td>\n",
              "      <td>UPI</td>\n",
              "      <td>Male</td>\n",
              "      <td>3.0</td>\n",
              "      <td>4.0</td>\n",
              "      <td>Regular Plus</td>\n",
              "      <td>3.0</td>\n",
              "      <td>Single</td>\n",
              "      <td>7.0</td>\n",
              "      <td>1.0</td>\n",
              "      <td>15.0</td>\n",
              "      <td>0.0</td>\n",
              "      <td>0.0</td>\n",
              "      <td>120.90</td>\n",
              "      <td>Mobile</td>\n",
              "    </tr>\n",
              "    <tr>\n",
              "      <th>2</th>\n",
              "      <td>20002</td>\n",
              "      <td>1</td>\n",
              "      <td>0.0</td>\n",
              "      <td>1.0</td>\n",
              "      <td>30.0</td>\n",
              "      <td>Debit Card</td>\n",
              "      <td>Male</td>\n",
              "      <td>2.0</td>\n",
              "      <td>4.0</td>\n",
              "      <td>Regular Plus</td>\n",
              "      <td>3.0</td>\n",
              "      <td>Single</td>\n",
              "      <td>6.0</td>\n",
              "      <td>1.0</td>\n",
              "      <td>14.0</td>\n",
              "      <td>0.0</td>\n",
              "      <td>3.0</td>\n",
              "      <td>NaN</td>\n",
              "      <td>Mobile</td>\n",
              "    </tr>\n",
              "    <tr>\n",
              "      <th>3</th>\n",
              "      <td>20003</td>\n",
              "      <td>1</td>\n",
              "      <td>0.0</td>\n",
              "      <td>3.0</td>\n",
              "      <td>15.0</td>\n",
              "      <td>Debit Card</td>\n",
              "      <td>Male</td>\n",
              "      <td>2.0</td>\n",
              "      <td>4.0</td>\n",
              "      <td>Super</td>\n",
              "      <td>5.0</td>\n",
              "      <td>Single</td>\n",
              "      <td>8.0</td>\n",
              "      <td>0.0</td>\n",
              "      <td>23.0</td>\n",
              "      <td>0.0</td>\n",
              "      <td>3.0</td>\n",
              "      <td>134.07</td>\n",
              "      <td>Mobile</td>\n",
              "    </tr>\n",
              "    <tr>\n",
              "      <th>4</th>\n",
              "      <td>20004</td>\n",
              "      <td>1</td>\n",
              "      <td>0.0</td>\n",
              "      <td>1.0</td>\n",
              "      <td>12.0</td>\n",
              "      <td>Credit Card</td>\n",
              "      <td>Male</td>\n",
              "      <td>2.0</td>\n",
              "      <td>3.0</td>\n",
              "      <td>Regular Plus</td>\n",
              "      <td>5.0</td>\n",
              "      <td>Single</td>\n",
              "      <td>3.0</td>\n",
              "      <td>0.0</td>\n",
              "      <td>11.0</td>\n",
              "      <td>1.0</td>\n",
              "      <td>3.0</td>\n",
              "      <td>129.60</td>\n",
              "      <td>Mobile</td>\n",
              "    </tr>\n",
              "  </tbody>\n",
              "</table>\n",
              "</div>"
            ],
            "text/plain": [
              "   AccountID  Churn  Tenure  ...  Day_Since_CC_connect  cashback Login_device\n",
              "0      20000      1     4.0  ...                   5.0    159.93       Mobile\n",
              "1      20001      1     0.0  ...                   0.0    120.90       Mobile\n",
              "2      20002      1     0.0  ...                   3.0       NaN       Mobile\n",
              "3      20003      1     0.0  ...                   3.0    134.07       Mobile\n",
              "4      20004      1     0.0  ...                   3.0    129.60       Mobile\n",
              "\n",
              "[5 rows x 19 columns]"
            ]
          },
          "metadata": {},
          "execution_count": 7
        }
      ]
    },
    {
      "cell_type": "code",
      "metadata": {
        "colab": {
          "base_uri": "https://localhost:8080/"
        },
        "id": "DVdn6y3qcgC9",
        "outputId": "bcb14bd5-9815-4d6b-efbd-2f289afdb553"
      },
      "source": [
        "data.shape"
      ],
      "execution_count": null,
      "outputs": [
        {
          "output_type": "execute_result",
          "data": {
            "text/plain": [
              "(11260, 19)"
            ]
          },
          "metadata": {},
          "execution_count": 8
        }
      ]
    },
    {
      "cell_type": "code",
      "metadata": {
        "colab": {
          "base_uri": "https://localhost:8080/"
        },
        "id": "C8U1-liJngeK",
        "outputId": "ef1cb722-20fb-47f6-a4f2-c12ebfaace8d"
      },
      "source": [
        "data.dtypes"
      ],
      "execution_count": null,
      "outputs": [
        {
          "output_type": "execute_result",
          "data": {
            "text/plain": [
              "AccountID                    int64\n",
              "Churn                        int64\n",
              "Tenure                     float64\n",
              "City_Tier                  float64\n",
              "CC_Contacted_LY            float64\n",
              "Payment                     object\n",
              "Gender                      object\n",
              "Service_Score              float64\n",
              "Account_user_count         float64\n",
              "account_segment             object\n",
              "CC_Agent_Score             float64\n",
              "Marital_Status              object\n",
              "rev_per_month              float64\n",
              "Complain_ly                float64\n",
              "rev_growth_yoy             float64\n",
              "coupon_used_for_payment    float64\n",
              "Day_Since_CC_connect       float64\n",
              "cashback                   float64\n",
              "Login_device                object\n",
              "dtype: object"
            ]
          },
          "metadata": {},
          "execution_count": 9
        }
      ]
    },
    {
      "cell_type": "code",
      "metadata": {
        "colab": {
          "base_uri": "https://localhost:8080/"
        },
        "id": "ZJXzImKWBZ-O",
        "outputId": "68e51d1f-f3b7-4632-eef6-d03f2b9837f0"
      },
      "source": [
        "data.info()"
      ],
      "execution_count": null,
      "outputs": [
        {
          "output_type": "stream",
          "name": "stdout",
          "text": [
            "<class 'pandas.core.frame.DataFrame'>\n",
            "RangeIndex: 11260 entries, 0 to 11259\n",
            "Data columns (total 19 columns):\n",
            " #   Column                   Non-Null Count  Dtype  \n",
            "---  ------                   --------------  -----  \n",
            " 0   AccountID                11260 non-null  int64  \n",
            " 1   Churn                    11260 non-null  int64  \n",
            " 2   Tenure                   11042 non-null  float64\n",
            " 3   City_Tier                11148 non-null  float64\n",
            " 4   CC_Contacted_LY          11158 non-null  float64\n",
            " 5   Payment                  11151 non-null  object \n",
            " 6   Gender                   11152 non-null  object \n",
            " 7   Service_Score            11162 non-null  float64\n",
            " 8   Account_user_count       10816 non-null  float64\n",
            " 9   account_segment          11163 non-null  object \n",
            " 10  CC_Agent_Score           11144 non-null  float64\n",
            " 11  Marital_Status           11048 non-null  object \n",
            " 12  rev_per_month            10469 non-null  float64\n",
            " 13  Complain_ly              10903 non-null  float64\n",
            " 14  rev_growth_yoy           11257 non-null  float64\n",
            " 15  coupon_used_for_payment  11257 non-null  float64\n",
            " 16  Day_Since_CC_connect     10902 non-null  float64\n",
            " 17  cashback                 10787 non-null  float64\n",
            " 18  Login_device             10500 non-null  object \n",
            "dtypes: float64(12), int64(2), object(5)\n",
            "memory usage: 1.6+ MB\n"
          ]
        }
      ]
    },
    {
      "cell_type": "code",
      "metadata": {
        "colab": {
          "base_uri": "https://localhost:8080/",
          "height": 300
        },
        "id": "G6Xx_IvVEsIa",
        "outputId": "f4217c5a-a566-43b8-d653-e0bfe3f5287a"
      },
      "source": [
        "data.describe()"
      ],
      "execution_count": null,
      "outputs": [
        {
          "output_type": "execute_result",
          "data": {
            "text/html": [
              "<div>\n",
              "<style scoped>\n",
              "    .dataframe tbody tr th:only-of-type {\n",
              "        vertical-align: middle;\n",
              "    }\n",
              "\n",
              "    .dataframe tbody tr th {\n",
              "        vertical-align: top;\n",
              "    }\n",
              "\n",
              "    .dataframe thead th {\n",
              "        text-align: right;\n",
              "    }\n",
              "</style>\n",
              "<table border=\"1\" class=\"dataframe\">\n",
              "  <thead>\n",
              "    <tr style=\"text-align: right;\">\n",
              "      <th></th>\n",
              "      <th>AccountID</th>\n",
              "      <th>Churn</th>\n",
              "      <th>Tenure</th>\n",
              "      <th>City_Tier</th>\n",
              "      <th>CC_Contacted_LY</th>\n",
              "      <th>Service_Score</th>\n",
              "      <th>Account_user_count</th>\n",
              "      <th>CC_Agent_Score</th>\n",
              "      <th>rev_per_month</th>\n",
              "      <th>Complain_ly</th>\n",
              "      <th>rev_growth_yoy</th>\n",
              "      <th>coupon_used_for_payment</th>\n",
              "      <th>Day_Since_CC_connect</th>\n",
              "      <th>cashback</th>\n",
              "    </tr>\n",
              "  </thead>\n",
              "  <tbody>\n",
              "    <tr>\n",
              "      <th>count</th>\n",
              "      <td>11260.00000</td>\n",
              "      <td>11260.000000</td>\n",
              "      <td>11042.000000</td>\n",
              "      <td>11148.000000</td>\n",
              "      <td>11158.000000</td>\n",
              "      <td>11162.000000</td>\n",
              "      <td>10816.000000</td>\n",
              "      <td>11144.000000</td>\n",
              "      <td>10469.000000</td>\n",
              "      <td>10903.000000</td>\n",
              "      <td>11257.000000</td>\n",
              "      <td>11257.000000</td>\n",
              "      <td>10902.000000</td>\n",
              "      <td>10787.000000</td>\n",
              "    </tr>\n",
              "    <tr>\n",
              "      <th>mean</th>\n",
              "      <td>25629.50000</td>\n",
              "      <td>0.168384</td>\n",
              "      <td>11.025086</td>\n",
              "      <td>1.653929</td>\n",
              "      <td>17.867091</td>\n",
              "      <td>2.902526</td>\n",
              "      <td>3.692862</td>\n",
              "      <td>3.066493</td>\n",
              "      <td>6.362594</td>\n",
              "      <td>0.285334</td>\n",
              "      <td>16.193391</td>\n",
              "      <td>1.790619</td>\n",
              "      <td>4.633187</td>\n",
              "      <td>196.236370</td>\n",
              "    </tr>\n",
              "    <tr>\n",
              "      <th>std</th>\n",
              "      <td>3250.62635</td>\n",
              "      <td>0.374223</td>\n",
              "      <td>12.879782</td>\n",
              "      <td>0.915015</td>\n",
              "      <td>8.853269</td>\n",
              "      <td>0.725584</td>\n",
              "      <td>1.022976</td>\n",
              "      <td>1.379772</td>\n",
              "      <td>11.909686</td>\n",
              "      <td>0.451594</td>\n",
              "      <td>3.757721</td>\n",
              "      <td>1.969551</td>\n",
              "      <td>3.697637</td>\n",
              "      <td>178.660514</td>\n",
              "    </tr>\n",
              "    <tr>\n",
              "      <th>min</th>\n",
              "      <td>20000.00000</td>\n",
              "      <td>0.000000</td>\n",
              "      <td>0.000000</td>\n",
              "      <td>1.000000</td>\n",
              "      <td>4.000000</td>\n",
              "      <td>0.000000</td>\n",
              "      <td>1.000000</td>\n",
              "      <td>1.000000</td>\n",
              "      <td>1.000000</td>\n",
              "      <td>0.000000</td>\n",
              "      <td>4.000000</td>\n",
              "      <td>0.000000</td>\n",
              "      <td>0.000000</td>\n",
              "      <td>0.000000</td>\n",
              "    </tr>\n",
              "    <tr>\n",
              "      <th>25%</th>\n",
              "      <td>22814.75000</td>\n",
              "      <td>0.000000</td>\n",
              "      <td>2.000000</td>\n",
              "      <td>1.000000</td>\n",
              "      <td>11.000000</td>\n",
              "      <td>2.000000</td>\n",
              "      <td>3.000000</td>\n",
              "      <td>2.000000</td>\n",
              "      <td>3.000000</td>\n",
              "      <td>0.000000</td>\n",
              "      <td>13.000000</td>\n",
              "      <td>1.000000</td>\n",
              "      <td>2.000000</td>\n",
              "      <td>147.210000</td>\n",
              "    </tr>\n",
              "    <tr>\n",
              "      <th>50%</th>\n",
              "      <td>25629.50000</td>\n",
              "      <td>0.000000</td>\n",
              "      <td>9.000000</td>\n",
              "      <td>1.000000</td>\n",
              "      <td>16.000000</td>\n",
              "      <td>3.000000</td>\n",
              "      <td>4.000000</td>\n",
              "      <td>3.000000</td>\n",
              "      <td>5.000000</td>\n",
              "      <td>0.000000</td>\n",
              "      <td>15.000000</td>\n",
              "      <td>1.000000</td>\n",
              "      <td>3.000000</td>\n",
              "      <td>165.250000</td>\n",
              "    </tr>\n",
              "    <tr>\n",
              "      <th>75%</th>\n",
              "      <td>28444.25000</td>\n",
              "      <td>0.000000</td>\n",
              "      <td>16.000000</td>\n",
              "      <td>3.000000</td>\n",
              "      <td>23.000000</td>\n",
              "      <td>3.000000</td>\n",
              "      <td>4.000000</td>\n",
              "      <td>4.000000</td>\n",
              "      <td>7.000000</td>\n",
              "      <td>1.000000</td>\n",
              "      <td>19.000000</td>\n",
              "      <td>2.000000</td>\n",
              "      <td>8.000000</td>\n",
              "      <td>200.010000</td>\n",
              "    </tr>\n",
              "    <tr>\n",
              "      <th>max</th>\n",
              "      <td>31259.00000</td>\n",
              "      <td>1.000000</td>\n",
              "      <td>99.000000</td>\n",
              "      <td>3.000000</td>\n",
              "      <td>132.000000</td>\n",
              "      <td>5.000000</td>\n",
              "      <td>6.000000</td>\n",
              "      <td>5.000000</td>\n",
              "      <td>140.000000</td>\n",
              "      <td>1.000000</td>\n",
              "      <td>28.000000</td>\n",
              "      <td>16.000000</td>\n",
              "      <td>47.000000</td>\n",
              "      <td>1997.000000</td>\n",
              "    </tr>\n",
              "  </tbody>\n",
              "</table>\n",
              "</div>"
            ],
            "text/plain": [
              "         AccountID         Churn  ...  Day_Since_CC_connect      cashback\n",
              "count  11260.00000  11260.000000  ...          10902.000000  10787.000000\n",
              "mean   25629.50000      0.168384  ...              4.633187    196.236370\n",
              "std     3250.62635      0.374223  ...              3.697637    178.660514\n",
              "min    20000.00000      0.000000  ...              0.000000      0.000000\n",
              "25%    22814.75000      0.000000  ...              2.000000    147.210000\n",
              "50%    25629.50000      0.000000  ...              3.000000    165.250000\n",
              "75%    28444.25000      0.000000  ...              8.000000    200.010000\n",
              "max    31259.00000      1.000000  ...             47.000000   1997.000000\n",
              "\n",
              "[8 rows x 14 columns]"
            ]
          },
          "metadata": {},
          "execution_count": 11
        }
      ]
    },
    {
      "cell_type": "code",
      "metadata": {
        "id": "RM3GFZ6FEuYK"
      },
      "source": [
        "data.drop('AccountID', axis=1, inplace=True)"
      ],
      "execution_count": null,
      "outputs": []
    },
    {
      "cell_type": "code",
      "metadata": {
        "id": "omUm9n5AE0tY"
      },
      "source": [
        "cat =[]\n",
        "num =[]\n",
        "\n",
        "for i in data.columns:\n",
        "    if data[i].dtype == 'object':\n",
        "        cat.append(i)\n",
        "    else:\n",
        "        num.append(i)"
      ],
      "execution_count": null,
      "outputs": []
    },
    {
      "cell_type": "code",
      "metadata": {
        "colab": {
          "base_uri": "https://localhost:8080/"
        },
        "id": "SheM6YupE5_o",
        "outputId": "825cd67c-d4cb-44e9-f675-cc41dc76f90e"
      },
      "source": [
        "print('cat = ' + str(cat))\n",
        "print('num = ' + str(num))"
      ],
      "execution_count": null,
      "outputs": [
        {
          "output_type": "stream",
          "name": "stdout",
          "text": [
            "cat = ['Payment', 'Gender', 'account_segment', 'Marital_Status', 'Login_device']\n",
            "num = ['Churn', 'Tenure', 'City_Tier', 'CC_Contacted_LY', 'Service_Score', 'Account_user_count', 'CC_Agent_Score', 'rev_per_month', 'Complain_ly', 'rev_growth_yoy', 'coupon_used_for_payment', 'Day_Since_CC_connect', 'cashback']\n"
          ]
        }
      ]
    },
    {
      "cell_type": "code",
      "metadata": {
        "id": "nngOoRYaE_TC"
      },
      "source": [
        "data = data[['Payment', 'Gender', 'account_segment', 'Marital_Status', 'Login_device','Churn', 'Tenure', 'City_Tier', 'CC_Contacted_LY', 'Service_Score', 'Account_user_count', 'CC_Agent_Score', 'rev_per_month', 'Complain_ly', 'rev_growth_yoy', 'coupon_used_for_payment', 'Day_Since_CC_connect', 'cashback']]"
      ],
      "execution_count": null,
      "outputs": []
    },
    {
      "cell_type": "code",
      "metadata": {
        "colab": {
          "base_uri": "https://localhost:8080/",
          "height": 296
        },
        "id": "e-wR54ZEFPca",
        "outputId": "e2941a6c-68ce-4418-aa91-091d54ccacde"
      },
      "source": [
        "data.head()"
      ],
      "execution_count": null,
      "outputs": [
        {
          "output_type": "execute_result",
          "data": {
            "text/html": [
              "<div>\n",
              "<style scoped>\n",
              "    .dataframe tbody tr th:only-of-type {\n",
              "        vertical-align: middle;\n",
              "    }\n",
              "\n",
              "    .dataframe tbody tr th {\n",
              "        vertical-align: top;\n",
              "    }\n",
              "\n",
              "    .dataframe thead th {\n",
              "        text-align: right;\n",
              "    }\n",
              "</style>\n",
              "<table border=\"1\" class=\"dataframe\">\n",
              "  <thead>\n",
              "    <tr style=\"text-align: right;\">\n",
              "      <th></th>\n",
              "      <th>Payment</th>\n",
              "      <th>Gender</th>\n",
              "      <th>account_segment</th>\n",
              "      <th>Marital_Status</th>\n",
              "      <th>Login_device</th>\n",
              "      <th>Churn</th>\n",
              "      <th>Tenure</th>\n",
              "      <th>City_Tier</th>\n",
              "      <th>CC_Contacted_LY</th>\n",
              "      <th>Service_Score</th>\n",
              "      <th>Account_user_count</th>\n",
              "      <th>CC_Agent_Score</th>\n",
              "      <th>rev_per_month</th>\n",
              "      <th>Complain_ly</th>\n",
              "      <th>rev_growth_yoy</th>\n",
              "      <th>coupon_used_for_payment</th>\n",
              "      <th>Day_Since_CC_connect</th>\n",
              "      <th>cashback</th>\n",
              "    </tr>\n",
              "  </thead>\n",
              "  <tbody>\n",
              "    <tr>\n",
              "      <th>0</th>\n",
              "      <td>Debit Card</td>\n",
              "      <td>Female</td>\n",
              "      <td>Super</td>\n",
              "      <td>Single</td>\n",
              "      <td>Mobile</td>\n",
              "      <td>1</td>\n",
              "      <td>4.0</td>\n",
              "      <td>3.0</td>\n",
              "      <td>6.0</td>\n",
              "      <td>3.0</td>\n",
              "      <td>3.0</td>\n",
              "      <td>2.0</td>\n",
              "      <td>9.0</td>\n",
              "      <td>1.0</td>\n",
              "      <td>11.0</td>\n",
              "      <td>1.0</td>\n",
              "      <td>5.0</td>\n",
              "      <td>159.93</td>\n",
              "    </tr>\n",
              "    <tr>\n",
              "      <th>1</th>\n",
              "      <td>UPI</td>\n",
              "      <td>Male</td>\n",
              "      <td>Regular Plus</td>\n",
              "      <td>Single</td>\n",
              "      <td>Mobile</td>\n",
              "      <td>1</td>\n",
              "      <td>0.0</td>\n",
              "      <td>1.0</td>\n",
              "      <td>8.0</td>\n",
              "      <td>3.0</td>\n",
              "      <td>4.0</td>\n",
              "      <td>3.0</td>\n",
              "      <td>7.0</td>\n",
              "      <td>1.0</td>\n",
              "      <td>15.0</td>\n",
              "      <td>0.0</td>\n",
              "      <td>0.0</td>\n",
              "      <td>120.90</td>\n",
              "    </tr>\n",
              "    <tr>\n",
              "      <th>2</th>\n",
              "      <td>Debit Card</td>\n",
              "      <td>Male</td>\n",
              "      <td>Regular Plus</td>\n",
              "      <td>Single</td>\n",
              "      <td>Mobile</td>\n",
              "      <td>1</td>\n",
              "      <td>0.0</td>\n",
              "      <td>1.0</td>\n",
              "      <td>30.0</td>\n",
              "      <td>2.0</td>\n",
              "      <td>4.0</td>\n",
              "      <td>3.0</td>\n",
              "      <td>6.0</td>\n",
              "      <td>1.0</td>\n",
              "      <td>14.0</td>\n",
              "      <td>0.0</td>\n",
              "      <td>3.0</td>\n",
              "      <td>NaN</td>\n",
              "    </tr>\n",
              "    <tr>\n",
              "      <th>3</th>\n",
              "      <td>Debit Card</td>\n",
              "      <td>Male</td>\n",
              "      <td>Super</td>\n",
              "      <td>Single</td>\n",
              "      <td>Mobile</td>\n",
              "      <td>1</td>\n",
              "      <td>0.0</td>\n",
              "      <td>3.0</td>\n",
              "      <td>15.0</td>\n",
              "      <td>2.0</td>\n",
              "      <td>4.0</td>\n",
              "      <td>5.0</td>\n",
              "      <td>8.0</td>\n",
              "      <td>0.0</td>\n",
              "      <td>23.0</td>\n",
              "      <td>0.0</td>\n",
              "      <td>3.0</td>\n",
              "      <td>134.07</td>\n",
              "    </tr>\n",
              "    <tr>\n",
              "      <th>4</th>\n",
              "      <td>Credit Card</td>\n",
              "      <td>Male</td>\n",
              "      <td>Regular Plus</td>\n",
              "      <td>Single</td>\n",
              "      <td>Mobile</td>\n",
              "      <td>1</td>\n",
              "      <td>0.0</td>\n",
              "      <td>1.0</td>\n",
              "      <td>12.0</td>\n",
              "      <td>2.0</td>\n",
              "      <td>3.0</td>\n",
              "      <td>5.0</td>\n",
              "      <td>3.0</td>\n",
              "      <td>0.0</td>\n",
              "      <td>11.0</td>\n",
              "      <td>1.0</td>\n",
              "      <td>3.0</td>\n",
              "      <td>129.60</td>\n",
              "    </tr>\n",
              "  </tbody>\n",
              "</table>\n",
              "</div>"
            ],
            "text/plain": [
              "       Payment  Gender  ... Day_Since_CC_connect cashback\n",
              "0   Debit Card  Female  ...                  5.0   159.93\n",
              "1          UPI    Male  ...                  0.0   120.90\n",
              "2   Debit Card    Male  ...                  3.0      NaN\n",
              "3   Debit Card    Male  ...                  3.0   134.07\n",
              "4  Credit Card    Male  ...                  3.0   129.60\n",
              "\n",
              "[5 rows x 18 columns]"
            ]
          },
          "metadata": {},
          "execution_count": 16
        }
      ]
    },
    {
      "cell_type": "code",
      "metadata": {
        "colab": {
          "base_uri": "https://localhost:8080/"
        },
        "id": "BLpQluvHHabc",
        "outputId": "6792140c-f591-4b70-bb99-bc5ff01e335d"
      },
      "source": [
        "data.isnull().sum()"
      ],
      "execution_count": null,
      "outputs": [
        {
          "output_type": "execute_result",
          "data": {
            "text/plain": [
              "Payment                    109\n",
              "Gender                     108\n",
              "account_segment             97\n",
              "Marital_Status             212\n",
              "Login_device               760\n",
              "Churn                        0\n",
              "Tenure                     218\n",
              "City_Tier                  112\n",
              "CC_Contacted_LY            102\n",
              "Service_Score               98\n",
              "Account_user_count         444\n",
              "CC_Agent_Score             116\n",
              "rev_per_month              791\n",
              "Complain_ly                357\n",
              "rev_growth_yoy               3\n",
              "coupon_used_for_payment      3\n",
              "Day_Since_CC_connect       358\n",
              "cashback                   473\n",
              "dtype: int64"
            ]
          },
          "metadata": {},
          "execution_count": 17
        }
      ]
    },
    {
      "cell_type": "code",
      "metadata": {
        "id": "XYUMGK9eHcm3"
      },
      "source": [
        "from sklearn.impute import SimpleImputer\n",
        "imputer = SimpleImputer(missing_values=np.nan, strategy='median', verbose=1)"
      ],
      "execution_count": null,
      "outputs": []
    },
    {
      "cell_type": "code",
      "metadata": {
        "id": "6E5wN7w2HgmK"
      },
      "source": [
        "imputer = imputer.fit(data.iloc[:, 5:19])\n",
        "data.iloc[:, 5:19] = imputer.transform(data.iloc[:, 5:19])"
      ],
      "execution_count": null,
      "outputs": []
    },
    {
      "cell_type": "code",
      "metadata": {
        "colab": {
          "base_uri": "https://localhost:8080/"
        },
        "id": "CDY1JfJRHjJB",
        "outputId": "e25f633d-f382-48f0-f1fc-f7cc63f3646f"
      },
      "source": [
        "data.isnull().sum()"
      ],
      "execution_count": null,
      "outputs": [
        {
          "output_type": "execute_result",
          "data": {
            "text/plain": [
              "Payment                    109\n",
              "Gender                     108\n",
              "account_segment             97\n",
              "Marital_Status             212\n",
              "Login_device               760\n",
              "Churn                        0\n",
              "Tenure                       0\n",
              "City_Tier                    0\n",
              "CC_Contacted_LY              0\n",
              "Service_Score                0\n",
              "Account_user_count           0\n",
              "CC_Agent_Score               0\n",
              "rev_per_month                0\n",
              "Complain_ly                  0\n",
              "rev_growth_yoy               0\n",
              "coupon_used_for_payment      0\n",
              "Day_Since_CC_connect         0\n",
              "cashback                     0\n",
              "dtype: int64"
            ]
          },
          "metadata": {},
          "execution_count": 20
        }
      ]
    },
    {
      "cell_type": "code",
      "metadata": {
        "id": "DeOF7mEBT99h"
      },
      "source": [
        "data['Gender'] = data['Gender'].replace({'F':'Female'})\n",
        "data['Gender'] = data['Gender'].replace({'M':'Male'})"
      ],
      "execution_count": null,
      "outputs": []
    },
    {
      "cell_type": "code",
      "metadata": {
        "colab": {
          "base_uri": "https://localhost:8080/"
        },
        "id": "FTdWBHVkIPRK",
        "outputId": "54fa3f88-3a22-4384-a797-eedbe0b5d5e8"
      },
      "source": [
        "for i in data.columns:\n",
        "    if data[i].dtype =='object':\n",
        "        print(i.upper(), ': ', data[i].nunique())\n",
        "        print(data[i].value_counts().sort_values())\n",
        "        print('\\n')"
      ],
      "execution_count": null,
      "outputs": [
        {
          "output_type": "stream",
          "name": "stdout",
          "text": [
            "PAYMENT :  5\n",
            "UPI                  822\n",
            "Cash on Delivery    1014\n",
            "E wallet            1217\n",
            "Credit Card         3511\n",
            "Debit Card          4587\n",
            "Name: Payment, dtype: int64\n",
            "\n",
            "\n",
            "GENDER :  2\n",
            "Female    4448\n",
            "Male      6704\n",
            "Name: Gender, dtype: int64\n",
            "\n",
            "\n",
            "ACCOUNT_SEGMENT :  5\n",
            "Regular          520\n",
            "Super Plus       818\n",
            "HNI             1639\n",
            "Super           4062\n",
            "Regular Plus    4124\n",
            "Name: account_segment, dtype: int64\n",
            "\n",
            "\n",
            "MARITAL_STATUS :  3\n",
            "Divorced    1668\n",
            "Single      3520\n",
            "Married     5860\n",
            "Name: Marital_Status, dtype: int64\n",
            "\n",
            "\n",
            "LOGIN_DEVICE :  2\n",
            "Computer    3018\n",
            "Mobile      7482\n",
            "Name: Login_device, dtype: int64\n",
            "\n",
            "\n"
          ]
        }
      ]
    },
    {
      "cell_type": "code",
      "metadata": {
        "id": "au0bnGznQTEJ"
      },
      "source": [
        "data = pd.get_dummies(data, drop_first=True)"
      ],
      "execution_count": null,
      "outputs": []
    },
    {
      "cell_type": "code",
      "metadata": {
        "colab": {
          "base_uri": "https://localhost:8080/",
          "height": 244
        },
        "id": "LdmjyaKeU-9d",
        "outputId": "0b2d5bac-0fdd-4548-a318-1b1fab5a81a5"
      },
      "source": [
        "data.head()"
      ],
      "execution_count": null,
      "outputs": [
        {
          "output_type": "execute_result",
          "data": {
            "text/html": [
              "<div>\n",
              "<style scoped>\n",
              "    .dataframe tbody tr th:only-of-type {\n",
              "        vertical-align: middle;\n",
              "    }\n",
              "\n",
              "    .dataframe tbody tr th {\n",
              "        vertical-align: top;\n",
              "    }\n",
              "\n",
              "    .dataframe thead th {\n",
              "        text-align: right;\n",
              "    }\n",
              "</style>\n",
              "<table border=\"1\" class=\"dataframe\">\n",
              "  <thead>\n",
              "    <tr style=\"text-align: right;\">\n",
              "      <th></th>\n",
              "      <th>Churn</th>\n",
              "      <th>Tenure</th>\n",
              "      <th>City_Tier</th>\n",
              "      <th>CC_Contacted_LY</th>\n",
              "      <th>Service_Score</th>\n",
              "      <th>Account_user_count</th>\n",
              "      <th>CC_Agent_Score</th>\n",
              "      <th>rev_per_month</th>\n",
              "      <th>Complain_ly</th>\n",
              "      <th>rev_growth_yoy</th>\n",
              "      <th>coupon_used_for_payment</th>\n",
              "      <th>Day_Since_CC_connect</th>\n",
              "      <th>cashback</th>\n",
              "      <th>Payment_Credit Card</th>\n",
              "      <th>Payment_Debit Card</th>\n",
              "      <th>Payment_E wallet</th>\n",
              "      <th>Payment_UPI</th>\n",
              "      <th>Gender_Male</th>\n",
              "      <th>account_segment_Regular</th>\n",
              "      <th>account_segment_Regular Plus</th>\n",
              "      <th>account_segment_Super</th>\n",
              "      <th>account_segment_Super Plus</th>\n",
              "      <th>Marital_Status_Married</th>\n",
              "      <th>Marital_Status_Single</th>\n",
              "      <th>Login_device_Mobile</th>\n",
              "    </tr>\n",
              "  </thead>\n",
              "  <tbody>\n",
              "    <tr>\n",
              "      <th>0</th>\n",
              "      <td>1.0</td>\n",
              "      <td>4.0</td>\n",
              "      <td>3.0</td>\n",
              "      <td>6.0</td>\n",
              "      <td>3.0</td>\n",
              "      <td>3.0</td>\n",
              "      <td>2.0</td>\n",
              "      <td>9.0</td>\n",
              "      <td>1.0</td>\n",
              "      <td>11.0</td>\n",
              "      <td>1.0</td>\n",
              "      <td>5.0</td>\n",
              "      <td>159.93</td>\n",
              "      <td>0</td>\n",
              "      <td>1</td>\n",
              "      <td>0</td>\n",
              "      <td>0</td>\n",
              "      <td>0</td>\n",
              "      <td>0</td>\n",
              "      <td>0</td>\n",
              "      <td>1</td>\n",
              "      <td>0</td>\n",
              "      <td>0</td>\n",
              "      <td>1</td>\n",
              "      <td>1</td>\n",
              "    </tr>\n",
              "    <tr>\n",
              "      <th>1</th>\n",
              "      <td>1.0</td>\n",
              "      <td>0.0</td>\n",
              "      <td>1.0</td>\n",
              "      <td>8.0</td>\n",
              "      <td>3.0</td>\n",
              "      <td>4.0</td>\n",
              "      <td>3.0</td>\n",
              "      <td>7.0</td>\n",
              "      <td>1.0</td>\n",
              "      <td>15.0</td>\n",
              "      <td>0.0</td>\n",
              "      <td>0.0</td>\n",
              "      <td>120.90</td>\n",
              "      <td>0</td>\n",
              "      <td>0</td>\n",
              "      <td>0</td>\n",
              "      <td>1</td>\n",
              "      <td>1</td>\n",
              "      <td>0</td>\n",
              "      <td>1</td>\n",
              "      <td>0</td>\n",
              "      <td>0</td>\n",
              "      <td>0</td>\n",
              "      <td>1</td>\n",
              "      <td>1</td>\n",
              "    </tr>\n",
              "    <tr>\n",
              "      <th>2</th>\n",
              "      <td>1.0</td>\n",
              "      <td>0.0</td>\n",
              "      <td>1.0</td>\n",
              "      <td>30.0</td>\n",
              "      <td>2.0</td>\n",
              "      <td>4.0</td>\n",
              "      <td>3.0</td>\n",
              "      <td>6.0</td>\n",
              "      <td>1.0</td>\n",
              "      <td>14.0</td>\n",
              "      <td>0.0</td>\n",
              "      <td>3.0</td>\n",
              "      <td>165.25</td>\n",
              "      <td>0</td>\n",
              "      <td>1</td>\n",
              "      <td>0</td>\n",
              "      <td>0</td>\n",
              "      <td>1</td>\n",
              "      <td>0</td>\n",
              "      <td>1</td>\n",
              "      <td>0</td>\n",
              "      <td>0</td>\n",
              "      <td>0</td>\n",
              "      <td>1</td>\n",
              "      <td>1</td>\n",
              "    </tr>\n",
              "    <tr>\n",
              "      <th>3</th>\n",
              "      <td>1.0</td>\n",
              "      <td>0.0</td>\n",
              "      <td>3.0</td>\n",
              "      <td>15.0</td>\n",
              "      <td>2.0</td>\n",
              "      <td>4.0</td>\n",
              "      <td>5.0</td>\n",
              "      <td>8.0</td>\n",
              "      <td>0.0</td>\n",
              "      <td>23.0</td>\n",
              "      <td>0.0</td>\n",
              "      <td>3.0</td>\n",
              "      <td>134.07</td>\n",
              "      <td>0</td>\n",
              "      <td>1</td>\n",
              "      <td>0</td>\n",
              "      <td>0</td>\n",
              "      <td>1</td>\n",
              "      <td>0</td>\n",
              "      <td>0</td>\n",
              "      <td>1</td>\n",
              "      <td>0</td>\n",
              "      <td>0</td>\n",
              "      <td>1</td>\n",
              "      <td>1</td>\n",
              "    </tr>\n",
              "    <tr>\n",
              "      <th>4</th>\n",
              "      <td>1.0</td>\n",
              "      <td>0.0</td>\n",
              "      <td>1.0</td>\n",
              "      <td>12.0</td>\n",
              "      <td>2.0</td>\n",
              "      <td>3.0</td>\n",
              "      <td>5.0</td>\n",
              "      <td>3.0</td>\n",
              "      <td>0.0</td>\n",
              "      <td>11.0</td>\n",
              "      <td>1.0</td>\n",
              "      <td>3.0</td>\n",
              "      <td>129.60</td>\n",
              "      <td>1</td>\n",
              "      <td>0</td>\n",
              "      <td>0</td>\n",
              "      <td>0</td>\n",
              "      <td>1</td>\n",
              "      <td>0</td>\n",
              "      <td>1</td>\n",
              "      <td>0</td>\n",
              "      <td>0</td>\n",
              "      <td>0</td>\n",
              "      <td>1</td>\n",
              "      <td>1</td>\n",
              "    </tr>\n",
              "  </tbody>\n",
              "</table>\n",
              "</div>"
            ],
            "text/plain": [
              "   Churn  Tenure  ...  Marital_Status_Single  Login_device_Mobile\n",
              "0    1.0     4.0  ...                      1                    1\n",
              "1    1.0     0.0  ...                      1                    1\n",
              "2    1.0     0.0  ...                      1                    1\n",
              "3    1.0     0.0  ...                      1                    1\n",
              "4    1.0     0.0  ...                      1                    1\n",
              "\n",
              "[5 rows x 25 columns]"
            ]
          },
          "metadata": {},
          "execution_count": 24
        }
      ]
    },
    {
      "cell_type": "code",
      "metadata": {
        "colab": {
          "base_uri": "https://localhost:8080/"
        },
        "id": "-X4o5rwtVE74",
        "outputId": "ddfaf0ff-51d0-48d8-e2c1-daba00ab6f76"
      },
      "source": [
        "data.shape"
      ],
      "execution_count": null,
      "outputs": [
        {
          "output_type": "execute_result",
          "data": {
            "text/plain": [
              "(11260, 25)"
            ]
          },
          "metadata": {},
          "execution_count": 25
        }
      ]
    },
    {
      "cell_type": "code",
      "metadata": {
        "colab": {
          "base_uri": "https://localhost:8080/",
          "height": 902
        },
        "id": "fD1Js8WqVI0F",
        "outputId": "4de8f8bb-ae20-4b79-c577-92a01c9c0742"
      },
      "source": [
        "#Outlier treatment\n",
        "plt.figure(figsize=(15,10))\n",
        "a = data[num].boxplot()\n",
        "a.set_xticklabels(a.get_xticklabels() ,rotation=40, ha=\"right\")"
      ],
      "execution_count": null,
      "outputs": [
        {
          "output_type": "execute_result",
          "data": {
            "text/plain": [
              "[Text(0, 0, 'Churn'),\n",
              " Text(0, 0, 'Tenure'),\n",
              " Text(0, 0, 'City_Tier'),\n",
              " Text(0, 0, 'CC_Contacted_LY'),\n",
              " Text(0, 0, 'Service_Score'),\n",
              " Text(0, 0, 'Account_user_count'),\n",
              " Text(0, 0, 'CC_Agent_Score'),\n",
              " Text(0, 0, 'rev_per_month'),\n",
              " Text(0, 0, 'Complain_ly'),\n",
              " Text(0, 0, 'rev_growth_yoy'),\n",
              " Text(0, 0, 'coupon_used_for_payment'),\n",
              " Text(0, 0, 'Day_Since_CC_connect'),\n",
              " Text(0, 0, 'cashback')]"
            ]
          },
          "metadata": {},
          "execution_count": 26
        },
        {
          "output_type": "display_data",
          "data": {
            "image/png": "[encoded data removed]",
            "text/plain": [
              "<Figure size 1080x720 with 1 Axes>"
            ]
          },
          "metadata": {
            "needs_background": "light"
          }
        }
      ]
    },
    {
      "cell_type": "code",
      "metadata": {
        "colab": {
          "base_uri": "https://localhost:8080/"
        },
        "id": "0mhe6qJ1VUmG",
        "outputId": "d4de0e07-2dda-44f3-bab3-2b1963c8713c"
      },
      "source": [
        "num"
      ],
      "execution_count": null,
      "outputs": [
        {
          "output_type": "execute_result",
          "data": {
            "text/plain": [
              "['Churn',\n",
              " 'Tenure',\n",
              " 'City_Tier',\n",
              " 'CC_Contacted_LY',\n",
              " 'Service_Score',\n",
              " 'Account_user_count',\n",
              " 'CC_Agent_Score',\n",
              " 'rev_per_month',\n",
              " 'Complain_ly',\n",
              " 'rev_growth_yoy',\n",
              " 'coupon_used_for_payment',\n",
              " 'Day_Since_CC_connect',\n",
              " 'cashback']"
            ]
          },
          "metadata": {},
          "execution_count": 27
        }
      ]
    },
    {
      "cell_type": "code",
      "metadata": {
        "id": "tehjgPHQVZbb"
      },
      "source": [
        "cols = {'Churn','CityTier','Service_Score','Account_user_count','CC_Agent_Score','Complain_ly'}"
      ],
      "execution_count": null,
      "outputs": []
    },
    {
      "cell_type": "code",
      "metadata": {
        "colab": {
          "base_uri": "https://localhost:8080/"
        },
        "id": "UFezQDP5WEWI",
        "outputId": "95240612-34e1-409c-8d15-b077d21120e0"
      },
      "source": [
        "num1 = [ele for ele in num if ele not in cols]\n",
        "print(num1)"
      ],
      "execution_count": null,
      "outputs": [
        {
          "output_type": "stream",
          "name": "stdout",
          "text": [
            "['Tenure', 'City_Tier', 'CC_Contacted_LY', 'rev_per_month', 'rev_growth_yoy', 'coupon_used_for_payment', 'Day_Since_CC_connect', 'cashback']\n"
          ]
        }
      ]
    },
    {
      "cell_type": "code",
      "metadata": {
        "colab": {
          "base_uri": "https://localhost:8080/",
          "height": 815
        },
        "id": "439TnqRJWJMM",
        "outputId": "38f744b2-2b72-4f84-d796-0c1809809d16"
      },
      "source": [
        "plt.figure(figsize=(15,10))\n",
        "a = data[num1].boxplot()\n",
        "a.set_xticklabels(a.get_xticklabels() ,rotation=40, ha=\"right\")"
      ],
      "execution_count": null,
      "outputs": [
        {
          "output_type": "execute_result",
          "data": {
            "text/plain": [
              "[Text(0, 0, 'Tenure'),\n",
              " Text(0, 0, 'City_Tier'),\n",
              " Text(0, 0, 'CC_Contacted_LY'),\n",
              " Text(0, 0, 'rev_per_month'),\n",
              " Text(0, 0, 'rev_growth_yoy'),\n",
              " Text(0, 0, 'coupon_used_for_payment'),\n",
              " Text(0, 0, 'Day_Since_CC_connect'),\n",
              " Text(0, 0, 'cashback')]"
            ]
          },
          "metadata": {},
          "execution_count": 30
        },
        {
          "output_type": "display_data",
          "data": {
            "image/png": "[encoded data removed]",
            "text/plain": [
              "<Figure size 1080x720 with 1 Axes>"
            ]
          },
          "metadata": {
            "needs_background": "light"
          }
        }
      ]
    },
    {
      "cell_type": "code",
      "metadata": {
        "id": "Am-PNWFPWNT7"
      },
      "source": [
        "def remove_outliers(col):\n",
        "    sorted(col)\n",
        "    Q1, Q3 = np.percentile(col, [25,75])\n",
        "    IQR = Q3-Q1\n",
        "    lower_range = Q1-(1.5*IQR) \n",
        "    upper_range = Q3+(1.5*IQR)\n",
        "    return lower_range, upper_range"
      ],
      "execution_count": null,
      "outputs": []
    },
    {
      "cell_type": "code",
      "metadata": {
        "id": "VZ-SyzQ8WQKU"
      },
      "source": [
        "for column in data[num1].columns:\n",
        "    lr,ur=remove_outliers(data[column])\n",
        "    data[column]=np.where(data[column]>ur,ur,data[column])\n",
        "    data[column]=np.where(data[column]<lr,lr,data[column])"
      ],
      "execution_count": null,
      "outputs": []
    },
    {
      "cell_type": "code",
      "metadata": {
        "colab": {
          "base_uri": "https://localhost:8080/",
          "height": 815
        },
        "id": "_zM9luRgWSma",
        "outputId": "f48f3a32-358d-40db-f203-0c62261ce1d9"
      },
      "source": [
        "plt.figure(figsize=(15,10))\n",
        "a = data[num1].boxplot()\n",
        "a.set_xticklabels(a.get_xticklabels(), rotation=40)"
      ],
      "execution_count": null,
      "outputs": [
        {
          "output_type": "execute_result",
          "data": {
            "text/plain": [
              "[Text(0, 0, 'Tenure'),\n",
              " Text(0, 0, 'City_Tier'),\n",
              " Text(0, 0, 'CC_Contacted_LY'),\n",
              " Text(0, 0, 'rev_per_month'),\n",
              " Text(0, 0, 'rev_growth_yoy'),\n",
              " Text(0, 0, 'coupon_used_for_payment'),\n",
              " Text(0, 0, 'Day_Since_CC_connect'),\n",
              " Text(0, 0, 'cashback')]"
            ]
          },
          "metadata": {},
          "execution_count": 33
        },
        {
          "output_type": "display_data",
          "data": {
            "image/png": "[encoded data removed]",
            "text/plain": [
              "<Figure size 1080x720 with 1 Axes>"
            ]
          },
          "metadata": {
            "needs_background": "light"
          }
        }
      ]
    },
    {
      "cell_type": "code",
      "metadata": {
        "id": "AAULGirVWVyY"
      },
      "source": [
        "# Scaling\n",
        "from sklearn.preprocessing import StandardScaler"
      ],
      "execution_count": null,
      "outputs": []
    },
    {
      "cell_type": "code",
      "metadata": {
        "colab": {
          "base_uri": "https://localhost:8080/"
        },
        "id": "cwEanYgoWbH_",
        "outputId": "2b349725-899b-4f8e-e81e-c093e32b7e61"
      },
      "source": [
        "scaler = StandardScaler()\n",
        "df1 = scaler.fit_transform(data)\n",
        "df1"
      ],
      "execution_count": null,
      "outputs": [
        {
          "output_type": "execute_result",
          "data": {
            "text/plain": [
              "array([[ 2.22234528, -0.70331481,  1.48191371, ..., -1.04172222,\n",
              "         1.48285658,  0.71059496],\n",
              "       [ 2.22234528, -1.15333398, -0.70933361, ..., -1.04172222,\n",
              "         1.48285658,  0.71059496],\n",
              "       [ 2.22234528, -1.15333398, -0.70933361, ..., -1.04172222,\n",
              "         1.48285658,  0.71059496],\n",
              "       ...,\n",
              "       [-0.44997508, -1.04082919, -0.70933361, ...,  0.9599488 ,\n",
              "        -0.67437405,  0.71059496],\n",
              "       [-0.44997508,  1.43427623,  1.48191371, ...,  0.9599488 ,\n",
              "        -0.67437405, -1.40727144],\n",
              "       [-0.44997508, -0.25329565, -0.70933361, ...,  0.9599488 ,\n",
              "        -0.67437405,  0.71059496]])"
            ]
          },
          "metadata": {},
          "execution_count": 35
        }
      ]
    },
    {
      "cell_type": "code",
      "metadata": {
        "colab": {
          "base_uri": "https://localhost:8080/",
          "height": 244
        },
        "id": "kC6bdmlzWgby",
        "outputId": "d9fb8f3b-6e4e-49f1-b908-86d82e3cefaf"
      },
      "source": [
        "df1 = pd.DataFrame(df1, columns= data.columns, index = data.index)\n",
        "df1.head()"
      ],
      "execution_count": null,
      "outputs": [
        {
          "output_type": "execute_result",
          "data": {
            "text/html": [
              "<div>\n",
              "<style scoped>\n",
              "    .dataframe tbody tr th:only-of-type {\n",
              "        vertical-align: middle;\n",
              "    }\n",
              "\n",
              "    .dataframe tbody tr th {\n",
              "        vertical-align: top;\n",
              "    }\n",
              "\n",
              "    .dataframe thead th {\n",
              "        text-align: right;\n",
              "    }\n",
              "</style>\n",
              "<table border=\"1\" class=\"dataframe\">\n",
              "  <thead>\n",
              "    <tr style=\"text-align: right;\">\n",
              "      <th></th>\n",
              "      <th>Churn</th>\n",
              "      <th>Tenure</th>\n",
              "      <th>City_Tier</th>\n",
              "      <th>CC_Contacted_LY</th>\n",
              "      <th>Service_Score</th>\n",
              "      <th>Account_user_count</th>\n",
              "      <th>CC_Agent_Score</th>\n",
              "      <th>rev_per_month</th>\n",
              "      <th>Complain_ly</th>\n",
              "      <th>rev_growth_yoy</th>\n",
              "      <th>coupon_used_for_payment</th>\n",
              "      <th>Day_Since_CC_connect</th>\n",
              "      <th>cashback</th>\n",
              "      <th>Payment_Credit Card</th>\n",
              "      <th>Payment_Debit Card</th>\n",
              "      <th>Payment_E wallet</th>\n",
              "      <th>Payment_UPI</th>\n",
              "      <th>Gender_Male</th>\n",
              "      <th>account_segment_Regular</th>\n",
              "      <th>account_segment_Regular Plus</th>\n",
              "      <th>account_segment_Super</th>\n",
              "      <th>account_segment_Super Plus</th>\n",
              "      <th>Marital_Status_Married</th>\n",
              "      <th>Marital_Status_Single</th>\n",
              "      <th>Login_device_Mobile</th>\n",
              "    </tr>\n",
              "  </thead>\n",
              "  <tbody>\n",
              "    <tr>\n",
              "      <th>0</th>\n",
              "      <td>2.222345</td>\n",
              "      <td>-0.703315</td>\n",
              "      <td>1.481914</td>\n",
              "      <td>-1.379652</td>\n",
              "      <td>0.133748</td>\n",
              "      <td>-0.701928</td>\n",
              "      <td>-0.776488</td>\n",
              "      <td>1.302037</td>\n",
              "      <td>1.618461</td>\n",
              "      <td>-1.382201</td>\n",
              "      <td>-0.431239</td>\n",
              "      <td>0.129884</td>\n",
              "      <td>-0.398295</td>\n",
              "      <td>-0.673120</td>\n",
              "      <td>1.206136</td>\n",
              "      <td>-0.348108</td>\n",
              "      <td>-0.280626</td>\n",
              "      <td>-1.213040</td>\n",
              "      <td>-0.220039</td>\n",
              "      <td>-0.760207</td>\n",
              "      <td>1.331177</td>\n",
              "      <td>-0.279888</td>\n",
              "      <td>-1.041722</td>\n",
              "      <td>1.482857</td>\n",
              "      <td>0.710595</td>\n",
              "    </tr>\n",
              "    <tr>\n",
              "      <th>1</th>\n",
              "      <td>2.222345</td>\n",
              "      <td>-1.153334</td>\n",
              "      <td>-0.709334</td>\n",
              "      <td>-1.146110</td>\n",
              "      <td>0.133748</td>\n",
              "      <td>0.293752</td>\n",
              "      <td>-0.047944</td>\n",
              "      <td>0.607469</td>\n",
              "      <td>1.618461</td>\n",
              "      <td>-0.317551</td>\n",
              "      <td>-1.338515</td>\n",
              "      <td>-1.301411</td>\n",
              "      <td>-1.294067</td>\n",
              "      <td>-0.673120</td>\n",
              "      <td>-0.829094</td>\n",
              "      <td>-0.348108</td>\n",
              "      <td>3.563467</td>\n",
              "      <td>0.824375</td>\n",
              "      <td>-0.220039</td>\n",
              "      <td>1.315431</td>\n",
              "      <td>-0.751215</td>\n",
              "      <td>-0.279888</td>\n",
              "      <td>-1.041722</td>\n",
              "      <td>1.482857</td>\n",
              "      <td>0.710595</td>\n",
              "    </tr>\n",
              "    <tr>\n",
              "      <th>2</th>\n",
              "      <td>2.222345</td>\n",
              "      <td>-1.153334</td>\n",
              "      <td>-0.709334</td>\n",
              "      <td>1.422855</td>\n",
              "      <td>-1.250443</td>\n",
              "      <td>0.293752</td>\n",
              "      <td>-0.047944</td>\n",
              "      <td>0.260185</td>\n",
              "      <td>1.618461</td>\n",
              "      <td>-0.583714</td>\n",
              "      <td>-1.338515</td>\n",
              "      <td>-0.442634</td>\n",
              "      <td>-0.276197</td>\n",
              "      <td>-0.673120</td>\n",
              "      <td>1.206136</td>\n",
              "      <td>-0.348108</td>\n",
              "      <td>-0.280626</td>\n",
              "      <td>0.824375</td>\n",
              "      <td>-0.220039</td>\n",
              "      <td>1.315431</td>\n",
              "      <td>-0.751215</td>\n",
              "      <td>-0.279888</td>\n",
              "      <td>-1.041722</td>\n",
              "      <td>1.482857</td>\n",
              "      <td>0.710595</td>\n",
              "    </tr>\n",
              "    <tr>\n",
              "      <th>3</th>\n",
              "      <td>2.222345</td>\n",
              "      <td>-1.153334</td>\n",
              "      <td>1.481914</td>\n",
              "      <td>-0.328712</td>\n",
              "      <td>-1.250443</td>\n",
              "      <td>0.293752</td>\n",
              "      <td>1.409143</td>\n",
              "      <td>0.954753</td>\n",
              "      <td>-0.617871</td>\n",
              "      <td>1.811748</td>\n",
              "      <td>-1.338515</td>\n",
              "      <td>-0.442634</td>\n",
              "      <td>-0.991804</td>\n",
              "      <td>-0.673120</td>\n",
              "      <td>1.206136</td>\n",
              "      <td>-0.348108</td>\n",
              "      <td>-0.280626</td>\n",
              "      <td>0.824375</td>\n",
              "      <td>-0.220039</td>\n",
              "      <td>-0.760207</td>\n",
              "      <td>1.331177</td>\n",
              "      <td>-0.279888</td>\n",
              "      <td>-1.041722</td>\n",
              "      <td>1.482857</td>\n",
              "      <td>0.710595</td>\n",
              "    </tr>\n",
              "    <tr>\n",
              "      <th>4</th>\n",
              "      <td>2.222345</td>\n",
              "      <td>-1.153334</td>\n",
              "      <td>-0.709334</td>\n",
              "      <td>-0.679025</td>\n",
              "      <td>-1.250443</td>\n",
              "      <td>-0.701928</td>\n",
              "      <td>1.409143</td>\n",
              "      <td>-0.781666</td>\n",
              "      <td>-0.617871</td>\n",
              "      <td>-1.382201</td>\n",
              "      <td>-0.431239</td>\n",
              "      <td>-0.442634</td>\n",
              "      <td>-1.094395</td>\n",
              "      <td>1.485619</td>\n",
              "      <td>-0.829094</td>\n",
              "      <td>-0.348108</td>\n",
              "      <td>-0.280626</td>\n",
              "      <td>0.824375</td>\n",
              "      <td>-0.220039</td>\n",
              "      <td>1.315431</td>\n",
              "      <td>-0.751215</td>\n",
              "      <td>-0.279888</td>\n",
              "      <td>-1.041722</td>\n",
              "      <td>1.482857</td>\n",
              "      <td>0.710595</td>\n",
              "    </tr>\n",
              "  </tbody>\n",
              "</table>\n",
              "</div>"
            ],
            "text/plain": [
              "      Churn    Tenure  ...  Marital_Status_Single  Login_device_Mobile\n",
              "0  2.222345 -0.703315  ...               1.482857             0.710595\n",
              "1  2.222345 -1.153334  ...               1.482857             0.710595\n",
              "2  2.222345 -1.153334  ...               1.482857             0.710595\n",
              "3  2.222345 -1.153334  ...               1.482857             0.710595\n",
              "4  2.222345 -1.153334  ...               1.482857             0.710595\n",
              "\n",
              "[5 rows x 25 columns]"
            ]
          },
          "metadata": {},
          "execution_count": 36
        }
      ]
    },
    {
      "cell_type": "code",
      "metadata": {
        "id": "OLkpTKWIWpVZ"
      },
      "source": [
        "# K-Means Clustering\n",
        "from sklearn.cluster import KMeans \n"
      ],
      "execution_count": null,
      "outputs": []
    },
    {
      "cell_type": "code",
      "metadata": {
        "id": "tnmE8yEsWwUa"
      },
      "source": [
        "wss = []\n",
        "\n",
        "for i in range(1,8):\n",
        "    KM = KMeans(n_clusters=i)\n",
        "    KM.fit(df1)\n",
        "    wss.append(KM.inertia_)"
      ],
      "execution_count": null,
      "outputs": []
    },
    {
      "cell_type": "code",
      "metadata": {
        "colab": {
          "base_uri": "https://localhost:8080/"
        },
        "id": "HKLP7EXuWziI",
        "outputId": "f3059f33-ec4e-4638-95ec-37767a086785"
      },
      "source": [
        "wss\n"
      ],
      "execution_count": null,
      "outputs": [
        {
          "output_type": "execute_result",
          "data": {
            "text/plain": [
              "[281499.9999999996,\n",
              " 257181.94342500664,\n",
              " 239630.6582012925,\n",
              " 227502.94372655416,\n",
              " 215577.66486764525,\n",
              " 207928.42394701685,\n",
              " 198124.17490932933]"
            ]
          },
          "metadata": {},
          "execution_count": 39
        }
      ]
    },
    {
      "cell_type": "code",
      "metadata": {
        "colab": {
          "base_uri": "https://localhost:8080/",
          "height": 514
        },
        "id": "JANrnnyVW2Wi",
        "outputId": "47954059-fb2b-4f4c-f5f0-d39ffee0d466"
      },
      "source": [
        "plt.figure(figsize=(12,8))\n",
        "plt.plot(range(1,8), wss)\n",
        "plt.title('Within Sum of Squares plot.png')\n",
        "plt.grid()\n",
        "#plt.savefig('q1_Within Sum of Squares plot.jpg')\n",
        "plt.ylabel('WSS')\n",
        "plt.xlabel('number of k_clusters')\n",
        "plt.show()"
      ],
      "execution_count": null,
      "outputs": [
        {
          "output_type": "display_data",
          "data": {
            "image/png": "[encoded data removed]",
            "text/plain": [
              "<Figure size 864x576 with 1 Axes>"
            ]
          },
          "metadata": {
            "needs_background": "light"
          }
        }
      ]
    },
    {
      "cell_type": "code",
      "metadata": {
        "colab": {
          "base_uri": "https://localhost:8080/"
        },
        "id": "5MzrYKiiW8CX",
        "outputId": "e1a00032-7dd6-407c-8e8b-dd66aa6128ec"
      },
      "source": [
        "#Performing k-means with 2 clusters\n",
        "KM = KMeans(n_clusters=2, random_state=1)\n",
        "KM.fit(df1)"
      ],
      "execution_count": null,
      "outputs": [
        {
          "output_type": "execute_result",
          "data": {
            "text/plain": [
              "KMeans(n_clusters=2, random_state=1)"
            ]
          },
          "metadata": {},
          "execution_count": 41
        }
      ]
    },
    {
      "cell_type": "code",
      "metadata": {
        "colab": {
          "base_uri": "https://localhost:8080/"
        },
        "id": "qWZCxuVjW-un",
        "outputId": "dd8da6fa-3330-4d25-fe20-cc4d3e50bc1b"
      },
      "source": [
        "labels1 = KM.labels_\n",
        "labels1"
      ],
      "execution_count": null,
      "outputs": [
        {
          "output_type": "execute_result",
          "data": {
            "text/plain": [
              "array([0, 1, 1, ..., 0, 0, 0], dtype=int32)"
            ]
          },
          "metadata": {},
          "execution_count": 42
        }
      ]
    },
    {
      "cell_type": "code",
      "metadata": {
        "colab": {
          "base_uri": "https://localhost:8080/",
          "height": 1000
        },
        "id": "PAP0OFU-XFDu",
        "outputId": "3fd41c95-cf09-4197-e4df-442c3373fc66"
      },
      "source": [
        "df2 = data.copy()\n",
        "plt.figure(figsize=(20,20))\n",
        "\n",
        "corr1= df2.corr()\n",
        "# Getting the Upper Triangle of the co-relation matrix\n",
        "matrix = np.triu(corr1)\n",
        "# using the upper triangle matrix as mask \n",
        "sns.heatmap(corr1, annot=True, mask=matrix)\n",
        "\n",
        "plt.title('Heatmap with Lower Diagnal')"
      ],
      "execution_count": null,
      "outputs": [
        {
          "output_type": "execute_result",
          "data": {
            "text/plain": [
              "Text(0.5, 1.0, 'Heatmap with Lower Diagnal')"
            ]
          },
          "metadata": {},
          "execution_count": 43
        },
        {
          "output_type": "display_data",
          "data": {
            "image/png": "[encoded data removed]",
            "text/plain": [
              "<Figure size 1440x1440 with 2 Axes>"
            ]
          },
          "metadata": {
            "needs_background": "light"
          }
        }
      ]
    },
    {
      "cell_type": "code",
      "metadata": {
        "id": "Kas2DEn8XlXd"
      },
      "source": [
        "DATA = df1.copy()\n",
        "X = DATA.drop('Churn', axis=1)"
      ],
      "execution_count": null,
      "outputs": []
    },
    {
      "cell_type": "code",
      "metadata": {
        "id": "1ZZGcotwXqWB"
      },
      "source": [
        "from statsmodels.stats.outliers_influence import variance_inflation_factor"
      ],
      "execution_count": null,
      "outputs": []
    },
    {
      "cell_type": "code",
      "metadata": {
        "id": "jOvAXhYPXsTS"
      },
      "source": [
        "vif_data = pd.DataFrame() \n",
        "vif_data[\"feature\"] = X.columns \n",
        "\n",
        "vif_data[\"VIF\"] = [variance_inflation_factor(X.values, i) \n",
        "                          for i in range(len(X.columns))] "
      ],
      "execution_count": null,
      "outputs": []
    },
    {
      "cell_type": "code",
      "metadata": {
        "colab": {
          "base_uri": "https://localhost:8080/",
          "height": 802
        },
        "id": "rGtsA6WSXvhx",
        "outputId": "d912d7dd-2f33-44c6-c725-4d46c2dc2bf3"
      },
      "source": [
        "vif_data.sort_values(by='VIF', ascending=False)"
      ],
      "execution_count": null,
      "outputs": [
        {
          "output_type": "execute_result",
          "data": {
            "text/html": [
              "<div>\n",
              "<style scoped>\n",
              "    .dataframe tbody tr th:only-of-type {\n",
              "        vertical-align: middle;\n",
              "    }\n",
              "\n",
              "    .dataframe tbody tr th {\n",
              "        vertical-align: top;\n",
              "    }\n",
              "\n",
              "    .dataframe thead th {\n",
              "        text-align: right;\n",
              "    }\n",
              "</style>\n",
              "<table border=\"1\" class=\"dataframe\">\n",
              "  <thead>\n",
              "    <tr style=\"text-align: right;\">\n",
              "      <th></th>\n",
              "      <th>feature</th>\n",
              "      <th>VIF</th>\n",
              "    </tr>\n",
              "  </thead>\n",
              "  <tbody>\n",
              "    <tr>\n",
              "      <th>18</th>\n",
              "      <td>account_segment_Regular Plus</td>\n",
              "      <td>4.704377</td>\n",
              "    </tr>\n",
              "    <tr>\n",
              "      <th>11</th>\n",
              "      <td>cashback</td>\n",
              "      <td>4.583975</td>\n",
              "    </tr>\n",
              "    <tr>\n",
              "      <th>13</th>\n",
              "      <td>Payment_Debit Card</td>\n",
              "      <td>3.043911</td>\n",
              "    </tr>\n",
              "    <tr>\n",
              "      <th>19</th>\n",
              "      <td>account_segment_Super</td>\n",
              "      <td>2.963643</td>\n",
              "    </tr>\n",
              "    <tr>\n",
              "      <th>12</th>\n",
              "      <td>Payment_Credit Card</td>\n",
              "      <td>2.873559</td>\n",
              "    </tr>\n",
              "    <tr>\n",
              "      <th>14</th>\n",
              "      <td>Payment_E wallet</td>\n",
              "      <td>2.205188</td>\n",
              "    </tr>\n",
              "    <tr>\n",
              "      <th>22</th>\n",
              "      <td>Marital_Status_Single</td>\n",
              "      <td>2.005570</td>\n",
              "    </tr>\n",
              "    <tr>\n",
              "      <th>21</th>\n",
              "      <td>Marital_Status_Married</td>\n",
              "      <td>1.986632</td>\n",
              "    </tr>\n",
              "    <tr>\n",
              "      <th>20</th>\n",
              "      <td>account_segment_Super Plus</td>\n",
              "      <td>1.831577</td>\n",
              "    </tr>\n",
              "    <tr>\n",
              "      <th>17</th>\n",
              "      <td>account_segment_Regular</td>\n",
              "      <td>1.667570</td>\n",
              "    </tr>\n",
              "    <tr>\n",
              "      <th>15</th>\n",
              "      <td>Payment_UPI</td>\n",
              "      <td>1.621753</td>\n",
              "    </tr>\n",
              "    <tr>\n",
              "      <th>1</th>\n",
              "      <td>City_Tier</td>\n",
              "      <td>1.455435</td>\n",
              "    </tr>\n",
              "    <tr>\n",
              "      <th>0</th>\n",
              "      <td>Tenure</td>\n",
              "      <td>1.358754</td>\n",
              "    </tr>\n",
              "    <tr>\n",
              "      <th>10</th>\n",
              "      <td>Day_Since_CC_connect</td>\n",
              "      <td>1.327646</td>\n",
              "    </tr>\n",
              "    <tr>\n",
              "      <th>3</th>\n",
              "      <td>Service_Score</td>\n",
              "      <td>1.298033</td>\n",
              "    </tr>\n",
              "    <tr>\n",
              "      <th>9</th>\n",
              "      <td>coupon_used_for_payment</td>\n",
              "      <td>1.275334</td>\n",
              "    </tr>\n",
              "    <tr>\n",
              "      <th>4</th>\n",
              "      <td>Account_user_count</td>\n",
              "      <td>1.166261</td>\n",
              "    </tr>\n",
              "    <tr>\n",
              "      <th>6</th>\n",
              "      <td>rev_per_month</td>\n",
              "      <td>1.102277</td>\n",
              "    </tr>\n",
              "    <tr>\n",
              "      <th>8</th>\n",
              "      <td>rev_growth_yoy</td>\n",
              "      <td>1.027709</td>\n",
              "    </tr>\n",
              "    <tr>\n",
              "      <th>2</th>\n",
              "      <td>CC_Contacted_LY</td>\n",
              "      <td>1.027385</td>\n",
              "    </tr>\n",
              "    <tr>\n",
              "      <th>5</th>\n",
              "      <td>CC_Agent_Score</td>\n",
              "      <td>1.016824</td>\n",
              "    </tr>\n",
              "    <tr>\n",
              "      <th>16</th>\n",
              "      <td>Gender_Male</td>\n",
              "      <td>1.015583</td>\n",
              "    </tr>\n",
              "    <tr>\n",
              "      <th>23</th>\n",
              "      <td>Login_device_Mobile</td>\n",
              "      <td>1.011544</td>\n",
              "    </tr>\n",
              "    <tr>\n",
              "      <th>7</th>\n",
              "      <td>Complain_ly</td>\n",
              "      <td>1.008062</td>\n",
              "    </tr>\n",
              "  </tbody>\n",
              "</table>\n",
              "</div>"
            ],
            "text/plain": [
              "                         feature       VIF\n",
              "18  account_segment_Regular Plus  4.704377\n",
              "11                      cashback  4.583975\n",
              "13            Payment_Debit Card  3.043911\n",
              "19         account_segment_Super  2.963643\n",
              "12           Payment_Credit Card  2.873559\n",
              "14              Payment_E wallet  2.205188\n",
              "22         Marital_Status_Single  2.005570\n",
              "21        Marital_Status_Married  1.986632\n",
              "20    account_segment_Super Plus  1.831577\n",
              "17       account_segment_Regular  1.667570\n",
              "15                   Payment_UPI  1.621753\n",
              "1                      City_Tier  1.455435\n",
              "0                         Tenure  1.358754\n",
              "10          Day_Since_CC_connect  1.327646\n",
              "3                  Service_Score  1.298033\n",
              "9        coupon_used_for_payment  1.275334\n",
              "4             Account_user_count  1.166261\n",
              "6                  rev_per_month  1.102277\n",
              "8                 rev_growth_yoy  1.027709\n",
              "2                CC_Contacted_LY  1.027385\n",
              "5                 CC_Agent_Score  1.016824\n",
              "16                   Gender_Male  1.015583\n",
              "23           Login_device_Mobile  1.011544\n",
              "7                    Complain_ly  1.008062"
            ]
          },
          "metadata": {},
          "execution_count": 47
        }
      ]
    },
    {
      "cell_type": "code",
      "metadata": {
        "id": "fKXWQwPcYB7N"
      },
      "source": [
        "# Train Test Splitting and Scaling"
      ],
      "execution_count": null,
      "outputs": []
    },
    {
      "cell_type": "code",
      "metadata": {
        "id": "MtglUuZQX1BI"
      },
      "source": [
        "data.to_csv('churn_base.csv', index=False)\n",
        "df2.to_csv('churn_clustered.csv', index=False)"
      ],
      "execution_count": null,
      "outputs": []
    },
    {
      "cell_type": "code",
      "metadata": {
        "colab": {
          "base_uri": "https://localhost:8080/",
          "height": 244
        },
        "id": "Wqa_1yB_X2oM",
        "outputId": "92321433-fb69-4fb0-d519-f82aef0afbcb"
      },
      "source": [
        "data = pd.read_csv('churn_base.csv')\n",
        "data.head()"
      ],
      "execution_count": null,
      "outputs": [
        {
          "output_type": "execute_result",
          "data": {
            "text/html": [
              "<div>\n",
              "<style scoped>\n",
              "    .dataframe tbody tr th:only-of-type {\n",
              "        vertical-align: middle;\n",
              "    }\n",
              "\n",
              "    .dataframe tbody tr th {\n",
              "        vertical-align: top;\n",
              "    }\n",
              "\n",
              "    .dataframe thead th {\n",
              "        text-align: right;\n",
              "    }\n",
              "</style>\n",
              "<table border=\"1\" class=\"dataframe\">\n",
              "  <thead>\n",
              "    <tr style=\"text-align: right;\">\n",
              "      <th></th>\n",
              "      <th>Churn</th>\n",
              "      <th>Tenure</th>\n",
              "      <th>City_Tier</th>\n",
              "      <th>CC_Contacted_LY</th>\n",
              "      <th>Service_Score</th>\n",
              "      <th>Account_user_count</th>\n",
              "      <th>CC_Agent_Score</th>\n",
              "      <th>rev_per_month</th>\n",
              "      <th>Complain_ly</th>\n",
              "      <th>rev_growth_yoy</th>\n",
              "      <th>coupon_used_for_payment</th>\n",
              "      <th>Day_Since_CC_connect</th>\n",
              "      <th>cashback</th>\n",
              "      <th>Payment_Credit Card</th>\n",
              "      <th>Payment_Debit Card</th>\n",
              "      <th>Payment_E wallet</th>\n",
              "      <th>Payment_UPI</th>\n",
              "      <th>Gender_Male</th>\n",
              "      <th>account_segment_Regular</th>\n",
              "      <th>account_segment_Regular Plus</th>\n",
              "      <th>account_segment_Super</th>\n",
              "      <th>account_segment_Super Plus</th>\n",
              "      <th>Marital_Status_Married</th>\n",
              "      <th>Marital_Status_Single</th>\n",
              "      <th>Login_device_Mobile</th>\n",
              "    </tr>\n",
              "  </thead>\n",
              "  <tbody>\n",
              "    <tr>\n",
              "      <th>0</th>\n",
              "      <td>1.0</td>\n",
              "      <td>4.0</td>\n",
              "      <td>3.0</td>\n",
              "      <td>6.0</td>\n",
              "      <td>3.0</td>\n",
              "      <td>3.0</td>\n",
              "      <td>2.0</td>\n",
              "      <td>9.0</td>\n",
              "      <td>1.0</td>\n",
              "      <td>11.0</td>\n",
              "      <td>1.0</td>\n",
              "      <td>5.0</td>\n",
              "      <td>159.93</td>\n",
              "      <td>0</td>\n",
              "      <td>1</td>\n",
              "      <td>0</td>\n",
              "      <td>0</td>\n",
              "      <td>0</td>\n",
              "      <td>0</td>\n",
              "      <td>0</td>\n",
              "      <td>1</td>\n",
              "      <td>0</td>\n",
              "      <td>0</td>\n",
              "      <td>1</td>\n",
              "      <td>1</td>\n",
              "    </tr>\n",
              "    <tr>\n",
              "      <th>1</th>\n",
              "      <td>1.0</td>\n",
              "      <td>0.0</td>\n",
              "      <td>1.0</td>\n",
              "      <td>8.0</td>\n",
              "      <td>3.0</td>\n",
              "      <td>4.0</td>\n",
              "      <td>3.0</td>\n",
              "      <td>7.0</td>\n",
              "      <td>1.0</td>\n",
              "      <td>15.0</td>\n",
              "      <td>0.0</td>\n",
              "      <td>0.0</td>\n",
              "      <td>120.90</td>\n",
              "      <td>0</td>\n",
              "      <td>0</td>\n",
              "      <td>0</td>\n",
              "      <td>1</td>\n",
              "      <td>1</td>\n",
              "      <td>0</td>\n",
              "      <td>1</td>\n",
              "      <td>0</td>\n",
              "      <td>0</td>\n",
              "      <td>0</td>\n",
              "      <td>1</td>\n",
              "      <td>1</td>\n",
              "    </tr>\n",
              "    <tr>\n",
              "      <th>2</th>\n",
              "      <td>1.0</td>\n",
              "      <td>0.0</td>\n",
              "      <td>1.0</td>\n",
              "      <td>30.0</td>\n",
              "      <td>2.0</td>\n",
              "      <td>4.0</td>\n",
              "      <td>3.0</td>\n",
              "      <td>6.0</td>\n",
              "      <td>1.0</td>\n",
              "      <td>14.0</td>\n",
              "      <td>0.0</td>\n",
              "      <td>3.0</td>\n",
              "      <td>165.25</td>\n",
              "      <td>0</td>\n",
              "      <td>1</td>\n",
              "      <td>0</td>\n",
              "      <td>0</td>\n",
              "      <td>1</td>\n",
              "      <td>0</td>\n",
              "      <td>1</td>\n",
              "      <td>0</td>\n",
              "      <td>0</td>\n",
              "      <td>0</td>\n",
              "      <td>1</td>\n",
              "      <td>1</td>\n",
              "    </tr>\n",
              "    <tr>\n",
              "      <th>3</th>\n",
              "      <td>1.0</td>\n",
              "      <td>0.0</td>\n",
              "      <td>3.0</td>\n",
              "      <td>15.0</td>\n",
              "      <td>2.0</td>\n",
              "      <td>4.0</td>\n",
              "      <td>5.0</td>\n",
              "      <td>8.0</td>\n",
              "      <td>0.0</td>\n",
              "      <td>23.0</td>\n",
              "      <td>0.0</td>\n",
              "      <td>3.0</td>\n",
              "      <td>134.07</td>\n",
              "      <td>0</td>\n",
              "      <td>1</td>\n",
              "      <td>0</td>\n",
              "      <td>0</td>\n",
              "      <td>1</td>\n",
              "      <td>0</td>\n",
              "      <td>0</td>\n",
              "      <td>1</td>\n",
              "      <td>0</td>\n",
              "      <td>0</td>\n",
              "      <td>1</td>\n",
              "      <td>1</td>\n",
              "    </tr>\n",
              "    <tr>\n",
              "      <th>4</th>\n",
              "      <td>1.0</td>\n",
              "      <td>0.0</td>\n",
              "      <td>1.0</td>\n",
              "      <td>12.0</td>\n",
              "      <td>2.0</td>\n",
              "      <td>3.0</td>\n",
              "      <td>5.0</td>\n",
              "      <td>3.0</td>\n",
              "      <td>0.0</td>\n",
              "      <td>11.0</td>\n",
              "      <td>1.0</td>\n",
              "      <td>3.0</td>\n",
              "      <td>129.60</td>\n",
              "      <td>1</td>\n",
              "      <td>0</td>\n",
              "      <td>0</td>\n",
              "      <td>0</td>\n",
              "      <td>1</td>\n",
              "      <td>0</td>\n",
              "      <td>1</td>\n",
              "      <td>0</td>\n",
              "      <td>0</td>\n",
              "      <td>0</td>\n",
              "      <td>1</td>\n",
              "      <td>1</td>\n",
              "    </tr>\n",
              "  </tbody>\n",
              "</table>\n",
              "</div>"
            ],
            "text/plain": [
              "   Churn  Tenure  ...  Marital_Status_Single  Login_device_Mobile\n",
              "0    1.0     4.0  ...                      1                    1\n",
              "1    1.0     0.0  ...                      1                    1\n",
              "2    1.0     0.0  ...                      1                    1\n",
              "3    1.0     0.0  ...                      1                    1\n",
              "4    1.0     0.0  ...                      1                    1\n",
              "\n",
              "[5 rows x 25 columns]"
            ]
          },
          "metadata": {},
          "execution_count": 50
        }
      ]
    },
    {
      "cell_type": "code",
      "metadata": {
        "id": "8g9gWvfQYHFy"
      },
      "source": [
        "from sklearn.model_selection import train_test_split\n",
        "from sklearn.metrics import confusion_matrix, classification_report, roc_auc_score, roc_curve"
      ],
      "execution_count": null,
      "outputs": []
    },
    {
      "cell_type": "code",
      "metadata": {
        "id": "qtAeHI45YKw4"
      },
      "source": [
        "X= data.drop('Churn', axis=1)\n",
        "y= data['Churn']"
      ],
      "execution_count": null,
      "outputs": []
    },
    {
      "cell_type": "code",
      "metadata": {
        "colab": {
          "base_uri": "https://localhost:8080/"
        },
        "id": "T9c8gesIYNSG",
        "outputId": "67f5a9d1-4eb3-465b-b7f8-e3acbe230807"
      },
      "source": [
        "#scaling the independent features\n",
        "from sklearn.preprocessing import StandardScaler\n",
        "\n",
        "scaler = StandardScaler()\n",
        "X_scaled = scaler.fit_transform(X)\n",
        "X_scaled"
      ],
      "execution_count": null,
      "outputs": [
        {
          "output_type": "execute_result",
          "data": {
            "text/plain": [
              "array([[-0.70331481,  1.48191371, -1.37965207, ..., -1.04172222,\n",
              "         1.48285658,  0.71059496],\n",
              "       [-1.15333398, -0.70933361, -1.14610979, ..., -1.04172222,\n",
              "         1.48285658,  0.71059496],\n",
              "       [-1.15333398, -0.70933361,  1.42285532, ..., -1.04172222,\n",
              "         1.48285658,  0.71059496],\n",
              "       ...,\n",
              "       [-1.04082919, -0.70933361, -0.44548294, ...,  0.9599488 ,\n",
              "        -0.67437405,  0.71059496],\n",
              "       [ 1.43427623,  1.48191371, -0.79579637, ...,  0.9599488 ,\n",
              "        -0.67437405, -1.40727144],\n",
              "       [-0.25329565, -0.70933361,  0.48868619, ...,  0.9599488 ,\n",
              "        -0.67437405,  0.71059496]])"
            ]
          },
          "metadata": {},
          "execution_count": 53
        }
      ]
    },
    {
      "cell_type": "code",
      "metadata": {
        "colab": {
          "base_uri": "https://localhost:8080/",
          "height": 244
        },
        "id": "u8enucU-YPyJ",
        "outputId": "cdc26356-9cbf-48e6-f65a-10146c5c3c31"
      },
      "source": [
        "X_scaled = pd.DataFrame(X_scaled, columns=X.columns, index=X.index)\n",
        "X_scaled.head()"
      ],
      "execution_count": null,
      "outputs": [
        {
          "output_type": "execute_result",
          "data": {
            "text/html": [
              "<div>\n",
              "<style scoped>\n",
              "    .dataframe tbody tr th:only-of-type {\n",
              "        vertical-align: middle;\n",
              "    }\n",
              "\n",
              "    .dataframe tbody tr th {\n",
              "        vertical-align: top;\n",
              "    }\n",
              "\n",
              "    .dataframe thead th {\n",
              "        text-align: right;\n",
              "    }\n",
              "</style>\n",
              "<table border=\"1\" class=\"dataframe\">\n",
              "  <thead>\n",
              "    <tr style=\"text-align: right;\">\n",
              "      <th></th>\n",
              "      <th>Tenure</th>\n",
              "      <th>City_Tier</th>\n",
              "      <th>CC_Contacted_LY</th>\n",
              "      <th>Service_Score</th>\n",
              "      <th>Account_user_count</th>\n",
              "      <th>CC_Agent_Score</th>\n",
              "      <th>rev_per_month</th>\n",
              "      <th>Complain_ly</th>\n",
              "      <th>rev_growth_yoy</th>\n",
              "      <th>coupon_used_for_payment</th>\n",
              "      <th>Day_Since_CC_connect</th>\n",
              "      <th>cashback</th>\n",
              "      <th>Payment_Credit Card</th>\n",
              "      <th>Payment_Debit Card</th>\n",
              "      <th>Payment_E wallet</th>\n",
              "      <th>Payment_UPI</th>\n",
              "      <th>Gender_Male</th>\n",
              "      <th>account_segment_Regular</th>\n",
              "      <th>account_segment_Regular Plus</th>\n",
              "      <th>account_segment_Super</th>\n",
              "      <th>account_segment_Super Plus</th>\n",
              "      <th>Marital_Status_Married</th>\n",
              "      <th>Marital_Status_Single</th>\n",
              "      <th>Login_device_Mobile</th>\n",
              "    </tr>\n",
              "  </thead>\n",
              "  <tbody>\n",
              "    <tr>\n",
              "      <th>0</th>\n",
              "      <td>-0.703315</td>\n",
              "      <td>1.481914</td>\n",
              "      <td>-1.379652</td>\n",
              "      <td>0.133748</td>\n",
              "      <td>-0.701928</td>\n",
              "      <td>-0.776488</td>\n",
              "      <td>1.302037</td>\n",
              "      <td>1.618461</td>\n",
              "      <td>-1.382201</td>\n",
              "      <td>-0.431239</td>\n",
              "      <td>0.129884</td>\n",
              "      <td>-0.398295</td>\n",
              "      <td>-0.673120</td>\n",
              "      <td>1.206136</td>\n",
              "      <td>-0.348108</td>\n",
              "      <td>-0.280626</td>\n",
              "      <td>-1.213040</td>\n",
              "      <td>-0.220039</td>\n",
              "      <td>-0.760207</td>\n",
              "      <td>1.331177</td>\n",
              "      <td>-0.279888</td>\n",
              "      <td>-1.041722</td>\n",
              "      <td>1.482857</td>\n",
              "      <td>0.710595</td>\n",
              "    </tr>\n",
              "    <tr>\n",
              "      <th>1</th>\n",
              "      <td>-1.153334</td>\n",
              "      <td>-0.709334</td>\n",
              "      <td>-1.146110</td>\n",
              "      <td>0.133748</td>\n",
              "      <td>0.293752</td>\n",
              "      <td>-0.047944</td>\n",
              "      <td>0.607469</td>\n",
              "      <td>1.618461</td>\n",
              "      <td>-0.317551</td>\n",
              "      <td>-1.338515</td>\n",
              "      <td>-1.301411</td>\n",
              "      <td>-1.294067</td>\n",
              "      <td>-0.673120</td>\n",
              "      <td>-0.829094</td>\n",
              "      <td>-0.348108</td>\n",
              "      <td>3.563467</td>\n",
              "      <td>0.824375</td>\n",
              "      <td>-0.220039</td>\n",
              "      <td>1.315431</td>\n",
              "      <td>-0.751215</td>\n",
              "      <td>-0.279888</td>\n",
              "      <td>-1.041722</td>\n",
              "      <td>1.482857</td>\n",
              "      <td>0.710595</td>\n",
              "    </tr>\n",
              "    <tr>\n",
              "      <th>2</th>\n",
              "      <td>-1.153334</td>\n",
              "      <td>-0.709334</td>\n",
              "      <td>1.422855</td>\n",
              "      <td>-1.250443</td>\n",
              "      <td>0.293752</td>\n",
              "      <td>-0.047944</td>\n",
              "      <td>0.260185</td>\n",
              "      <td>1.618461</td>\n",
              "      <td>-0.583714</td>\n",
              "      <td>-1.338515</td>\n",
              "      <td>-0.442634</td>\n",
              "      <td>-0.276197</td>\n",
              "      <td>-0.673120</td>\n",
              "      <td>1.206136</td>\n",
              "      <td>-0.348108</td>\n",
              "      <td>-0.280626</td>\n",
              "      <td>0.824375</td>\n",
              "      <td>-0.220039</td>\n",
              "      <td>1.315431</td>\n",
              "      <td>-0.751215</td>\n",
              "      <td>-0.279888</td>\n",
              "      <td>-1.041722</td>\n",
              "      <td>1.482857</td>\n",
              "      <td>0.710595</td>\n",
              "    </tr>\n",
              "    <tr>\n",
              "      <th>3</th>\n",
              "      <td>-1.153334</td>\n",
              "      <td>1.481914</td>\n",
              "      <td>-0.328712</td>\n",
              "      <td>-1.250443</td>\n",
              "      <td>0.293752</td>\n",
              "      <td>1.409143</td>\n",
              "      <td>0.954753</td>\n",
              "      <td>-0.617871</td>\n",
              "      <td>1.811748</td>\n",
              "      <td>-1.338515</td>\n",
              "      <td>-0.442634</td>\n",
              "      <td>-0.991804</td>\n",
              "      <td>-0.673120</td>\n",
              "      <td>1.206136</td>\n",
              "      <td>-0.348108</td>\n",
              "      <td>-0.280626</td>\n",
              "      <td>0.824375</td>\n",
              "      <td>-0.220039</td>\n",
              "      <td>-0.760207</td>\n",
              "      <td>1.331177</td>\n",
              "      <td>-0.279888</td>\n",
              "      <td>-1.041722</td>\n",
              "      <td>1.482857</td>\n",
              "      <td>0.710595</td>\n",
              "    </tr>\n",
              "    <tr>\n",
              "      <th>4</th>\n",
              "      <td>-1.153334</td>\n",
              "      <td>-0.709334</td>\n",
              "      <td>-0.679025</td>\n",
              "      <td>-1.250443</td>\n",
              "      <td>-0.701928</td>\n",
              "      <td>1.409143</td>\n",
              "      <td>-0.781666</td>\n",
              "      <td>-0.617871</td>\n",
              "      <td>-1.382201</td>\n",
              "      <td>-0.431239</td>\n",
              "      <td>-0.442634</td>\n",
              "      <td>-1.094395</td>\n",
              "      <td>1.485619</td>\n",
              "      <td>-0.829094</td>\n",
              "      <td>-0.348108</td>\n",
              "      <td>-0.280626</td>\n",
              "      <td>0.824375</td>\n",
              "      <td>-0.220039</td>\n",
              "      <td>1.315431</td>\n",
              "      <td>-0.751215</td>\n",
              "      <td>-0.279888</td>\n",
              "      <td>-1.041722</td>\n",
              "      <td>1.482857</td>\n",
              "      <td>0.710595</td>\n",
              "    </tr>\n",
              "  </tbody>\n",
              "</table>\n",
              "</div>"
            ],
            "text/plain": [
              "     Tenure  City_Tier  ...  Marital_Status_Single  Login_device_Mobile\n",
              "0 -0.703315   1.481914  ...               1.482857             0.710595\n",
              "1 -1.153334  -0.709334  ...               1.482857             0.710595\n",
              "2 -1.153334  -0.709334  ...               1.482857             0.710595\n",
              "3 -1.153334   1.481914  ...               1.482857             0.710595\n",
              "4 -1.153334  -0.709334  ...               1.482857             0.710595\n",
              "\n",
              "[5 rows x 24 columns]"
            ]
          },
          "metadata": {},
          "execution_count": 54
        }
      ]
    },
    {
      "cell_type": "code",
      "metadata": {
        "id": "ZfPF9AWfYS1C"
      },
      "source": [
        "X_scaled['K_Means_clust'] = labels1\n"
      ],
      "execution_count": null,
      "outputs": []
    },
    {
      "cell_type": "code",
      "metadata": {
        "id": "2FEfir5nYYup"
      },
      "source": [
        "x = X_scaled.copy(deep=True)"
      ],
      "execution_count": null,
      "outputs": []
    },
    {
      "cell_type": "code",
      "metadata": {
        "id": "Ng37TeWhYbXx"
      },
      "source": [
        "x_train, x_test, y_train, y_test  = train_test_split(x,y, test_size=0.30, random_state=1, stratify=y)"
      ],
      "execution_count": null,
      "outputs": []
    },
    {
      "cell_type": "code",
      "metadata": {
        "id": "JgZWNu3TYclH"
      },
      "source": [
        "#LDA Model"
      ],
      "execution_count": null,
      "outputs": []
    },
    {
      "cell_type": "code",
      "metadata": {
        "colab": {
          "base_uri": "https://localhost:8080/"
        },
        "id": "JtvzU96zYq2L",
        "outputId": "4aa0b6b8-d47a-4df6-9c86-6845643bf9da"
      },
      "source": [
        "from sklearn.discriminant_analysis import LinearDiscriminantAnalysis\n",
        "mod1 = LinearDiscriminantAnalysis()\n",
        "mod1.fit(x_train, y_train)"
      ],
      "execution_count": null,
      "outputs": [
        {
          "output_type": "execute_result",
          "data": {
            "text/plain": [
              "LinearDiscriminantAnalysis()"
            ]
          },
          "metadata": {},
          "execution_count": 59
        }
      ]
    },
    {
      "cell_type": "code",
      "metadata": {
        "colab": {
          "base_uri": "https://localhost:8080/"
        },
        "id": "bev8GTojYsZa",
        "outputId": "4d5cff98-cf12-4e9d-92f1-1a3e8937d075"
      },
      "source": [
        "mod1.coef_"
      ],
      "execution_count": null,
      "outputs": [
        {
          "output_type": "execute_result",
          "data": {
            "text/plain": [
              "array([[-1.111853  ,  0.37854746,  0.29314636, -0.08945462,  0.37005927,\n",
              "         0.38791762,  0.41009775,  0.86357232, -0.07112772,  0.11177473,\n",
              "        -0.22342077, -0.12847908, -0.4038539 , -0.35099662, -0.07368027,\n",
              "        -0.20401119,  0.10338164,  0.1916299 , -1.33913357, -0.35909116,\n",
              "         0.11645427, -0.06510557,  0.45002486, -0.1633834 ,  3.4890633 ]])"
            ]
          },
          "metadata": {},
          "execution_count": 60
        }
      ]
    },
    {
      "cell_type": "code",
      "metadata": {
        "colab": {
          "base_uri": "https://localhost:8080/"
        },
        "id": "Sm0pcWucYwmD",
        "outputId": "475f5e71-3cc6-4569-b51a-263434127738"
      },
      "source": [
        "for idx, col_name in enumerate(x_train.columns):\n",
        "    print(\"The coefficient for {} is {}\".format(col_name, mod1.coef_[0][idx]))"
      ],
      "execution_count": null,
      "outputs": [
        {
          "output_type": "stream",
          "name": "stdout",
          "text": [
            "The coefficient for Tenure is -1.1118530030707399\n",
            "The coefficient for City_Tier is 0.37854746267947\n",
            "The coefficient for CC_Contacted_LY is 0.2931463617301073\n",
            "The coefficient for Service_Score is -0.0894546157187107\n",
            "The coefficient for Account_user_count is 0.37005926532225114\n",
            "The coefficient for CC_Agent_Score is 0.387917621225501\n",
            "The coefficient for rev_per_month is 0.41009775072790844\n",
            "The coefficient for Complain_ly is 0.8635723238619586\n",
            "The coefficient for rev_growth_yoy is -0.07112771967221883\n",
            "The coefficient for coupon_used_for_payment is 0.11177472708034196\n",
            "The coefficient for Day_Since_CC_connect is -0.2234207654757541\n",
            "The coefficient for cashback is -0.12847908391942323\n",
            "The coefficient for Payment_Credit Card is -0.40385389855606335\n",
            "The coefficient for Payment_Debit Card is -0.350996618133123\n",
            "The coefficient for Payment_E wallet is -0.07368027187117787\n",
            "The coefficient for Payment_UPI is -0.20401118745107974\n",
            "The coefficient for Gender_Male is 0.10338163523809717\n",
            "The coefficient for account_segment_Regular is 0.19162990478692107\n",
            "The coefficient for account_segment_Regular Plus is -1.3391335719627722\n",
            "The coefficient for account_segment_Super is -0.3590911565002211\n",
            "The coefficient for account_segment_Super Plus is 0.11645427133020407\n",
            "The coefficient for Marital_Status_Married is -0.0651055667283057\n",
            "The coefficient for Marital_Status_Single is 0.4500248575684863\n",
            "The coefficient for Login_device_Mobile is -0.16338340009298555\n",
            "The coefficient for K_Means_clust is 3.4890633019431614\n"
          ]
        }
      ]
    },
    {
      "cell_type": "code",
      "metadata": {
        "colab": {
          "base_uri": "https://localhost:8080/"
        },
        "id": "hhV71YH5YxYv",
        "outputId": "b388b0dd-d4cc-476a-905e-62217aceb5f3"
      },
      "source": [
        "print('The intercept for the LDA model is %.3f' %mod1.intercept_)"
      ],
      "execution_count": null,
      "outputs": [
        {
          "output_type": "stream",
          "name": "stdout",
          "text": [
            "The intercept for the LDA model is -3.860\n"
          ]
        }
      ]
    },
    {
      "cell_type": "code",
      "metadata": {
        "id": "XYYnF1VOY4hM"
      },
      "source": [
        "train_pred_mod1 = mod1.predict(x_train)\n",
        "test_pred_mod1 = mod1.predict(x_test)"
      ],
      "execution_count": null,
      "outputs": []
    },
    {
      "cell_type": "code",
      "metadata": {
        "colab": {
          "base_uri": "https://localhost:8080/"
        },
        "id": "f5n7IXgHY97I",
        "outputId": "0e87e0d7-8812-44b7-9584-7370b861ade5"
      },
      "source": [
        "print(classification_report(y_train, train_pred_mod1))"
      ],
      "execution_count": null,
      "outputs": [
        {
          "output_type": "stream",
          "name": "stdout",
          "text": [
            "              precision    recall  f1-score   support\n",
            "\n",
            "         0.0       0.90      0.97      0.93      6555\n",
            "         1.0       0.76      0.48      0.59      1327\n",
            "\n",
            "    accuracy                           0.89      7882\n",
            "   macro avg       0.83      0.72      0.76      7882\n",
            "weighted avg       0.88      0.89      0.88      7882\n",
            "\n"
          ]
        }
      ]
    },
    {
      "cell_type": "code",
      "metadata": {
        "colab": {
          "base_uri": "https://localhost:8080/"
        },
        "id": "foc00RbmZA2H",
        "outputId": "956f0251-3b23-40dd-d65a-bdda65da6da5"
      },
      "source": [
        "print(classification_report(y_test, test_pred_mod1))"
      ],
      "execution_count": null,
      "outputs": [
        {
          "output_type": "stream",
          "name": "stdout",
          "text": [
            "              precision    recall  f1-score   support\n",
            "\n",
            "         0.0       0.90      0.97      0.94      2809\n",
            "         1.0       0.77      0.48      0.60       569\n",
            "\n",
            "    accuracy                           0.89      3378\n",
            "   macro avg       0.84      0.73      0.77      3378\n",
            "weighted avg       0.88      0.89      0.88      3378\n",
            "\n"
          ]
        }
      ]
    },
    {
      "cell_type": "code",
      "metadata": {
        "colab": {
          "base_uri": "https://localhost:8080/",
          "height": 312
        },
        "id": "xmiRvl1hZFHE",
        "outputId": "fb474f73-a4f7-48f0-f2f3-dd155f452490"
      },
      "source": [
        "# training data\n",
        "sns.heatmap(confusion_matrix(y_train, train_pred_mod1), cbar=False, annot=True, fmt='d')\n",
        "plt.xlabel('predicted labels')\n",
        "plt.ylabel('actual labels')\n",
        "plt.title('confusion matrix for base LDA model on training data')"
      ],
      "execution_count": null,
      "outputs": [
        {
          "output_type": "execute_result",
          "data": {
            "text/plain": [
              "Text(0.5, 1.0, 'confusion matrix for base LDA model on training data')"
            ]
          },
          "metadata": {},
          "execution_count": 66
        },
        {
          "output_type": "display_data",
          "data": {
            "image/png": "[encoded data removed]",
            "text/plain": [
              "<Figure size 432x288 with 1 Axes>"
            ]
          },
          "metadata": {
            "needs_background": "light"
          }
        }
      ]
    },
    {
      "cell_type": "code",
      "metadata": {
        "colab": {
          "base_uri": "https://localhost:8080/",
          "height": 312
        },
        "id": "WUovPDBcZHlg",
        "outputId": "b7527c85-bc18-41ba-e164-3504785fe730"
      },
      "source": [
        "# testing data\n",
        "sns.heatmap(confusion_matrix(y_test, test_pred_mod1), cbar=False, annot=True, fmt='d')\n",
        "plt.xlabel('predicted labels')\n",
        "plt.ylabel('actual labels')\n",
        "plt.title('confusion matrix for base LDA model on testing data')"
      ],
      "execution_count": null,
      "outputs": [
        {
          "output_type": "execute_result",
          "data": {
            "text/plain": [
              "Text(0.5, 1.0, 'confusion matrix for base LDA model on testing data')"
            ]
          },
          "metadata": {},
          "execution_count": 67
        },
        {
          "output_type": "display_data",
          "data": {
            "image/png": "[encoded data removed]",
            "text/plain": [
              "<Figure size 432x288 with 1 Axes>"
            ]
          },
          "metadata": {
            "needs_background": "light"
          }
        }
      ]
    },
    {
      "cell_type": "code",
      "metadata": {
        "colab": {
          "base_uri": "https://localhost:8080/"
        },
        "id": "yi8LgnviZNZF",
        "outputId": "83944923-2bdc-4673-f621-64933792237d"
      },
      "source": [
        "mod1.score(x_train, y_train)"
      ],
      "execution_count": null,
      "outputs": [
        {
          "output_type": "execute_result",
          "data": {
            "text/plain": [
              "0.8867038822633849"
            ]
          },
          "metadata": {},
          "execution_count": 68
        }
      ]
    },
    {
      "cell_type": "code",
      "metadata": {
        "colab": {
          "base_uri": "https://localhost:8080/"
        },
        "id": "cbFqCN-OZP5_",
        "outputId": "9cf40d0b-9e98-4088-9f94-c55ecc21d5ea"
      },
      "source": [
        "mod1.score(x_train, y_train)"
      ],
      "execution_count": null,
      "outputs": [
        {
          "output_type": "execute_result",
          "data": {
            "text/plain": [
              "0.8867038822633849"
            ]
          },
          "metadata": {},
          "execution_count": 69
        }
      ]
    },
    {
      "cell_type": "code",
      "metadata": {
        "colab": {
          "base_uri": "https://localhost:8080/",
          "height": 316
        },
        "id": "MQJzJwEMZTB-",
        "outputId": "382e3401-b934-484c-fa02-fb01c88fa08f"
      },
      "source": [
        "# training data\n",
        "probs1 = mod1.predict_proba(x_train)\n",
        "probs1 = probs1[:,1]\n",
        "\n",
        "auc_score_mod1_train = roc_auc_score(y_train, probs1)\n",
        "print('the auc score for mod1 on training dataset is: %.3f' %auc_score_mod1_train)\n",
        "\n",
        "train_tpr_mod1, train_fpr_mod1, train_thresholds_mod1 = roc_curve(y_train,probs1)\n",
        "plt.plot([0,1],[0,1], linestyle='--', color='g')\n",
        "plt.plot(train_tpr_mod1, train_fpr_mod1)\n",
        "plt.title('ROC curve for base LDA model on training data')"
      ],
      "execution_count": null,
      "outputs": [
        {
          "output_type": "stream",
          "name": "stdout",
          "text": [
            "the auc score for mod1 on training dataset is: 0.882\n"
          ]
        },
        {
          "output_type": "execute_result",
          "data": {
            "text/plain": [
              "Text(0.5, 1.0, 'ROC curve for base LDA model on training data')"
            ]
          },
          "metadata": {},
          "execution_count": 70
        },
        {
          "output_type": "display_data",
          "data": {
            "image/png": "[encoded data removed]",
            "text/plain": [
              "<Figure size 432x288 with 1 Axes>"
            ]
          },
          "metadata": {
            "needs_background": "light"
          }
        }
      ]
    },
    {
      "cell_type": "code",
      "metadata": {
        "colab": {
          "base_uri": "https://localhost:8080/",
          "height": 316
        },
        "id": "0rjpbem_ZWQY",
        "outputId": "83082562-74a0-4c9f-aad0-33cb12749513"
      },
      "source": [
        "# testing dataset\n",
        "probs2 = mod1.predict_proba(x_test)\n",
        "probs2 = probs2[:,1]\n",
        "\n",
        "auc_score_mod1_test = roc_auc_score(y_test, probs2)\n",
        "print('the auc score for mod1 on testing dataset is: %.3f' %auc_score_mod1_test)\n",
        "\n",
        "test_tpr_mod1, test_fpr_mod1, test_thresholds_mod1 = roc_curve(y_test,probs2)\n",
        "plt.plot([0,1],[0,1], linestyle='--', color='g')\n",
        "plt.plot(test_tpr_mod1, test_fpr_mod1)\n",
        "plt.title('ROC curve for base LDA model on testing data')"
      ],
      "execution_count": null,
      "outputs": [
        {
          "output_type": "stream",
          "name": "stdout",
          "text": [
            "the auc score for mod1 on testing dataset is: 0.864\n"
          ]
        },
        {
          "output_type": "execute_result",
          "data": {
            "text/plain": [
              "Text(0.5, 1.0, 'ROC curve for base LDA model on testing data')"
            ]
          },
          "metadata": {},
          "execution_count": 71
        },
        {
          "output_type": "display_data",
          "data": {
            "image/png": "[encoded data removed]",
            "text/plain": [
              "<Figure size 432x288 with 1 Axes>"
            ]
          },
          "metadata": {
            "needs_background": "light"
          }
        }
      ]
    },
    {
      "cell_type": "code",
      "metadata": {
        "id": "KSIR767_ZbbH"
      },
      "source": [
        "#Tuning\n",
        "from sklearn.model_selection import GridSearchCV\n",
        "\n",
        "params = {\n",
        "    'solver' : ['svd', 'lsqr', 'eigen'],\n",
        "    'tol' : [0.001,0.0001,0.00001]\n",
        "}\n",
        "lda_model =  LinearDiscriminantAnalysis()\n",
        "grid = GridSearchCV(estimator = lda_model, param_grid=params, cv=5, scoring='recall', verbose=3)"
      ],
      "execution_count": null,
      "outputs": []
    },
    {
      "cell_type": "code",
      "metadata": {
        "colab": {
          "base_uri": "https://localhost:8080/"
        },
        "id": "thHwlJ-MZfST",
        "outputId": "85e52e1a-57b2-4209-b97c-d53e1e6d2281"
      },
      "source": [
        "start = time.time()\n",
        "grid.fit(x_train, y_train)\n",
        "end = time.time()"
      ],
      "execution_count": null,
      "outputs": [
        {
          "output_type": "stream",
          "name": "stdout",
          "text": [
            "Fitting 5 folds for each of 9 candidates, totalling 45 fits\n",
            "[CV 1/5] END .............solver=svd, tol=0.001;, score=0.429 total time=   0.0s\n",
            "[CV 2/5] END .............solver=svd, tol=0.001;, score=0.485 total time=   0.1s\n",
            "[CV 3/5] END .............solver=svd, tol=0.001;, score=0.506 total time=   0.1s\n",
            "[CV 4/5] END .............solver=svd, tol=0.001;, score=0.457 total time=   0.1s\n",
            "[CV 5/5] END .............solver=svd, tol=0.001;, score=0.491 total time=   0.1s\n",
            "[CV 1/5] END ............solver=svd, tol=0.0001;, score=0.429 total time=   0.1s\n",
            "[CV 2/5] END ............solver=svd, tol=0.0001;, score=0.485 total time=   0.1s\n",
            "[CV 3/5] END ............solver=svd, tol=0.0001;, score=0.506 total time=   0.1s\n",
            "[CV 4/5] END ............solver=svd, tol=0.0001;, score=0.457 total time=   0.1s\n",
            "[CV 5/5] END ............solver=svd, tol=0.0001;, score=0.491 total time=   0.1s\n",
            "[CV 1/5] END .............solver=svd, tol=1e-05;, score=0.429 total time=   0.1s\n",
            "[CV 2/5] END .............solver=svd, tol=1e-05;, score=0.485 total time=   0.1s\n",
            "[CV 3/5] END .............solver=svd, tol=1e-05;, score=0.506 total time=   0.1s\n",
            "[CV 4/5] END .............solver=svd, tol=1e-05;, score=0.457 total time=   0.1s\n",
            "[CV 5/5] END .............solver=svd, tol=1e-05;, score=0.491 total time=   0.1s\n",
            "[CV 1/5] END ............solver=lsqr, tol=0.001;, score=0.429 total time=   0.1s\n",
            "[CV 2/5] END ............solver=lsqr, tol=0.001;, score=0.485 total time=   0.1s\n",
            "[CV 3/5] END ............solver=lsqr, tol=0.001;, score=0.506 total time=   0.1s\n",
            "[CV 4/5] END ............solver=lsqr, tol=0.001;, score=0.457 total time=   0.1s\n",
            "[CV 5/5] END ............solver=lsqr, tol=0.001;, score=0.491 total time=   0.0s\n",
            "[CV 1/5] END ...........solver=lsqr, tol=0.0001;, score=0.429 total time=   0.1s\n",
            "[CV 2/5] END ...........solver=lsqr, tol=0.0001;, score=0.485 total time=   0.1s\n",
            "[CV 3/5] END ...........solver=lsqr, tol=0.0001;, score=0.506 total time=   0.1s\n",
            "[CV 4/5] END ...........solver=lsqr, tol=0.0001;, score=0.457 total time=   0.1s\n",
            "[CV 5/5] END ...........solver=lsqr, tol=0.0001;, score=0.491 total time=   0.0s\n",
            "[CV 1/5] END ............solver=lsqr, tol=1e-05;, score=0.429 total time=   0.0s\n",
            "[CV 2/5] END ............solver=lsqr, tol=1e-05;, score=0.485 total time=   0.1s\n",
            "[CV 3/5] END ............solver=lsqr, tol=1e-05;, score=0.506 total time=   0.0s\n",
            "[CV 4/5] END ............solver=lsqr, tol=1e-05;, score=0.457 total time=   0.0s\n",
            "[CV 5/5] END ............solver=lsqr, tol=1e-05;, score=0.491 total time=   0.0s\n",
            "[CV 1/5] END ...........solver=eigen, tol=0.001;, score=0.429 total time=   0.1s\n",
            "[CV 2/5] END ...........solver=eigen, tol=0.001;, score=0.485 total time=   0.0s\n",
            "[CV 3/5] END ...........solver=eigen, tol=0.001;, score=0.506 total time=   0.0s\n",
            "[CV 4/5] END ...........solver=eigen, tol=0.001;, score=0.457 total time=   0.1s\n",
            "[CV 5/5] END ...........solver=eigen, tol=0.001;, score=0.491 total time=   0.1s\n",
            "[CV 1/5] END ..........solver=eigen, tol=0.0001;, score=0.429 total time=   0.1s\n",
            "[CV 2/5] END ..........solver=eigen, tol=0.0001;, score=0.485 total time=   0.1s\n",
            "[CV 3/5] END ..........solver=eigen, tol=0.0001;, score=0.506 total time=   0.0s\n",
            "[CV 4/5] END ..........solver=eigen, tol=0.0001;, score=0.457 total time=   0.0s\n",
            "[CV 5/5] END ..........solver=eigen, tol=0.0001;, score=0.491 total time=   0.1s\n",
            "[CV 1/5] END ...........solver=eigen, tol=1e-05;, score=0.429 total time=   0.1s\n",
            "[CV 2/5] END ...........solver=eigen, tol=1e-05;, score=0.485 total time=   0.1s\n",
            "[CV 3/5] END ...........solver=eigen, tol=1e-05;, score=0.506 total time=   0.1s\n",
            "[CV 4/5] END ...........solver=eigen, tol=1e-05;, score=0.457 total time=   0.0s\n",
            "[CV 5/5] END ...........solver=eigen, tol=1e-05;, score=0.491 total time=   0.1s\n"
          ]
        }
      ]
    },
    {
      "cell_type": "code",
      "metadata": {
        "colab": {
          "base_uri": "https://localhost:8080/"
        },
        "id": "6VD7NlBpZh7b",
        "outputId": "a39f98f1-98b6-465a-aace-4e625391afe3"
      },
      "source": [
        "print('the time for algo execution is: {}'.format(end-start))"
      ],
      "execution_count": null,
      "outputs": [
        {
          "output_type": "stream",
          "name": "stdout",
          "text": [
            "the time for algo execution is: 3.2561116218566895\n"
          ]
        }
      ]
    },
    {
      "cell_type": "code",
      "metadata": {
        "colab": {
          "base_uri": "https://localhost:8080/"
        },
        "id": "8-px7eIeZkB7",
        "outputId": "d3dc66b1-abac-4627-e81d-d3ef22452b73"
      },
      "source": [
        "grid.best_params_"
      ],
      "execution_count": null,
      "outputs": [
        {
          "output_type": "execute_result",
          "data": {
            "text/plain": [
              "{'solver': 'svd', 'tol': 0.001}"
            ]
          },
          "metadata": {},
          "execution_count": 75
        }
      ]
    },
    {
      "cell_type": "code",
      "metadata": {
        "colab": {
          "base_uri": "https://localhost:8080/"
        },
        "id": "bE_-u7BtZm9M",
        "outputId": "c660fbf8-684f-46a0-dcee-09f248660b2d"
      },
      "source": [
        "grid.best_estimator_"
      ],
      "execution_count": null,
      "outputs": [
        {
          "output_type": "execute_result",
          "data": {
            "text/plain": [
              "LinearDiscriminantAnalysis(tol=0.001)"
            ]
          },
          "metadata": {},
          "execution_count": 76
        }
      ]
    },
    {
      "cell_type": "code",
      "metadata": {
        "colab": {
          "base_uri": "https://localhost:8080/"
        },
        "id": "BAjxf6XoZo4C",
        "outputId": "24acad4e-beeb-4372-dd9c-41a4066893bc"
      },
      "source": [
        "mod2 = LinearDiscriminantAnalysis(tol=0.001, solver='svd')\n",
        "mod2.fit(x_train, y_train)"
      ],
      "execution_count": null,
      "outputs": [
        {
          "output_type": "execute_result",
          "data": {
            "text/plain": [
              "LinearDiscriminantAnalysis(tol=0.001)"
            ]
          },
          "metadata": {},
          "execution_count": 77
        }
      ]
    },
    {
      "cell_type": "code",
      "metadata": {
        "colab": {
          "base_uri": "https://localhost:8080/"
        },
        "id": "tZTFwJphZri4",
        "outputId": "f0f21c60-1b6c-4ab7-eba5-0a3b97e018a6"
      },
      "source": [
        "for idx, col_name in enumerate(x_train.columns):\n",
        "    print(\"The coefficient for {} is {}\".format(col_name, mod2.coef_[0][idx]))"
      ],
      "execution_count": null,
      "outputs": [
        {
          "output_type": "stream",
          "name": "stdout",
          "text": [
            "The coefficient for Tenure is -1.1118530030707399\n",
            "The coefficient for City_Tier is 0.37854746267947\n",
            "The coefficient for CC_Contacted_LY is 0.2931463617301073\n",
            "The coefficient for Service_Score is -0.0894546157187107\n",
            "The coefficient for Account_user_count is 0.37005926532225114\n",
            "The coefficient for CC_Agent_Score is 0.387917621225501\n",
            "The coefficient for rev_per_month is 0.41009775072790844\n",
            "The coefficient for Complain_ly is 0.8635723238619586\n",
            "The coefficient for rev_growth_yoy is -0.07112771967221883\n",
            "The coefficient for coupon_used_for_payment is 0.11177472708034196\n",
            "The coefficient for Day_Since_CC_connect is -0.2234207654757541\n",
            "The coefficient for cashback is -0.12847908391942323\n",
            "The coefficient for Payment_Credit Card is -0.40385389855606335\n",
            "The coefficient for Payment_Debit Card is -0.350996618133123\n",
            "The coefficient for Payment_E wallet is -0.07368027187117787\n",
            "The coefficient for Payment_UPI is -0.20401118745107974\n",
            "The coefficient for Gender_Male is 0.10338163523809717\n",
            "The coefficient for account_segment_Regular is 0.19162990478692107\n",
            "The coefficient for account_segment_Regular Plus is -1.3391335719627722\n",
            "The coefficient for account_segment_Super is -0.3590911565002211\n",
            "The coefficient for account_segment_Super Plus is 0.11645427133020407\n",
            "The coefficient for Marital_Status_Married is -0.0651055667283057\n",
            "The coefficient for Marital_Status_Single is 0.4500248575684863\n",
            "The coefficient for Login_device_Mobile is -0.16338340009298555\n",
            "The coefficient for K_Means_clust is 3.4890633019431614\n"
          ]
        }
      ]
    },
    {
      "cell_type": "code",
      "metadata": {
        "id": "WR6tvparZvfD"
      },
      "source": [
        "train_pred_mod2 = mod2.predict(x_train)\n",
        "test_pred_mod2 = mod2.predict(x_test)"
      ],
      "execution_count": null,
      "outputs": []
    },
    {
      "cell_type": "code",
      "metadata": {
        "colab": {
          "base_uri": "https://localhost:8080/"
        },
        "id": "0TeXYETIZyeN",
        "outputId": "46dbb0ec-66c2-419b-d72f-6d18fe4d88c0"
      },
      "source": [
        "print(classification_report(y_train, train_pred_mod2))"
      ],
      "execution_count": null,
      "outputs": [
        {
          "output_type": "stream",
          "name": "stdout",
          "text": [
            "              precision    recall  f1-score   support\n",
            "\n",
            "         0.0       0.90      0.97      0.93      6555\n",
            "         1.0       0.76      0.48      0.59      1327\n",
            "\n",
            "    accuracy                           0.89      7882\n",
            "   macro avg       0.83      0.72      0.76      7882\n",
            "weighted avg       0.88      0.89      0.88      7882\n",
            "\n"
          ]
        }
      ]
    },
    {
      "cell_type": "code",
      "metadata": {
        "colab": {
          "base_uri": "https://localhost:8080/"
        },
        "id": "MlBoMB-xZ1VN",
        "outputId": "6a262b83-967b-4306-8bf2-07dd7f55cf60"
      },
      "source": [
        "print(classification_report(y_test, test_pred_mod2))"
      ],
      "execution_count": null,
      "outputs": [
        {
          "output_type": "stream",
          "name": "stdout",
          "text": [
            "              precision    recall  f1-score   support\n",
            "\n",
            "         0.0       0.90      0.97      0.94      2809\n",
            "         1.0       0.77      0.48      0.60       569\n",
            "\n",
            "    accuracy                           0.89      3378\n",
            "   macro avg       0.84      0.73      0.77      3378\n",
            "weighted avg       0.88      0.89      0.88      3378\n",
            "\n"
          ]
        }
      ]
    },
    {
      "cell_type": "code",
      "metadata": {
        "colab": {
          "base_uri": "https://localhost:8080/"
        },
        "id": "ztN9oFdZZ6HC",
        "outputId": "d2d6e45b-f9c0-40bd-98a4-d3e05a67cd94"
      },
      "source": [
        "mod2.score(x_train , y_train)"
      ],
      "execution_count": null,
      "outputs": [
        {
          "output_type": "execute_result",
          "data": {
            "text/plain": [
              "0.8867038822633849"
            ]
          },
          "metadata": {},
          "execution_count": 82
        }
      ]
    },
    {
      "cell_type": "code",
      "metadata": {
        "colab": {
          "base_uri": "https://localhost:8080/"
        },
        "id": "z8nJ4WXKZ8rl",
        "outputId": "dfe5da3f-4060-4eac-87ff-d3275c905b4c"
      },
      "source": [
        "mod2.score(x_test, y_test)"
      ],
      "execution_count": null,
      "outputs": [
        {
          "output_type": "execute_result",
          "data": {
            "text/plain": [
              "0.8892835997631735"
            ]
          },
          "metadata": {},
          "execution_count": 83
        }
      ]
    },
    {
      "cell_type": "code",
      "metadata": {
        "colab": {
          "base_uri": "https://localhost:8080/",
          "height": 316
        },
        "id": "tBy422hiaBnL",
        "outputId": "3ca10e57-97f4-4f11-b6b7-95eff20b3656"
      },
      "source": [
        "# training data\n",
        "probs3 = mod2.predict_proba(x_train)\n",
        "probs3 = probs3[:,1]\n",
        "\n",
        "auc_score_mod2_train = roc_auc_score(y_train, probs3)\n",
        "print('the auc score for mod2 on training dataset is: %.3f' %auc_score_mod2_train)\n",
        "\n",
        "train_tpr_mod2, train_fpr_mod2, train_thresholds_mod2 = roc_curve(y_train, probs3)\n",
        "plt.plot([0,1],[0,1], linestyle='--', color='g')\n",
        "plt.plot(train_tpr_mod2, train_fpr_mod2)\n",
        "plt.title('ROC curve for tuned LDA model on training data')"
      ],
      "execution_count": null,
      "outputs": [
        {
          "output_type": "stream",
          "name": "stdout",
          "text": [
            "the auc score for mod2 on training dataset is: 0.882\n"
          ]
        },
        {
          "output_type": "execute_result",
          "data": {
            "text/plain": [
              "Text(0.5, 1.0, 'ROC curve for tuned LDA model on training data')"
            ]
          },
          "metadata": {},
          "execution_count": 84
        },
        {
          "output_type": "display_data",
          "data": {
            "image/png": "[encoded data removed]",
            "text/plain": [
              "<Figure size 432x288 with 1 Axes>"
            ]
          },
          "metadata": {
            "needs_background": "light"
          }
        }
      ]
    },
    {
      "cell_type": "code",
      "metadata": {
        "colab": {
          "base_uri": "https://localhost:8080/",
          "height": 316
        },
        "id": "r7X9hTdLaEhe",
        "outputId": "6670e085-c937-49c0-ca27-41c7f31e3a4a"
      },
      "source": [
        "# testing dataset\n",
        "probs4 = mod2.predict_proba(x_test)\n",
        "probs4 = probs4[:,1]\n",
        "\n",
        "auc_score_mod2_test = roc_auc_score(y_test, probs4)\n",
        "print('the auc score for mod2 on testing dataset is: %.3f' %auc_score_mod2_test)\n",
        "\n",
        "test_tpr_mod2, test_fpr_mod2, test_thresholds_mod2 = roc_curve(y_test, probs4)\n",
        "plt.plot([0,1], [0,1], linestyle='--', color='g')\n",
        "plt.plot(test_tpr_mod2, test_fpr_mod2)\n",
        "plt.title('ROC curve for base tuned model on testing data')"
      ],
      "execution_count": null,
      "outputs": [
        {
          "output_type": "stream",
          "name": "stdout",
          "text": [
            "the auc score for mod2 on testing dataset is: 0.864\n"
          ]
        },
        {
          "output_type": "execute_result",
          "data": {
            "text/plain": [
              "Text(0.5, 1.0, 'ROC curve for base tuned model on testing data')"
            ]
          },
          "metadata": {},
          "execution_count": 85
        },
        {
          "output_type": "display_data",
          "data": {
            "image/png": "[encoded data removed]",
            "text/plain": [
              "<Figure size 432x288 with 1 Axes>"
            ]
          },
          "metadata": {
            "needs_background": "light"
          }
        }
      ]
    },
    {
      "cell_type": "code",
      "metadata": {
        "id": "cWF7wnQQaSgj"
      },
      "source": [
        "# Logistic Regression"
      ],
      "execution_count": null,
      "outputs": []
    },
    {
      "cell_type": "code",
      "metadata": {
        "colab": {
          "base_uri": "https://localhost:8080/"
        },
        "id": "PnrO0gX6aXZI",
        "outputId": "3d5a8fbc-9429-4454-9953-2f94dc58656b"
      },
      "source": [
        "from sklearn.linear_model import LogisticRegression\n",
        "\n",
        "mod3 = LogisticRegression( max_iter=1000,random_state=1 )\n",
        "mod3.fit(x_train, y_train)"
      ],
      "execution_count": null,
      "outputs": [
        {
          "output_type": "execute_result",
          "data": {
            "text/plain": [
              "LogisticRegression(max_iter=1000, random_state=1)"
            ]
          },
          "metadata": {},
          "execution_count": 87
        }
      ]
    },
    {
      "cell_type": "code",
      "metadata": {
        "id": "LNkc9J3Oab1B"
      },
      "source": [
        "train_pred_mod3 = mod3.predict(x_train)\n",
        "test_pred_mod3 = mod3.predict(x_test)"
      ],
      "execution_count": null,
      "outputs": []
    },
    {
      "cell_type": "code",
      "metadata": {
        "colab": {
          "base_uri": "https://localhost:8080/"
        },
        "id": "c78WJ39Tafxw",
        "outputId": "062562af-c090-4dc7-cac8-ace28ee483f5"
      },
      "source": [
        "print(classification_report(y_train, train_pred_mod3))"
      ],
      "execution_count": null,
      "outputs": [
        {
          "output_type": "stream",
          "name": "stdout",
          "text": [
            "              precision    recall  f1-score   support\n",
            "\n",
            "         0.0       0.91      0.97      0.94      6555\n",
            "         1.0       0.77      0.52      0.62      1327\n",
            "\n",
            "    accuracy                           0.89      7882\n",
            "   macro avg       0.84      0.74      0.78      7882\n",
            "weighted avg       0.88      0.89      0.88      7882\n",
            "\n"
          ]
        }
      ]
    },
    {
      "cell_type": "code",
      "metadata": {
        "colab": {
          "base_uri": "https://localhost:8080/"
        },
        "id": "FfPak_UEah8i",
        "outputId": "8f52a3ff-8f0f-4f1b-ba62-27a28af2c154"
      },
      "source": [
        "print(classification_report(y_test, test_pred_mod3))"
      ],
      "execution_count": null,
      "outputs": [
        {
          "output_type": "stream",
          "name": "stdout",
          "text": [
            "              precision    recall  f1-score   support\n",
            "\n",
            "         0.0       0.91      0.97      0.94      2809\n",
            "         1.0       0.78      0.52      0.62       569\n",
            "\n",
            "    accuracy                           0.89      3378\n",
            "   macro avg       0.84      0.75      0.78      3378\n",
            "weighted avg       0.89      0.89      0.89      3378\n",
            "\n"
          ]
        }
      ]
    },
    {
      "cell_type": "code",
      "metadata": {
        "colab": {
          "base_uri": "https://localhost:8080/",
          "height": 312
        },
        "id": "2qpJVeMgai01",
        "outputId": "de996024-765b-4f32-f7e8-31694692dfb5"
      },
      "source": [
        "# training data\n",
        "sns.heatmap(confusion_matrix(y_train, train_pred_mod3), cbar=False, annot=True, fmt='d')\n",
        "plt.xlabel('predicted labels')\n",
        "plt.ylabel('actual labels')\n",
        "plt.title('confusion matrix for base Logistic Regression model on training data')"
      ],
      "execution_count": null,
      "outputs": [
        {
          "output_type": "execute_result",
          "data": {
            "text/plain": [
              "Text(0.5, 1.0, 'confusion matrix for base Logistic Regression model on training data')"
            ]
          },
          "metadata": {},
          "execution_count": 91
        },
        {
          "output_type": "display_data",
          "data": {
            "image/png": "[encoded data removed]",
            "text/plain": [
              "<Figure size 432x288 with 1 Axes>"
            ]
          },
          "metadata": {
            "needs_background": "light"
          }
        }
      ]
    },
    {
      "cell_type": "code",
      "metadata": {
        "colab": {
          "base_uri": "https://localhost:8080/",
          "height": 312
        },
        "id": "jY_GgYcvaoBT",
        "outputId": "e6d7578e-3748-4f70-b8c9-bc21f8becd8f"
      },
      "source": [
        "# testing data\n",
        "sns.heatmap(confusion_matrix(y_test, test_pred_mod3), cbar=False, annot=True, fmt='d')\n",
        "plt.xlabel('predicted labels')\n",
        "plt.ylabel('actual labels')\n",
        "plt.title('confusion matrix for base Logistic Regression model on testing data')"
      ],
      "execution_count": null,
      "outputs": [
        {
          "output_type": "execute_result",
          "data": {
            "text/plain": [
              "Text(0.5, 1.0, 'confusion matrix for base Logistic Regression model on testing data')"
            ]
          },
          "metadata": {},
          "execution_count": 92
        },
        {
          "output_type": "display_data",
          "data": {
            "image/png": "[encoded data removed]",
            "text/plain": [
              "<Figure size 432x288 with 1 Axes>"
            ]
          },
          "metadata": {
            "needs_background": "light"
          }
        }
      ]
    },
    {
      "cell_type": "code",
      "metadata": {
        "colab": {
          "base_uri": "https://localhost:8080/"
        },
        "id": "RCxGLAT4aqws",
        "outputId": "1435d44e-ab80-4461-fb0b-57f15158a9bd"
      },
      "source": [
        "mod3.score(x_train, y_train)"
      ],
      "execution_count": null,
      "outputs": [
        {
          "output_type": "execute_result",
          "data": {
            "text/plain": [
              "0.89266683582847"
            ]
          },
          "metadata": {},
          "execution_count": 93
        }
      ]
    },
    {
      "cell_type": "code",
      "metadata": {
        "colab": {
          "base_uri": "https://localhost:8080/"
        },
        "id": "voQc6cu4aslS",
        "outputId": "610992ba-8fc1-4b44-f822-864fd1ebe161"
      },
      "source": [
        "mod3.score(x_train, y_train)"
      ],
      "execution_count": null,
      "outputs": [
        {
          "output_type": "execute_result",
          "data": {
            "text/plain": [
              "0.89266683582847"
            ]
          },
          "metadata": {},
          "execution_count": 94
        }
      ]
    },
    {
      "cell_type": "code",
      "metadata": {
        "id": "41UR2ThfavGi"
      },
      "source": [
        "#Tuning\n"
      ],
      "execution_count": null,
      "outputs": []
    },
    {
      "cell_type": "code",
      "metadata": {
        "id": "C3tn263bayNk"
      },
      "source": [
        "from sklearn.model_selection import GridSearchCV\n",
        "from sklearn.linear_model import LogisticRegression\n",
        "\n",
        "params = {\n",
        "    'solver' : ['newton-cg', 'lbfgs', 'liblinear', 'sag', 'saga'],\n",
        "    'tol' : [0.01,0.001,0.0001],\n",
        "    #'penalty': ['l1', 'l2'],\n",
        "    'max_iter': [1000, 10000],\n",
        "    'C' : np.logspace(-4,4,10,20),\n",
        "}\n",
        "logit_model =  LogisticRegression(max_iter = 50000,random_state=1, class_weight='balanced')\n",
        "grid = GridSearchCV(estimator = logit_model, param_grid=params, cv=5, scoring='recall', verbose=3)"
      ],
      "execution_count": null,
      "outputs": []
    },
    {
      "cell_type": "code",
      "metadata": {
        "colab": {
          "base_uri": "https://localhost:8080/"
        },
        "id": "dvWqRlzNa0gu",
        "outputId": "c9643921-884e-448b-92e0-8cdf9d36bb92"
      },
      "source": [
        "start = time.time()\n",
        "grid.fit(x_train, y_train)\n",
        "end = time.time()"
      ],
      "execution_count": null,
      "outputs": [
        {
          "output_type": "stream",
          "name": "stdout",
          "text": [
            "Fitting 5 folds for each of 300 candidates, totalling 1500 fits\n",
            "[CV 1/5] END C=0.0001, max_iter=1000, solver=newton-cg, tol=0.01;, score=0.808 total time=   0.1s\n",
            "[CV 2/5] END C=0.0001, max_iter=1000, solver=newton-cg, tol=0.01;, score=0.782 total time=   0.1s\n",
            "[CV 3/5] END C=0.0001, max_iter=1000, solver=newton-cg, tol=0.01;, score=0.800 total time=   0.1s\n",
            "[CV 4/5] END C=0.0001, max_iter=1000, solver=newton-cg, tol=0.01;, score=0.785 total time=   0.1s\n",
            "[CV 5/5] END C=0.0001, max_iter=1000, solver=newton-cg, tol=0.01;, score=0.770 total time=   0.1s\n",
            "[CV 1/5] END C=0.0001, max_iter=1000, solver=newton-cg, tol=0.001;, score=0.808 total time=   0.0s\n",
            "[CV 2/5] END C=0.0001, max_iter=1000, solver=newton-cg, tol=0.001;, score=0.782 total time=   0.0s\n",
            "[CV 3/5] END C=0.0001, max_iter=1000, solver=newton-cg, tol=0.001;, score=0.800 total time=   0.1s\n",
            "[CV 4/5] END C=0.0001, max_iter=1000, solver=newton-cg, tol=0.001;, score=0.785 total time=   0.0s\n",
            "[CV 5/5] END C=0.0001, max_iter=1000, solver=newton-cg, tol=0.001;, score=0.770 total time=   0.1s\n",
            "[CV 1/5] END C=0.0001, max_iter=1000, solver=newton-cg, tol=0.0001;, score=0.808 total time=   0.0s\n",
            "[CV 2/5] END C=0.0001, max_iter=1000, solver=newton-cg, tol=0.0001;, score=0.782 total time=   0.1s\n",
            "[CV 3/5] END C=0.0001, max_iter=1000, solver=newton-cg, tol=0.0001;, score=0.800 total time=   0.1s\n",
            "[CV 4/5] END C=0.0001, max_iter=1000, solver=newton-cg, tol=0.0001;, score=0.785 total time=   0.0s\n",
            "[CV 5/5] END C=0.0001, max_iter=1000, solver=newton-cg, tol=0.0001;, score=0.770 total time=   0.1s\n",
            "[CV 1/5] END C=0.0001, max_iter=1000, solver=lbfgs, tol=0.01;, score=0.808 total time=   0.0s\n",
            "[CV 2/5] END C=0.0001, max_iter=1000, solver=lbfgs, tol=0.01;, score=0.782 total time=   0.0s\n",
            "[CV 3/5] END C=0.0001, max_iter=1000, solver=lbfgs, tol=0.01;, score=0.800 total time=   0.0s\n",
            "[CV 4/5] END C=0.0001, max_iter=1000, solver=lbfgs, tol=0.01;, score=0.785 total time=   0.0s\n",
            "[CV 5/5] END C=0.0001, max_iter=1000, solver=lbfgs, tol=0.01;, score=0.770 total time=   0.0s\n",
            "[CV 1/5] END C=0.0001, max_iter=1000, solver=lbfgs, tol=0.001;, score=0.808 total time=   0.0s\n",
            "[CV 2/5] END C=0.0001, max_iter=1000, solver=lbfgs, tol=0.001;, score=0.782 total time=   0.0s\n",
            "[CV 3/5] END C=0.0001, max_iter=1000, solver=lbfgs, tol=0.001;, score=0.800 total time=   0.0s\n",
            "[CV 4/5] END C=0.0001, max_iter=1000, solver=lbfgs, tol=0.001;, score=0.785 total time=   0.0s\n",
            "[CV 5/5] END C=0.0001, max_iter=1000, solver=lbfgs, tol=0.001;, score=0.770 total time=   0.0s\n",
            "[CV 1/5] END C=0.0001, max_iter=1000, solver=lbfgs, tol=0.0001;, score=0.808 total time=   0.0s\n",
            "[CV 2/5] END C=0.0001, max_iter=1000, solver=lbfgs, tol=0.0001;, score=0.782 total time=   0.0s\n",
            "[CV 3/5] END C=0.0001, max_iter=1000, solver=lbfgs, tol=0.0001;, score=0.800 total time=   0.0s\n",
            "[CV 4/5] END C=0.0001, max_iter=1000, solver=lbfgs, tol=0.0001;, score=0.785 total time=   0.0s\n",
            "[CV 5/5] END C=0.0001, max_iter=1000, solver=lbfgs, tol=0.0001;, score=0.770 total time=   0.0s\n",
            "[CV 1/5] END C=0.0001, max_iter=1000, solver=liblinear, tol=0.01;, score=0.876 total time=   0.0s\n",
            "[CV 2/5] END C=0.0001, max_iter=1000, solver=liblinear, tol=0.01;, score=0.880 total time=   0.0s\n",
            "[CV 3/5] END C=0.0001, max_iter=1000, solver=liblinear, tol=0.01;, score=0.887 total time=   0.0s\n",
            "[CV 4/5] END C=0.0001, max_iter=1000, solver=liblinear, tol=0.01;, score=0.853 total time=   0.0s\n",
            "[CV 5/5] END C=0.0001, max_iter=1000, solver=liblinear, tol=0.01;, score=0.857 total time=   0.0s\n",
            "[CV 1/5] END C=0.0001, max_iter=1000, solver=liblinear, tol=0.001;, score=0.876 total time=   0.0s\n",
            "[CV 2/5] END C=0.0001, max_iter=1000, solver=liblinear, tol=0.001;, score=0.880 total time=   0.0s\n",
            "[CV 3/5] END C=0.0001, max_iter=1000, solver=liblinear, tol=0.001;, score=0.887 total time=   0.0s\n",
            "[CV 4/5] END C=0.0001, max_iter=1000, solver=liblinear, tol=0.001;, score=0.853 total time=   0.0s\n",
            "[CV 5/5] END C=0.0001, max_iter=1000, solver=liblinear, tol=0.001;, score=0.857 total time=   0.0s\n",
            "[CV 1/5] END C=0.0001, max_iter=1000, solver=liblinear, tol=0.0001;, score=0.876 total time=   0.0s\n",
            "[CV 2/5] END C=0.0001, max_iter=1000, solver=liblinear, tol=0.0001;, score=0.880 total time=   0.0s\n",
            "[CV 3/5] END C=0.0001, max_iter=1000, solver=liblinear, tol=0.0001;, score=0.887 total time=   0.0s\n",
            "[CV 4/5] END C=0.0001, max_iter=1000, solver=liblinear, tol=0.0001;, score=0.853 total time=   0.0s\n",
            "[CV 5/5] END C=0.0001, max_iter=1000, solver=liblinear, tol=0.0001;, score=0.857 total time=   0.0s\n",
            "[CV 1/5] END C=0.0001, max_iter=1000, solver=sag, tol=0.01;, score=0.823 total time=   0.0s\n",
            "[CV 2/5] END C=0.0001, max_iter=1000, solver=sag, tol=0.01;, score=0.737 total time=   0.0s\n",
            "[CV 3/5] END C=0.0001, max_iter=1000, solver=sag, tol=0.01;, score=0.751 total time=   0.0s\n",
            "[CV 4/5] END C=0.0001, max_iter=1000, solver=sag, tol=0.01;, score=0.732 total time=   0.0s\n",
            "[CV 5/5] END C=0.0001, max_iter=1000, solver=sag, tol=0.01;, score=0.826 total time=   0.0s\n",
            "[CV 1/5] END C=0.0001, max_iter=1000, solver=sag, tol=0.001;, score=0.805 total time=   0.1s\n",
            "[CV 2/5] END C=0.0001, max_iter=1000, solver=sag, tol=0.001;, score=0.778 total time=   0.1s\n",
            "[CV 3/5] END C=0.0001, max_iter=1000, solver=sag, tol=0.001;, score=0.800 total time=   0.1s\n",
            "[CV 4/5] END C=0.0001, max_iter=1000, solver=sag, tol=0.001;, score=0.785 total time=   0.1s\n",
            "[CV 5/5] END C=0.0001, max_iter=1000, solver=sag, tol=0.001;, score=0.770 total time=   0.1s\n",
            "[CV 1/5] END C=0.0001, max_iter=1000, solver=sag, tol=0.0001;, score=0.808 total time=   0.1s\n",
            "[CV 2/5] END C=0.0001, max_iter=1000, solver=sag, tol=0.0001;, score=0.782 total time=   0.1s\n",
            "[CV 3/5] END C=0.0001, max_iter=1000, solver=sag, tol=0.0001;, score=0.800 total time=   0.1s\n",
            "[CV 4/5] END C=0.0001, max_iter=1000, solver=sag, tol=0.0001;, score=0.785 total time=   0.1s\n",
            "[CV 5/5] END C=0.0001, max_iter=1000, solver=sag, tol=0.0001;, score=0.770 total time=   0.1s\n",
            "[CV 1/5] END C=0.0001, max_iter=1000, solver=saga, tol=0.01;, score=0.789 total time=   0.1s\n",
            "[CV 2/5] END C=0.0001, max_iter=1000, solver=saga, tol=0.01;, score=0.778 total time=   0.1s\n",
            "[CV 3/5] END C=0.0001, max_iter=1000, solver=saga, tol=0.01;, score=0.800 total time=   0.1s\n",
            "[CV 4/5] END C=0.0001, max_iter=1000, solver=saga, tol=0.01;, score=0.785 total time=   0.1s\n",
            "[CV 5/5] END C=0.0001, max_iter=1000, solver=saga, tol=0.01;, score=0.770 total time=   0.1s\n",
            "[CV 1/5] END C=0.0001, max_iter=1000, solver=saga, tol=0.001;, score=0.808 total time=   0.1s\n",
            "[CV 2/5] END C=0.0001, max_iter=1000, solver=saga, tol=0.001;, score=0.782 total time=   0.1s\n",
            "[CV 3/5] END C=0.0001, max_iter=1000, solver=saga, tol=0.001;, score=0.800 total time=   0.1s\n",
            "[CV 4/5] END C=0.0001, max_iter=1000, solver=saga, tol=0.001;, score=0.785 total time=   0.1s\n",
            "[CV 5/5] END C=0.0001, max_iter=1000, solver=saga, tol=0.001;, score=0.770 total time=   0.1s\n",
            "[CV 1/5] END C=0.0001, max_iter=1000, solver=saga, tol=0.0001;, score=0.808 total time=   0.1s\n",
            "[CV 2/5] END C=0.0001, max_iter=1000, solver=saga, tol=0.0001;, score=0.782 total time=   0.1s\n",
            "[CV 3/5] END C=0.0001, max_iter=1000, solver=saga, tol=0.0001;, score=0.800 total time=   0.1s\n",
            "[CV 4/5] END C=0.0001, max_iter=1000, solver=saga, tol=0.0001;, score=0.785 total time=   0.1s\n",
            "[CV 5/5] END C=0.0001, max_iter=1000, solver=saga, tol=0.0001;, score=0.770 total time=   0.1s\n",
            "[CV 1/5] END C=0.0001, max_iter=10000, solver=newton-cg, tol=0.01;, score=0.808 total time=   0.1s\n",
            "[CV 2/5] END C=0.0001, max_iter=10000, solver=newton-cg, tol=0.01;, score=0.782 total time=   0.1s\n",
            "[CV 3/5] END C=0.0001, max_iter=10000, solver=newton-cg, tol=0.01;, score=0.800 total time=   0.1s\n",
            "[CV 4/5] END C=0.0001, max_iter=10000, solver=newton-cg, tol=0.01;, score=0.785 total time=   0.0s\n",
            "[CV 5/5] END C=0.0001, max_iter=10000, solver=newton-cg, tol=0.01;, score=0.770 total time=   0.1s\n",
            "[CV 1/5] END C=0.0001, max_iter=10000, solver=newton-cg, tol=0.001;, score=0.808 total time=   0.0s\n",
            "[CV 2/5] END C=0.0001, max_iter=10000, solver=newton-cg, tol=0.001;, score=0.782 total time=   0.0s\n",
            "[CV 3/5] END C=0.0001, max_iter=10000, solver=newton-cg, tol=0.001;, score=0.800 total time=   0.1s\n",
            "[CV 4/5] END C=0.0001, max_iter=10000, solver=newton-cg, tol=0.001;, score=0.785 total time=   0.0s\n",
            "[CV 5/5] END C=0.0001, max_iter=10000, solver=newton-cg, tol=0.001;, score=0.770 total time=   0.1s\n",
            "[CV 1/5] END C=0.0001, max_iter=10000, solver=newton-cg, tol=0.0001;, score=0.808 total time=   0.0s\n",
            "[CV 2/5] END C=0.0001, max_iter=10000, solver=newton-cg, tol=0.0001;, score=0.782 total time=   0.1s\n",
            "[CV 3/5] END C=0.0001, max_iter=10000, solver=newton-cg, tol=0.0001;, score=0.800 total time=   0.1s\n",
            "[CV 4/5] END C=0.0001, max_iter=10000, solver=newton-cg, tol=0.0001;, score=0.785 total time=   0.1s\n",
            "[CV 5/5] END C=0.0001, max_iter=10000, solver=newton-cg, tol=0.0001;, score=0.770 total time=   0.1s\n",
            "[CV 1/5] END C=0.0001, max_iter=10000, solver=lbfgs, tol=0.01;, score=0.808 total time=   0.0s\n",
            "[CV 2/5] END C=0.0001, max_iter=10000, solver=lbfgs, tol=0.01;, score=0.782 total time=   0.0s\n",
            "[CV 3/5] END C=0.0001, max_iter=10000, solver=lbfgs, tol=0.01;, score=0.800 total time=   0.0s\n",
            "[CV 4/5] END C=0.0001, max_iter=10000, solver=lbfgs, tol=0.01;, score=0.785 total time=   0.0s\n",
            "[CV 5/5] END C=0.0001, max_iter=10000, solver=lbfgs, tol=0.01;, score=0.770 total time=   0.0s\n",
            "[CV 1/5] END C=0.0001, max_iter=10000, solver=lbfgs, tol=0.001;, score=0.808 total time=   0.0s\n",
            "[CV 2/5] END C=0.0001, max_iter=10000, solver=lbfgs, tol=0.001;, score=0.782 total time=   0.0s\n",
            "[CV 3/5] END C=0.0001, max_iter=10000, solver=lbfgs, tol=0.001;, score=0.800 total time=   0.0s\n",
            "[CV 4/5] END C=0.0001, max_iter=10000, solver=lbfgs, tol=0.001;, score=0.785 total time=   0.0s\n",
            "[CV 5/5] END C=0.0001, max_iter=10000, solver=lbfgs, tol=0.001;, score=0.770 total time=   0.0s\n",
            "[CV 1/5] END C=0.0001, max_iter=10000, solver=lbfgs, tol=0.0001;, score=0.808 total time=   0.0s\n",
            "[CV 2/5] END C=0.0001, max_iter=10000, solver=lbfgs, tol=0.0001;, score=0.782 total time=   0.0s\n",
            "[CV 3/5] END C=0.0001, max_iter=10000, solver=lbfgs, tol=0.0001;, score=0.800 total time=   0.0s\n",
            "[CV 4/5] END C=0.0001, max_iter=10000, solver=lbfgs, tol=0.0001;, score=0.785 total time=   0.0s\n",
            "[CV 5/5] END C=0.0001, max_iter=10000, solver=lbfgs, tol=0.0001;, score=0.770 total time=   0.0s\n",
            "[CV 1/5] END C=0.0001, max_iter=10000, solver=liblinear, tol=0.01;, score=0.876 total time=   0.0s\n",
            "[CV 2/5] END C=0.0001, max_iter=10000, solver=liblinear, tol=0.01;, score=0.880 total time=   0.0s\n",
            "[CV 3/5] END C=0.0001, max_iter=10000, solver=liblinear, tol=0.01;, score=0.887 total time=   0.0s\n",
            "[CV 4/5] END C=0.0001, max_iter=10000, solver=liblinear, tol=0.01;, score=0.853 total time=   0.0s\n",
            "[CV 5/5] END C=0.0001, max_iter=10000, solver=liblinear, tol=0.01;, score=0.857 total time=   0.0s\n",
            "[CV 1/5] END C=0.0001, max_iter=10000, solver=liblinear, tol=0.001;, score=0.876 total time=   0.0s\n",
            "[CV 2/5] END C=0.0001, max_iter=10000, solver=liblinear, tol=0.001;, score=0.880 total time=   0.0s\n",
            "[CV 3/5] END C=0.0001, max_iter=10000, solver=liblinear, tol=0.001;, score=0.887 total time=   0.0s\n",
            "[CV 4/5] END C=0.0001, max_iter=10000, solver=liblinear, tol=0.001;, score=0.853 total time=   0.0s\n",
            "[CV 5/5] END C=0.0001, max_iter=10000, solver=liblinear, tol=0.001;, score=0.857 total time=   0.0s\n",
            "[CV 1/5] END C=0.0001, max_iter=10000, solver=liblinear, tol=0.0001;, score=0.876 total time=   0.0s\n",
            "[CV 2/5] END C=0.0001, max_iter=10000, solver=liblinear, tol=0.0001;, score=0.880 total time=   0.0s\n",
            "[CV 3/5] END C=0.0001, max_iter=10000, solver=liblinear, tol=0.0001;, score=0.887 total time=   0.0s\n",
            "[CV 4/5] END C=0.0001, max_iter=10000, solver=liblinear, tol=0.0001;, score=0.853 total time=   0.0s\n",
            "[CV 5/5] END C=0.0001, max_iter=10000, solver=liblinear, tol=0.0001;, score=0.857 total time=   0.0s\n",
            "[CV 1/5] END C=0.0001, max_iter=10000, solver=sag, tol=0.01;, score=0.823 total time=   0.0s\n",
            "[CV 2/5] END C=0.0001, max_iter=10000, solver=sag, tol=0.01;, score=0.737 total time=   0.0s\n",
            "[CV 3/5] END C=0.0001, max_iter=10000, solver=sag, tol=0.01;, score=0.751 total time=   0.0s\n",
            "[CV 4/5] END C=0.0001, max_iter=10000, solver=sag, tol=0.01;, score=0.732 total time=   0.0s\n",
            "[CV 5/5] END C=0.0001, max_iter=10000, solver=sag, tol=0.01;, score=0.826 total time=   0.0s\n",
            "[CV 1/5] END C=0.0001, max_iter=10000, solver=sag, tol=0.001;, score=0.805 total time=   0.1s\n",
            "[CV 2/5] END C=0.0001, max_iter=10000, solver=sag, tol=0.001;, score=0.778 total time=   0.1s\n",
            "[CV 3/5] END C=0.0001, max_iter=10000, solver=sag, tol=0.001;, score=0.800 total time=   0.1s\n",
            "[CV 4/5] END C=0.0001, max_iter=10000, solver=sag, tol=0.001;, score=0.785 total time=   0.1s\n",
            "[CV 5/5] END C=0.0001, max_iter=10000, solver=sag, tol=0.001;, score=0.770 total time=   0.1s\n",
            "[CV 1/5] END C=0.0001, max_iter=10000, solver=sag, tol=0.0001;, score=0.808 total time=   0.1s\n",
            "[CV 2/5] END C=0.0001, max_iter=10000, solver=sag, tol=0.0001;, score=0.782 total time=   0.1s\n",
            "[CV 3/5] END C=0.0001, max_iter=10000, solver=sag, tol=0.0001;, score=0.800 total time=   0.1s\n",
            "[CV 4/5] END C=0.0001, max_iter=10000, solver=sag, tol=0.0001;, score=0.785 total time=   0.1s\n",
            "[CV 5/5] END C=0.0001, max_iter=10000, solver=sag, tol=0.0001;, score=0.770 total time=   0.1s\n",
            "[CV 1/5] END C=0.0001, max_iter=10000, solver=saga, tol=0.01;, score=0.789 total time=   0.1s\n",
            "[CV 2/5] END C=0.0001, max_iter=10000, solver=saga, tol=0.01;, score=0.778 total time=   0.1s\n",
            "[CV 3/5] END C=0.0001, max_iter=10000, solver=saga, tol=0.01;, score=0.800 total time=   0.1s\n",
            "[CV 4/5] END C=0.0001, max_iter=10000, solver=saga, tol=0.01;, score=0.785 total time=   0.1s\n",
            "[CV 5/5] END C=0.0001, max_iter=10000, solver=saga, tol=0.01;, score=0.770 total time=   0.1s\n",
            "[CV 1/5] END C=0.0001, max_iter=10000, solver=saga, tol=0.001;, score=0.808 total time=   0.1s\n",
            "[CV 2/5] END C=0.0001, max_iter=10000, solver=saga, tol=0.001;, score=0.782 total time=   0.1s\n",
            "[CV 3/5] END C=0.0001, max_iter=10000, solver=saga, tol=0.001;, score=0.800 total time=   0.1s\n",
            "[CV 4/5] END C=0.0001, max_iter=10000, solver=saga, tol=0.001;, score=0.785 total time=   0.1s\n",
            "[CV 5/5] END C=0.0001, max_iter=10000, solver=saga, tol=0.001;, score=0.770 total time=   0.1s\n",
            "[CV 1/5] END C=0.0001, max_iter=10000, solver=saga, tol=0.0001;, score=0.808 total time=   0.1s\n",
            "[CV 2/5] END C=0.0001, max_iter=10000, solver=saga, tol=0.0001;, score=0.782 total time=   0.1s\n",
            "[CV 3/5] END C=0.0001, max_iter=10000, solver=saga, tol=0.0001;, score=0.800 total time=   0.1s\n",
            "[CV 4/5] END C=0.0001, max_iter=10000, solver=saga, tol=0.0001;, score=0.785 total time=   0.1s\n",
            "[CV 5/5] END C=0.0001, max_iter=10000, solver=saga, tol=0.0001;, score=0.770 total time=   0.1s\n",
            "[CV 1/5] END C=0.000774263682681127, max_iter=1000, solver=newton-cg, tol=0.01;, score=0.823 total time=   0.1s\n",
            "[CV 2/5] END C=0.000774263682681127, max_iter=1000, solver=newton-cg, tol=0.01;, score=0.816 total time=   0.1s\n",
            "[CV 3/5] END C=0.000774263682681127, max_iter=1000, solver=newton-cg, tol=0.01;, score=0.808 total time=   0.1s\n",
            "[CV 4/5] END C=0.000774263682681127, max_iter=1000, solver=newton-cg, tol=0.01;, score=0.800 total time=   0.1s\n",
            "[CV 5/5] END C=0.000774263682681127, max_iter=1000, solver=newton-cg, tol=0.01;, score=0.781 total time=   0.1s\n",
            "[CV 1/5] END C=0.000774263682681127, max_iter=1000, solver=newton-cg, tol=0.001;, score=0.823 total time=   0.1s\n",
            "[CV 2/5] END C=0.000774263682681127, max_iter=1000, solver=newton-cg, tol=0.001;, score=0.816 total time=   0.1s\n",
            "[CV 3/5] END C=0.000774263682681127, max_iter=1000, solver=newton-cg, tol=0.001;, score=0.808 total time=   0.1s\n",
            "[CV 4/5] END C=0.000774263682681127, max_iter=1000, solver=newton-cg, tol=0.001;, score=0.800 total time=   0.1s\n",
            "[CV 5/5] END C=0.000774263682681127, max_iter=1000, solver=newton-cg, tol=0.001;, score=0.781 total time=   0.1s\n",
            "[CV 1/5] END C=0.000774263682681127, max_iter=1000, solver=newton-cg, tol=0.0001;, score=0.823 total time=   0.1s\n",
            "[CV 2/5] END C=0.000774263682681127, max_iter=1000, solver=newton-cg, tol=0.0001;, score=0.816 total time=   0.1s\n",
            "[CV 3/5] END C=0.000774263682681127, max_iter=1000, solver=newton-cg, tol=0.0001;, score=0.808 total time=   0.1s\n",
            "[CV 4/5] END C=0.000774263682681127, max_iter=1000, solver=newton-cg, tol=0.0001;, score=0.800 total time=   0.1s\n",
            "[CV 5/5] END C=0.000774263682681127, max_iter=1000, solver=newton-cg, tol=0.0001;, score=0.781 total time=   0.1s\n",
            "[CV 1/5] END C=0.000774263682681127, max_iter=1000, solver=lbfgs, tol=0.01;, score=0.823 total time=   0.0s\n",
            "[CV 2/5] END C=0.000774263682681127, max_iter=1000, solver=lbfgs, tol=0.01;, score=0.816 total time=   0.0s\n",
            "[CV 3/5] END C=0.000774263682681127, max_iter=1000, solver=lbfgs, tol=0.01;, score=0.808 total time=   0.0s\n",
            "[CV 4/5] END C=0.000774263682681127, max_iter=1000, solver=lbfgs, tol=0.01;, score=0.800 total time=   0.0s\n",
            "[CV 5/5] END C=0.000774263682681127, max_iter=1000, solver=lbfgs, tol=0.01;, score=0.781 total time=   0.0s\n",
            "[CV 1/5] END C=0.000774263682681127, max_iter=1000, solver=lbfgs, tol=0.001;, score=0.823 total time=   0.0s\n",
            "[CV 2/5] END C=0.000774263682681127, max_iter=1000, solver=lbfgs, tol=0.001;, score=0.816 total time=   0.0s\n",
            "[CV 3/5] END C=0.000774263682681127, max_iter=1000, solver=lbfgs, tol=0.001;, score=0.808 total time=   0.0s\n",
            "[CV 4/5] END C=0.000774263682681127, max_iter=1000, solver=lbfgs, tol=0.001;, score=0.800 total time=   0.0s\n",
            "[CV 5/5] END C=0.000774263682681127, max_iter=1000, solver=lbfgs, tol=0.001;, score=0.781 total time=   0.0s\n",
            "[CV 1/5] END C=0.000774263682681127, max_iter=1000, solver=lbfgs, tol=0.0001;, score=0.823 total time=   0.0s\n",
            "[CV 2/5] END C=0.000774263682681127, max_iter=1000, solver=lbfgs, tol=0.0001;, score=0.816 total time=   0.0s\n",
            "[CV 3/5] END C=0.000774263682681127, max_iter=1000, solver=lbfgs, tol=0.0001;, score=0.808 total time=   0.0s\n",
            "[CV 4/5] END C=0.000774263682681127, max_iter=1000, solver=lbfgs, tol=0.0001;, score=0.800 total time=   0.0s\n",
            "[CV 5/5] END C=0.000774263682681127, max_iter=1000, solver=lbfgs, tol=0.0001;, score=0.781 total time=   0.0s\n",
            "[CV 1/5] END C=0.000774263682681127, max_iter=1000, solver=liblinear, tol=0.01;, score=0.861 total time=   0.0s\n",
            "[CV 2/5] END C=0.000774263682681127, max_iter=1000, solver=liblinear, tol=0.01;, score=0.865 total time=   0.0s\n",
            "[CV 3/5] END C=0.000774263682681127, max_iter=1000, solver=liblinear, tol=0.01;, score=0.849 total time=   0.0s\n",
            "[CV 4/5] END C=0.000774263682681127, max_iter=1000, solver=liblinear, tol=0.01;, score=0.842 total time=   0.0s\n",
            "[CV 5/5] END C=0.000774263682681127, max_iter=1000, solver=liblinear, tol=0.01;, score=0.826 total time=   0.0s\n",
            "[CV 1/5] END C=0.000774263682681127, max_iter=1000, solver=liblinear, tol=0.001;, score=0.861 total time=   0.0s\n",
            "[CV 2/5] END C=0.000774263682681127, max_iter=1000, solver=liblinear, tol=0.001;, score=0.865 total time=   0.0s\n",
            "[CV 3/5] END C=0.000774263682681127, max_iter=1000, solver=liblinear, tol=0.001;, score=0.849 total time=   0.0s\n",
            "[CV 4/5] END C=0.000774263682681127, max_iter=1000, solver=liblinear, tol=0.001;, score=0.842 total time=   0.0s\n",
            "[CV 5/5] END C=0.000774263682681127, max_iter=1000, solver=liblinear, tol=0.001;, score=0.826 total time=   0.0s\n",
            "[CV 1/5] END C=0.000774263682681127, max_iter=1000, solver=liblinear, tol=0.0001;, score=0.861 total time=   0.0s\n",
            "[CV 2/5] END C=0.000774263682681127, max_iter=1000, solver=liblinear, tol=0.0001;, score=0.865 total time=   0.0s\n",
            "[CV 3/5] END C=0.000774263682681127, max_iter=1000, solver=liblinear, tol=0.0001;, score=0.849 total time=   0.0s\n",
            "[CV 4/5] END C=0.000774263682681127, max_iter=1000, solver=liblinear, tol=0.0001;, score=0.842 total time=   0.0s\n",
            "[CV 5/5] END C=0.000774263682681127, max_iter=1000, solver=liblinear, tol=0.0001;, score=0.826 total time=   0.0s\n",
            "[CV 1/5] END C=0.000774263682681127, max_iter=1000, solver=sag, tol=0.01;, score=0.823 total time=   0.0s\n",
            "[CV 2/5] END C=0.000774263682681127, max_iter=1000, solver=sag, tol=0.01;, score=0.816 total time=   0.0s\n",
            "[CV 3/5] END C=0.000774263682681127, max_iter=1000, solver=sag, tol=0.01;, score=0.808 total time=   0.0s\n",
            "[CV 4/5] END C=0.000774263682681127, max_iter=1000, solver=sag, tol=0.01;, score=0.800 total time=   0.0s\n",
            "[CV 5/5] END C=0.000774263682681127, max_iter=1000, solver=sag, tol=0.01;, score=0.792 total time=   0.0s\n",
            "[CV 1/5] END C=0.000774263682681127, max_iter=1000, solver=sag, tol=0.001;, score=0.823 total time=   0.1s\n",
            "[CV 2/5] END C=0.000774263682681127, max_iter=1000, solver=sag, tol=0.001;, score=0.816 total time=   0.1s\n",
            "[CV 3/5] END C=0.000774263682681127, max_iter=1000, solver=sag, tol=0.001;, score=0.808 total time=   0.1s\n",
            "[CV 4/5] END C=0.000774263682681127, max_iter=1000, solver=sag, tol=0.001;, score=0.796 total time=   0.1s\n",
            "[CV 5/5] END C=0.000774263682681127, max_iter=1000, solver=sag, tol=0.001;, score=0.781 total time=   0.1s\n",
            "[CV 1/5] END C=0.000774263682681127, max_iter=1000, solver=sag, tol=0.0001;, score=0.823 total time=   0.1s\n",
            "[CV 2/5] END C=0.000774263682681127, max_iter=1000, solver=sag, tol=0.0001;, score=0.816 total time=   0.1s\n",
            "[CV 3/5] END C=0.000774263682681127, max_iter=1000, solver=sag, tol=0.0001;, score=0.808 total time=   0.1s\n",
            "[CV 4/5] END C=0.000774263682681127, max_iter=1000, solver=sag, tol=0.0001;, score=0.800 total time=   0.1s\n",
            "[CV 5/5] END C=0.000774263682681127, max_iter=1000, solver=sag, tol=0.0001;, score=0.781 total time=   0.1s\n",
            "[CV 1/5] END C=0.000774263682681127, max_iter=1000, solver=saga, tol=0.01;, score=0.823 total time=   0.1s\n",
            "[CV 2/5] END C=0.000774263682681127, max_iter=1000, solver=saga, tol=0.01;, score=0.816 total time=   0.1s\n",
            "[CV 3/5] END C=0.000774263682681127, max_iter=1000, solver=saga, tol=0.01;, score=0.808 total time=   0.1s\n",
            "[CV 4/5] END C=0.000774263682681127, max_iter=1000, solver=saga, tol=0.01;, score=0.800 total time=   0.1s\n",
            "[CV 5/5] END C=0.000774263682681127, max_iter=1000, solver=saga, tol=0.01;, score=0.781 total time=   0.1s\n",
            "[CV 1/5] END C=0.000774263682681127, max_iter=1000, solver=saga, tol=0.001;, score=0.823 total time=   0.1s\n",
            "[CV 2/5] END C=0.000774263682681127, max_iter=1000, solver=saga, tol=0.001;, score=0.816 total time=   0.1s\n",
            "[CV 3/5] END C=0.000774263682681127, max_iter=1000, solver=saga, tol=0.001;, score=0.808 total time=   0.1s\n",
            "[CV 4/5] END C=0.000774263682681127, max_iter=1000, solver=saga, tol=0.001;, score=0.800 total time=   0.1s\n",
            "[CV 5/5] END C=0.000774263682681127, max_iter=1000, solver=saga, tol=0.001;, score=0.781 total time=   0.1s\n",
            "[CV 1/5] END C=0.000774263682681127, max_iter=1000, solver=saga, tol=0.0001;, score=0.823 total time=   0.1s\n",
            "[CV 2/5] END C=0.000774263682681127, max_iter=1000, solver=saga, tol=0.0001;, score=0.816 total time=   0.1s\n",
            "[CV 3/5] END C=0.000774263682681127, max_iter=1000, solver=saga, tol=0.0001;, score=0.808 total time=   0.1s\n",
            "[CV 4/5] END C=0.000774263682681127, max_iter=1000, solver=saga, tol=0.0001;, score=0.800 total time=   0.1s\n",
            "[CV 5/5] END C=0.000774263682681127, max_iter=1000, solver=saga, tol=0.0001;, score=0.781 total time=   0.1s\n",
            "[CV 1/5] END C=0.000774263682681127, max_iter=10000, solver=newton-cg, tol=0.01;, score=0.823 total time=   0.1s\n",
            "[CV 2/5] END C=0.000774263682681127, max_iter=10000, solver=newton-cg, tol=0.01;, score=0.816 total time=   0.1s\n",
            "[CV 3/5] END C=0.000774263682681127, max_iter=10000, solver=newton-cg, tol=0.01;, score=0.808 total time=   0.1s\n",
            "[CV 4/5] END C=0.000774263682681127, max_iter=10000, solver=newton-cg, tol=0.01;, score=0.800 total time=   0.1s\n",
            "[CV 5/5] END C=0.000774263682681127, max_iter=10000, solver=newton-cg, tol=0.01;, score=0.781 total time=   0.1s\n",
            "[CV 1/5] END C=0.000774263682681127, max_iter=10000, solver=newton-cg, tol=0.001;, score=0.823 total time=   0.1s\n",
            "[CV 2/5] END C=0.000774263682681127, max_iter=10000, solver=newton-cg, tol=0.001;, score=0.816 total time=   0.1s\n",
            "[CV 3/5] END C=0.000774263682681127, max_iter=10000, solver=newton-cg, tol=0.001;, score=0.808 total time=   0.1s\n",
            "[CV 4/5] END C=0.000774263682681127, max_iter=10000, solver=newton-cg, tol=0.001;, score=0.800 total time=   0.1s\n",
            "[CV 5/5] END C=0.000774263682681127, max_iter=10000, solver=newton-cg, tol=0.001;, score=0.781 total time=   0.1s\n",
            "[CV 1/5] END C=0.000774263682681127, max_iter=10000, solver=newton-cg, tol=0.0001;, score=0.823 total time=   0.1s\n",
            "[CV 2/5] END C=0.000774263682681127, max_iter=10000, solver=newton-cg, tol=0.0001;, score=0.816 total time=   0.1s\n",
            "[CV 3/5] END C=0.000774263682681127, max_iter=10000, solver=newton-cg, tol=0.0001;, score=0.808 total time=   0.1s\n",
            "[CV 4/5] END C=0.000774263682681127, max_iter=10000, solver=newton-cg, tol=0.0001;, score=0.800 total time=   0.1s\n",
            "[CV 5/5] END C=0.000774263682681127, max_iter=10000, solver=newton-cg, tol=0.0001;, score=0.781 total time=   0.1s\n",
            "[CV 1/5] END C=0.000774263682681127, max_iter=10000, solver=lbfgs, tol=0.01;, score=0.823 total time=   0.0s\n",
            "[CV 2/5] END C=0.000774263682681127, max_iter=10000, solver=lbfgs, tol=0.01;, score=0.816 total time=   0.0s\n",
            "[CV 3/5] END C=0.000774263682681127, max_iter=10000, solver=lbfgs, tol=0.01;, score=0.808 total time=   0.0s\n",
            "[CV 4/5] END C=0.000774263682681127, max_iter=10000, solver=lbfgs, tol=0.01;, score=0.800 total time=   0.0s\n",
            "[CV 5/5] END C=0.000774263682681127, max_iter=10000, solver=lbfgs, tol=0.01;, score=0.781 total time=   0.0s\n",
            "[CV 1/5] END C=0.000774263682681127, max_iter=10000, solver=lbfgs, tol=0.001;, score=0.823 total time=   0.0s\n",
            "[CV 2/5] END C=0.000774263682681127, max_iter=10000, solver=lbfgs, tol=0.001;, score=0.816 total time=   0.0s\n",
            "[CV 3/5] END C=0.000774263682681127, max_iter=10000, solver=lbfgs, tol=0.001;, score=0.808 total time=   0.0s\n",
            "[CV 4/5] END C=0.000774263682681127, max_iter=10000, solver=lbfgs, tol=0.001;, score=0.800 total time=   0.0s\n",
            "[CV 5/5] END C=0.000774263682681127, max_iter=10000, solver=lbfgs, tol=0.001;, score=0.781 total time=   0.0s\n",
            "[CV 1/5] END C=0.000774263682681127, max_iter=10000, solver=lbfgs, tol=0.0001;, score=0.823 total time=   0.0s\n",
            "[CV 2/5] END C=0.000774263682681127, max_iter=10000, solver=lbfgs, tol=0.0001;, score=0.816 total time=   0.1s\n",
            "[CV 3/5] END C=0.000774263682681127, max_iter=10000, solver=lbfgs, tol=0.0001;, score=0.808 total time=   0.0s\n",
            "[CV 4/5] END C=0.000774263682681127, max_iter=10000, solver=lbfgs, tol=0.0001;, score=0.800 total time=   0.0s\n",
            "[CV 5/5] END C=0.000774263682681127, max_iter=10000, solver=lbfgs, tol=0.0001;, score=0.781 total time=   0.0s\n",
            "[CV 1/5] END C=0.000774263682681127, max_iter=10000, solver=liblinear, tol=0.01;, score=0.861 total time=   0.0s\n",
            "[CV 2/5] END C=0.000774263682681127, max_iter=10000, solver=liblinear, tol=0.01;, score=0.865 total time=   0.0s\n",
            "[CV 3/5] END C=0.000774263682681127, max_iter=10000, solver=liblinear, tol=0.01;, score=0.849 total time=   0.0s\n",
            "[CV 4/5] END C=0.000774263682681127, max_iter=10000, solver=liblinear, tol=0.01;, score=0.842 total time=   0.0s\n",
            "[CV 5/5] END C=0.000774263682681127, max_iter=10000, solver=liblinear, tol=0.01;, score=0.826 total time=   0.0s\n",
            "[CV 1/5] END C=0.000774263682681127, max_iter=10000, solver=liblinear, tol=0.001;, score=0.861 total time=   0.0s\n",
            "[CV 2/5] END C=0.000774263682681127, max_iter=10000, solver=liblinear, tol=0.001;, score=0.865 total time=   0.0s\n",
            "[CV 3/5] END C=0.000774263682681127, max_iter=10000, solver=liblinear, tol=0.001;, score=0.849 total time=   0.0s\n",
            "[CV 4/5] END C=0.000774263682681127, max_iter=10000, solver=liblinear, tol=0.001;, score=0.842 total time=   0.0s\n",
            "[CV 5/5] END C=0.000774263682681127, max_iter=10000, solver=liblinear, tol=0.001;, score=0.826 total time=   0.0s\n",
            "[CV 1/5] END C=0.000774263682681127, max_iter=10000, solver=liblinear, tol=0.0001;, score=0.861 total time=   0.0s\n",
            "[CV 2/5] END C=0.000774263682681127, max_iter=10000, solver=liblinear, tol=0.0001;, score=0.865 total time=   0.0s\n",
            "[CV 3/5] END C=0.000774263682681127, max_iter=10000, solver=liblinear, tol=0.0001;, score=0.849 total time=   0.0s\n",
            "[CV 4/5] END C=0.000774263682681127, max_iter=10000, solver=liblinear, tol=0.0001;, score=0.842 total time=   0.0s\n",
            "[CV 5/5] END C=0.000774263682681127, max_iter=10000, solver=liblinear, tol=0.0001;, score=0.826 total time=   0.0s\n",
            "[CV 1/5] END C=0.000774263682681127, max_iter=10000, solver=sag, tol=0.01;, score=0.823 total time=   0.0s\n",
            "[CV 2/5] END C=0.000774263682681127, max_iter=10000, solver=sag, tol=0.01;, score=0.816 total time=   0.0s\n",
            "[CV 3/5] END C=0.000774263682681127, max_iter=10000, solver=sag, tol=0.01;, score=0.808 total time=   0.0s\n",
            "[CV 4/5] END C=0.000774263682681127, max_iter=10000, solver=sag, tol=0.01;, score=0.800 total time=   0.0s\n",
            "[CV 5/5] END C=0.000774263682681127, max_iter=10000, solver=sag, tol=0.01;, score=0.792 total time=   0.0s\n",
            "[CV 1/5] END C=0.000774263682681127, max_iter=10000, solver=sag, tol=0.001;, score=0.823 total time=   0.1s\n",
            "[CV 2/5] END C=0.000774263682681127, max_iter=10000, solver=sag, tol=0.001;, score=0.816 total time=   0.1s\n",
            "[CV 3/5] END C=0.000774263682681127, max_iter=10000, solver=sag, tol=0.001;, score=0.808 total time=   0.1s\n",
            "[CV 4/5] END C=0.000774263682681127, max_iter=10000, solver=sag, tol=0.001;, score=0.796 total time=   0.1s\n",
            "[CV 5/5] END C=0.000774263682681127, max_iter=10000, solver=sag, tol=0.001;, score=0.781 total time=   0.1s\n",
            "[CV 1/5] END C=0.000774263682681127, max_iter=10000, solver=sag, tol=0.0001;, score=0.823 total time=   0.1s\n",
            "[CV 2/5] END C=0.000774263682681127, max_iter=10000, solver=sag, tol=0.0001;, score=0.816 total time=   0.1s\n",
            "[CV 3/5] END C=0.000774263682681127, max_iter=10000, solver=sag, tol=0.0001;, score=0.808 total time=   0.1s\n",
            "[CV 4/5] END C=0.000774263682681127, max_iter=10000, solver=sag, tol=0.0001;, score=0.800 total time=   0.1s\n",
            "[CV 5/5] END C=0.000774263682681127, max_iter=10000, solver=sag, tol=0.0001;, score=0.781 total time=   0.1s\n",
            "[CV 1/5] END C=0.000774263682681127, max_iter=10000, solver=saga, tol=0.01;, score=0.823 total time=   0.1s\n",
            "[CV 2/5] END C=0.000774263682681127, max_iter=10000, solver=saga, tol=0.01;, score=0.816 total time=   0.1s\n",
            "[CV 3/5] END C=0.000774263682681127, max_iter=10000, solver=saga, tol=0.01;, score=0.808 total time=   0.1s\n",
            "[CV 4/5] END C=0.000774263682681127, max_iter=10000, solver=saga, tol=0.01;, score=0.800 total time=   0.1s\n",
            "[CV 5/5] END C=0.000774263682681127, max_iter=10000, solver=saga, tol=0.01;, score=0.781 total time=   0.1s\n",
            "[CV 1/5] END C=0.000774263682681127, max_iter=10000, solver=saga, tol=0.001;, score=0.823 total time=   0.1s\n",
            "[CV 2/5] END C=0.000774263682681127, max_iter=10000, solver=saga, tol=0.001;, score=0.816 total time=   0.1s\n",
            "[CV 3/5] END C=0.000774263682681127, max_iter=10000, solver=saga, tol=0.001;, score=0.808 total time=   0.1s\n",
            "[CV 4/5] END C=0.000774263682681127, max_iter=10000, solver=saga, tol=0.001;, score=0.800 total time=   0.1s\n",
            "[CV 5/5] END C=0.000774263682681127, max_iter=10000, solver=saga, tol=0.001;, score=0.781 total time=   0.1s\n",
            "[CV 1/5] END C=0.000774263682681127, max_iter=10000, solver=saga, tol=0.0001;, score=0.823 total time=   0.1s\n",
            "[CV 2/5] END C=0.000774263682681127, max_iter=10000, solver=saga, tol=0.0001;, score=0.816 total time=   0.1s\n",
            "[CV 3/5] END C=0.000774263682681127, max_iter=10000, solver=saga, tol=0.0001;, score=0.808 total time=   0.1s\n",
            "[CV 4/5] END C=0.000774263682681127, max_iter=10000, solver=saga, tol=0.0001;, score=0.800 total time=   0.1s\n",
            "[CV 5/5] END C=0.000774263682681127, max_iter=10000, solver=saga, tol=0.0001;, score=0.781 total time=   0.1s\n",
            "[CV 1/5] END C=0.005994842503189409, max_iter=1000, solver=newton-cg, tol=0.01;, score=0.827 total time=   0.1s\n",
            "[CV 2/5] END C=0.005994842503189409, max_iter=1000, solver=newton-cg, tol=0.01;, score=0.823 total time=   0.1s\n",
            "[CV 3/5] END C=0.005994842503189409, max_iter=1000, solver=newton-cg, tol=0.01;, score=0.808 total time=   0.1s\n",
            "[CV 4/5] END C=0.005994842503189409, max_iter=1000, solver=newton-cg, tol=0.01;, score=0.800 total time=   0.1s\n",
            "[CV 5/5] END C=0.005994842503189409, max_iter=1000, solver=newton-cg, tol=0.01;, score=0.789 total time=   0.1s\n",
            "[CV 1/5] END C=0.005994842503189409, max_iter=1000, solver=newton-cg, tol=0.001;, score=0.827 total time=   0.1s\n",
            "[CV 2/5] END C=0.005994842503189409, max_iter=1000, solver=newton-cg, tol=0.001;, score=0.823 total time=   0.1s\n",
            "[CV 3/5] END C=0.005994842503189409, max_iter=1000, solver=newton-cg, tol=0.001;, score=0.808 total time=   0.1s\n",
            "[CV 4/5] END C=0.005994842503189409, max_iter=1000, solver=newton-cg, tol=0.001;, score=0.800 total time=   0.1s\n",
            "[CV 5/5] END C=0.005994842503189409, max_iter=1000, solver=newton-cg, tol=0.001;, score=0.789 total time=   0.1s\n",
            "[CV 1/5] END C=0.005994842503189409, max_iter=1000, solver=newton-cg, tol=0.0001;, score=0.827 total time=   0.1s\n",
            "[CV 2/5] END C=0.005994842503189409, max_iter=1000, solver=newton-cg, tol=0.0001;, score=0.823 total time=   0.1s\n",
            "[CV 3/5] END C=0.005994842503189409, max_iter=1000, solver=newton-cg, tol=0.0001;, score=0.808 total time=   0.1s\n",
            "[CV 4/5] END C=0.005994842503189409, max_iter=1000, solver=newton-cg, tol=0.0001;, score=0.800 total time=   0.1s\n",
            "[CV 5/5] END C=0.005994842503189409, max_iter=1000, solver=newton-cg, tol=0.0001;, score=0.789 total time=   0.1s\n",
            "[CV 1/5] END C=0.005994842503189409, max_iter=1000, solver=lbfgs, tol=0.01;, score=0.827 total time=   0.0s\n",
            "[CV 2/5] END C=0.005994842503189409, max_iter=1000, solver=lbfgs, tol=0.01;, score=0.823 total time=   0.1s\n",
            "[CV 3/5] END C=0.005994842503189409, max_iter=1000, solver=lbfgs, tol=0.01;, score=0.808 total time=   0.0s\n",
            "[CV 4/5] END C=0.005994842503189409, max_iter=1000, solver=lbfgs, tol=0.01;, score=0.800 total time=   0.0s\n",
            "[CV 5/5] END C=0.005994842503189409, max_iter=1000, solver=lbfgs, tol=0.01;, score=0.789 total time=   0.0s\n",
            "[CV 1/5] END C=0.005994842503189409, max_iter=1000, solver=lbfgs, tol=0.001;, score=0.827 total time=   0.0s\n",
            "[CV 2/5] END C=0.005994842503189409, max_iter=1000, solver=lbfgs, tol=0.001;, score=0.823 total time=   0.0s\n",
            "[CV 3/5] END C=0.005994842503189409, max_iter=1000, solver=lbfgs, tol=0.001;, score=0.808 total time=   0.0s\n",
            "[CV 4/5] END C=0.005994842503189409, max_iter=1000, solver=lbfgs, tol=0.001;, score=0.800 total time=   0.0s\n",
            "[CV 5/5] END C=0.005994842503189409, max_iter=1000, solver=lbfgs, tol=0.001;, score=0.789 total time=   0.0s\n",
            "[CV 1/5] END C=0.005994842503189409, max_iter=1000, solver=lbfgs, tol=0.0001;, score=0.827 total time=   0.0s\n",
            "[CV 2/5] END C=0.005994842503189409, max_iter=1000, solver=lbfgs, tol=0.0001;, score=0.823 total time=   0.0s\n",
            "[CV 3/5] END C=0.005994842503189409, max_iter=1000, solver=lbfgs, tol=0.0001;, score=0.808 total time=   0.0s\n",
            "[CV 4/5] END C=0.005994842503189409, max_iter=1000, solver=lbfgs, tol=0.0001;, score=0.800 total time=   0.0s\n",
            "[CV 5/5] END C=0.005994842503189409, max_iter=1000, solver=lbfgs, tol=0.0001;, score=0.789 total time=   0.0s\n",
            "[CV 1/5] END C=0.005994842503189409, max_iter=1000, solver=liblinear, tol=0.01;, score=0.846 total time=   0.0s\n",
            "[CV 2/5] END C=0.005994842503189409, max_iter=1000, solver=liblinear, tol=0.01;, score=0.853 total time=   0.0s\n",
            "[CV 3/5] END C=0.005994842503189409, max_iter=1000, solver=liblinear, tol=0.01;, score=0.826 total time=   0.0s\n",
            "[CV 4/5] END C=0.005994842503189409, max_iter=1000, solver=liblinear, tol=0.01;, score=0.826 total time=   0.0s\n",
            "[CV 5/5] END C=0.005994842503189409, max_iter=1000, solver=liblinear, tol=0.01;, score=0.815 total time=   0.0s\n",
            "[CV 1/5] END C=0.005994842503189409, max_iter=1000, solver=liblinear, tol=0.001;, score=0.846 total time=   0.0s\n",
            "[CV 2/5] END C=0.005994842503189409, max_iter=1000, solver=liblinear, tol=0.001;, score=0.853 total time=   0.0s\n",
            "[CV 3/5] END C=0.005994842503189409, max_iter=1000, solver=liblinear, tol=0.001;, score=0.826 total time=   0.0s\n",
            "[CV 4/5] END C=0.005994842503189409, max_iter=1000, solver=liblinear, tol=0.001;, score=0.823 total time=   0.0s\n",
            "[CV 5/5] END C=0.005994842503189409, max_iter=1000, solver=liblinear, tol=0.001;, score=0.819 total time=   0.0s\n",
            "[CV 1/5] END C=0.005994842503189409, max_iter=1000, solver=liblinear, tol=0.0001;, score=0.846 total time=   0.1s\n",
            "[CV 2/5] END C=0.005994842503189409, max_iter=1000, solver=liblinear, tol=0.0001;, score=0.853 total time=   0.0s\n",
            "[CV 3/5] END C=0.005994842503189409, max_iter=1000, solver=liblinear, tol=0.0001;, score=0.826 total time=   0.0s\n",
            "[CV 4/5] END C=0.005994842503189409, max_iter=1000, solver=liblinear, tol=0.0001;, score=0.823 total time=   0.1s\n",
            "[CV 5/5] END C=0.005994842503189409, max_iter=1000, solver=liblinear, tol=0.0001;, score=0.819 total time=   0.0s\n",
            "[CV 1/5] END C=0.005994842503189409, max_iter=1000, solver=sag, tol=0.01;, score=0.827 total time=   0.0s\n",
            "[CV 2/5] END C=0.005994842503189409, max_iter=1000, solver=sag, tol=0.01;, score=0.827 total time=   0.0s\n",
            "[CV 3/5] END C=0.005994842503189409, max_iter=1000, solver=sag, tol=0.01;, score=0.811 total time=   0.1s\n",
            "[CV 4/5] END C=0.005994842503189409, max_iter=1000, solver=sag, tol=0.01;, score=0.800 total time=   0.1s\n",
            "[CV 5/5] END C=0.005994842503189409, max_iter=1000, solver=sag, tol=0.01;, score=0.789 total time=   0.0s\n",
            "[CV 1/5] END C=0.005994842503189409, max_iter=1000, solver=sag, tol=0.001;, score=0.827 total time=   0.1s\n",
            "[CV 2/5] END C=0.005994842503189409, max_iter=1000, solver=sag, tol=0.001;, score=0.823 total time=   0.1s\n",
            "[CV 3/5] END C=0.005994842503189409, max_iter=1000, solver=sag, tol=0.001;, score=0.808 total time=   0.1s\n",
            "[CV 4/5] END C=0.005994842503189409, max_iter=1000, solver=sag, tol=0.001;, score=0.800 total time=   0.1s\n",
            "[CV 5/5] END C=0.005994842503189409, max_iter=1000, solver=sag, tol=0.001;, score=0.789 total time=   0.1s\n",
            "[CV 1/5] END C=0.005994842503189409, max_iter=1000, solver=sag, tol=0.0001;, score=0.827 total time=   0.1s\n",
            "[CV 2/5] END C=0.005994842503189409, max_iter=1000, solver=sag, tol=0.0001;, score=0.823 total time=   0.1s\n",
            "[CV 3/5] END C=0.005994842503189409, max_iter=1000, solver=sag, tol=0.0001;, score=0.808 total time=   0.1s\n",
            "[CV 4/5] END C=0.005994842503189409, max_iter=1000, solver=sag, tol=0.0001;, score=0.800 total time=   0.1s\n",
            "[CV 5/5] END C=0.005994842503189409, max_iter=1000, solver=sag, tol=0.0001;, score=0.789 total time=   0.1s\n",
            "[CV 1/5] END C=0.005994842503189409, max_iter=1000, solver=saga, tol=0.01;, score=0.827 total time=   0.1s\n",
            "[CV 2/5] END C=0.005994842503189409, max_iter=1000, solver=saga, tol=0.01;, score=0.823 total time=   0.1s\n",
            "[CV 3/5] END C=0.005994842503189409, max_iter=1000, solver=saga, tol=0.01;, score=0.808 total time=   0.1s\n",
            "[CV 4/5] END C=0.005994842503189409, max_iter=1000, solver=saga, tol=0.01;, score=0.800 total time=   0.1s\n",
            "[CV 5/5] END C=0.005994842503189409, max_iter=1000, solver=saga, tol=0.01;, score=0.789 total time=   0.1s\n",
            "[CV 1/5] END C=0.005994842503189409, max_iter=1000, solver=saga, tol=0.001;, score=0.827 total time=   0.1s\n",
            "[CV 2/5] END C=0.005994842503189409, max_iter=1000, solver=saga, tol=0.001;, score=0.823 total time=   0.1s\n",
            "[CV 3/5] END C=0.005994842503189409, max_iter=1000, solver=saga, tol=0.001;, score=0.808 total time=   0.1s\n",
            "[CV 4/5] END C=0.005994842503189409, max_iter=1000, solver=saga, tol=0.001;, score=0.800 total time=   0.1s\n",
            "[CV 5/5] END C=0.005994842503189409, max_iter=1000, solver=saga, tol=0.001;, score=0.789 total time=   0.1s\n",
            "[CV 1/5] END C=0.005994842503189409, max_iter=1000, solver=saga, tol=0.0001;, score=0.827 total time=   0.1s\n",
            "[CV 2/5] END C=0.005994842503189409, max_iter=1000, solver=saga, tol=0.0001;, score=0.823 total time=   0.1s\n",
            "[CV 3/5] END C=0.005994842503189409, max_iter=1000, solver=saga, tol=0.0001;, score=0.808 total time=   0.1s\n",
            "[CV 4/5] END C=0.005994842503189409, max_iter=1000, solver=saga, tol=0.0001;, score=0.800 total time=   0.1s\n",
            "[CV 5/5] END C=0.005994842503189409, max_iter=1000, solver=saga, tol=0.0001;, score=0.789 total time=   0.1s\n",
            "[CV 1/5] END C=0.005994842503189409, max_iter=10000, solver=newton-cg, tol=0.01;, score=0.827 total time=   0.1s\n",
            "[CV 2/5] END C=0.005994842503189409, max_iter=10000, solver=newton-cg, tol=0.01;, score=0.823 total time=   0.1s\n",
            "[CV 3/5] END C=0.005994842503189409, max_iter=10000, solver=newton-cg, tol=0.01;, score=0.808 total time=   0.1s\n",
            "[CV 4/5] END C=0.005994842503189409, max_iter=10000, solver=newton-cg, tol=0.01;, score=0.800 total time=   0.1s\n",
            "[CV 5/5] END C=0.005994842503189409, max_iter=10000, solver=newton-cg, tol=0.01;, score=0.789 total time=   0.1s\n",
            "[CV 1/5] END C=0.005994842503189409, max_iter=10000, solver=newton-cg, tol=0.001;, score=0.827 total time=   0.1s\n",
            "[CV 2/5] END C=0.005994842503189409, max_iter=10000, solver=newton-cg, tol=0.001;, score=0.823 total time=   0.1s\n",
            "[CV 3/5] END C=0.005994842503189409, max_iter=10000, solver=newton-cg, tol=0.001;, score=0.808 total time=   0.1s\n",
            "[CV 4/5] END C=0.005994842503189409, max_iter=10000, solver=newton-cg, tol=0.001;, score=0.800 total time=   0.1s\n",
            "[CV 5/5] END C=0.005994842503189409, max_iter=10000, solver=newton-cg, tol=0.001;, score=0.789 total time=   0.1s\n",
            "[CV 1/5] END C=0.005994842503189409, max_iter=10000, solver=newton-cg, tol=0.0001;, score=0.827 total time=   0.1s\n",
            "[CV 2/5] END C=0.005994842503189409, max_iter=10000, solver=newton-cg, tol=0.0001;, score=0.823 total time=   0.1s\n",
            "[CV 3/5] END C=0.005994842503189409, max_iter=10000, solver=newton-cg, tol=0.0001;, score=0.808 total time=   0.1s\n",
            "[CV 4/5] END C=0.005994842503189409, max_iter=10000, solver=newton-cg, tol=0.0001;, score=0.800 total time=   0.1s\n",
            "[CV 5/5] END C=0.005994842503189409, max_iter=10000, solver=newton-cg, tol=0.0001;, score=0.789 total time=   0.1s\n",
            "[CV 1/5] END C=0.005994842503189409, max_iter=10000, solver=lbfgs, tol=0.01;, score=0.827 total time=   0.0s\n",
            "[CV 2/5] END C=0.005994842503189409, max_iter=10000, solver=lbfgs, tol=0.01;, score=0.823 total time=   0.0s\n",
            "[CV 3/5] END C=0.005994842503189409, max_iter=10000, solver=lbfgs, tol=0.01;, score=0.808 total time=   0.0s\n",
            "[CV 4/5] END C=0.005994842503189409, max_iter=10000, solver=lbfgs, tol=0.01;, score=0.800 total time=   0.0s\n",
            "[CV 5/5] END C=0.005994842503189409, max_iter=10000, solver=lbfgs, tol=0.01;, score=0.789 total time=   0.0s\n",
            "[CV 1/5] END C=0.005994842503189409, max_iter=10000, solver=lbfgs, tol=0.001;, score=0.827 total time=   0.0s\n",
            "[CV 2/5] END C=0.005994842503189409, max_iter=10000, solver=lbfgs, tol=0.001;, score=0.823 total time=   0.1s\n",
            "[CV 3/5] END C=0.005994842503189409, max_iter=10000, solver=lbfgs, tol=0.001;, score=0.808 total time=   0.0s\n",
            "[CV 4/5] END C=0.005994842503189409, max_iter=10000, solver=lbfgs, tol=0.001;, score=0.800 total time=   0.0s\n",
            "[CV 5/5] END C=0.005994842503189409, max_iter=10000, solver=lbfgs, tol=0.001;, score=0.789 total time=   0.0s\n",
            "[CV 1/5] END C=0.005994842503189409, max_iter=10000, solver=lbfgs, tol=0.0001;, score=0.827 total time=   0.0s\n",
            "[CV 2/5] END C=0.005994842503189409, max_iter=10000, solver=lbfgs, tol=0.0001;, score=0.823 total time=   0.0s\n",
            "[CV 3/5] END C=0.005994842503189409, max_iter=10000, solver=lbfgs, tol=0.0001;, score=0.808 total time=   0.0s\n",
            "[CV 4/5] END C=0.005994842503189409, max_iter=10000, solver=lbfgs, tol=0.0001;, score=0.800 total time=   0.0s\n",
            "[CV 5/5] END C=0.005994842503189409, max_iter=10000, solver=lbfgs, tol=0.0001;, score=0.789 total time=   0.0s\n",
            "[CV 1/5] END C=0.005994842503189409, max_iter=10000, solver=liblinear, tol=0.01;, score=0.846 total time=   0.0s\n",
            "[CV 2/5] END C=0.005994842503189409, max_iter=10000, solver=liblinear, tol=0.01;, score=0.853 total time=   0.0s\n",
            "[CV 3/5] END C=0.005994842503189409, max_iter=10000, solver=liblinear, tol=0.01;, score=0.826 total time=   0.0s\n",
            "[CV 4/5] END C=0.005994842503189409, max_iter=10000, solver=liblinear, tol=0.01;, score=0.826 total time=   0.0s\n",
            "[CV 5/5] END C=0.005994842503189409, max_iter=10000, solver=liblinear, tol=0.01;, score=0.815 total time=   0.0s\n",
            "[CV 1/5] END C=0.005994842503189409, max_iter=10000, solver=liblinear, tol=0.001;, score=0.846 total time=   0.0s\n",
            "[CV 2/5] END C=0.005994842503189409, max_iter=10000, solver=liblinear, tol=0.001;, score=0.853 total time=   0.0s\n",
            "[CV 3/5] END C=0.005994842503189409, max_iter=10000, solver=liblinear, tol=0.001;, score=0.826 total time=   0.0s\n",
            "[CV 4/5] END C=0.005994842503189409, max_iter=10000, solver=liblinear, tol=0.001;, score=0.823 total time=   0.0s\n",
            "[CV 5/5] END C=0.005994842503189409, max_iter=10000, solver=liblinear, tol=0.001;, score=0.819 total time=   0.0s\n",
            "[CV 1/5] END C=0.005994842503189409, max_iter=10000, solver=liblinear, tol=0.0001;, score=0.846 total time=   0.1s\n",
            "[CV 2/5] END C=0.005994842503189409, max_iter=10000, solver=liblinear, tol=0.0001;, score=0.853 total time=   0.0s\n",
            "[CV 3/5] END C=0.005994842503189409, max_iter=10000, solver=liblinear, tol=0.0001;, score=0.826 total time=   0.0s\n",
            "[CV 4/5] END C=0.005994842503189409, max_iter=10000, solver=liblinear, tol=0.0001;, score=0.823 total time=   0.0s\n",
            "[CV 5/5] END C=0.005994842503189409, max_iter=10000, solver=liblinear, tol=0.0001;, score=0.819 total time=   0.1s\n",
            "[CV 1/5] END C=0.005994842503189409, max_iter=10000, solver=sag, tol=0.01;, score=0.827 total time=   0.1s\n",
            "[CV 2/5] END C=0.005994842503189409, max_iter=10000, solver=sag, tol=0.01;, score=0.827 total time=   0.0s\n",
            "[CV 3/5] END C=0.005994842503189409, max_iter=10000, solver=sag, tol=0.01;, score=0.811 total time=   0.0s\n",
            "[CV 4/5] END C=0.005994842503189409, max_iter=10000, solver=sag, tol=0.01;, score=0.800 total time=   0.1s\n",
            "[CV 5/5] END C=0.005994842503189409, max_iter=10000, solver=sag, tol=0.01;, score=0.789 total time=   0.1s\n",
            "[CV 1/5] END C=0.005994842503189409, max_iter=10000, solver=sag, tol=0.001;, score=0.827 total time=   0.1s\n",
            "[CV 2/5] END C=0.005994842503189409, max_iter=10000, solver=sag, tol=0.001;, score=0.823 total time=   0.1s\n",
            "[CV 3/5] END C=0.005994842503189409, max_iter=10000, solver=sag, tol=0.001;, score=0.808 total time=   0.1s\n",
            "[CV 4/5] END C=0.005994842503189409, max_iter=10000, solver=sag, tol=0.001;, score=0.800 total time=   0.1s\n",
            "[CV 5/5] END C=0.005994842503189409, max_iter=10000, solver=sag, tol=0.001;, score=0.789 total time=   0.1s\n",
            "[CV 1/5] END C=0.005994842503189409, max_iter=10000, solver=sag, tol=0.0001;, score=0.827 total time=   0.1s\n",
            "[CV 2/5] END C=0.005994842503189409, max_iter=10000, solver=sag, tol=0.0001;, score=0.823 total time=   0.1s\n",
            "[CV 3/5] END C=0.005994842503189409, max_iter=10000, solver=sag, tol=0.0001;, score=0.808 total time=   0.1s\n",
            "[CV 4/5] END C=0.005994842503189409, max_iter=10000, solver=sag, tol=0.0001;, score=0.800 total time=   0.1s\n",
            "[CV 5/5] END C=0.005994842503189409, max_iter=10000, solver=sag, tol=0.0001;, score=0.789 total time=   0.1s\n",
            "[CV 1/5] END C=0.005994842503189409, max_iter=10000, solver=saga, tol=0.01;, score=0.827 total time=   0.1s\n",
            "[CV 2/5] END C=0.005994842503189409, max_iter=10000, solver=saga, tol=0.01;, score=0.823 total time=   0.1s\n",
            "[CV 3/5] END C=0.005994842503189409, max_iter=10000, solver=saga, tol=0.01;, score=0.808 total time=   0.1s\n",
            "[CV 4/5] END C=0.005994842503189409, max_iter=10000, solver=saga, tol=0.01;, score=0.800 total time=   0.1s\n",
            "[CV 5/5] END C=0.005994842503189409, max_iter=10000, solver=saga, tol=0.01;, score=0.789 total time=   0.1s\n",
            "[CV 1/5] END C=0.005994842503189409, max_iter=10000, solver=saga, tol=0.001;, score=0.827 total time=   0.1s\n",
            "[CV 2/5] END C=0.005994842503189409, max_iter=10000, solver=saga, tol=0.001;, score=0.823 total time=   0.1s\n",
            "[CV 3/5] END C=0.005994842503189409, max_iter=10000, solver=saga, tol=0.001;, score=0.808 total time=   0.1s\n",
            "[CV 4/5] END C=0.005994842503189409, max_iter=10000, solver=saga, tol=0.001;, score=0.800 total time=   0.1s\n",
            "[CV 5/5] END C=0.005994842503189409, max_iter=10000, solver=saga, tol=0.001;, score=0.789 total time=   0.1s\n",
            "[CV 1/5] END C=0.005994842503189409, max_iter=10000, solver=saga, tol=0.0001;, score=0.827 total time=   0.1s\n",
            "[CV 2/5] END C=0.005994842503189409, max_iter=10000, solver=saga, tol=0.0001;, score=0.823 total time=   0.1s\n",
            "[CV 3/5] END C=0.005994842503189409, max_iter=10000, solver=saga, tol=0.0001;, score=0.808 total time=   0.1s\n",
            "[CV 4/5] END C=0.005994842503189409, max_iter=10000, solver=saga, tol=0.0001;, score=0.800 total time=   0.1s\n",
            "[CV 5/5] END C=0.005994842503189409, max_iter=10000, solver=saga, tol=0.0001;, score=0.789 total time=   0.1s\n",
            "[CV 1/5] END C=0.046415888336127774, max_iter=1000, solver=newton-cg, tol=0.01;, score=0.831 total time=   0.1s\n",
            "[CV 2/5] END C=0.046415888336127774, max_iter=1000, solver=newton-cg, tol=0.01;, score=0.842 total time=   0.1s\n",
            "[CV 3/5] END C=0.046415888336127774, max_iter=1000, solver=newton-cg, tol=0.01;, score=0.800 total time=   0.1s\n",
            "[CV 4/5] END C=0.046415888336127774, max_iter=1000, solver=newton-cg, tol=0.01;, score=0.792 total time=   0.1s\n",
            "[CV 5/5] END C=0.046415888336127774, max_iter=1000, solver=newton-cg, tol=0.01;, score=0.781 total time=   0.1s\n",
            "[CV 1/5] END C=0.046415888336127774, max_iter=1000, solver=newton-cg, tol=0.001;, score=0.831 total time=   0.1s\n",
            "[CV 2/5] END C=0.046415888336127774, max_iter=1000, solver=newton-cg, tol=0.001;, score=0.842 total time=   0.1s\n",
            "[CV 3/5] END C=0.046415888336127774, max_iter=1000, solver=newton-cg, tol=0.001;, score=0.800 total time=   0.1s\n",
            "[CV 4/5] END C=0.046415888336127774, max_iter=1000, solver=newton-cg, tol=0.001;, score=0.792 total time=   0.1s\n",
            "[CV 5/5] END C=0.046415888336127774, max_iter=1000, solver=newton-cg, tol=0.001;, score=0.781 total time=   0.1s\n",
            "[CV 1/5] END C=0.046415888336127774, max_iter=1000, solver=newton-cg, tol=0.0001;, score=0.831 total time=   0.1s\n",
            "[CV 2/5] END C=0.046415888336127774, max_iter=1000, solver=newton-cg, tol=0.0001;, score=0.842 total time=   0.1s\n",
            "[CV 3/5] END C=0.046415888336127774, max_iter=1000, solver=newton-cg, tol=0.0001;, score=0.800 total time=   0.1s\n",
            "[CV 4/5] END C=0.046415888336127774, max_iter=1000, solver=newton-cg, tol=0.0001;, score=0.792 total time=   0.1s\n",
            "[CV 5/5] END C=0.046415888336127774, max_iter=1000, solver=newton-cg, tol=0.0001;, score=0.781 total time=   0.1s\n",
            "[CV 1/5] END C=0.046415888336127774, max_iter=1000, solver=lbfgs, tol=0.01;, score=0.831 total time=   0.1s\n",
            "[CV 2/5] END C=0.046415888336127774, max_iter=1000, solver=lbfgs, tol=0.01;, score=0.842 total time=   0.1s\n",
            "[CV 3/5] END C=0.046415888336127774, max_iter=1000, solver=lbfgs, tol=0.01;, score=0.800 total time=   0.1s\n",
            "[CV 4/5] END C=0.046415888336127774, max_iter=1000, solver=lbfgs, tol=0.01;, score=0.792 total time=   0.1s\n",
            "[CV 5/5] END C=0.046415888336127774, max_iter=1000, solver=lbfgs, tol=0.01;, score=0.781 total time=   0.1s\n",
            "[CV 1/5] END C=0.046415888336127774, max_iter=1000, solver=lbfgs, tol=0.001;, score=0.831 total time=   0.1s\n",
            "[CV 2/5] END C=0.046415888336127774, max_iter=1000, solver=lbfgs, tol=0.001;, score=0.842 total time=   0.1s\n",
            "[CV 3/5] END C=0.046415888336127774, max_iter=1000, solver=lbfgs, tol=0.001;, score=0.800 total time=   0.1s\n",
            "[CV 4/5] END C=0.046415888336127774, max_iter=1000, solver=lbfgs, tol=0.001;, score=0.792 total time=   0.1s\n",
            "[CV 5/5] END C=0.046415888336127774, max_iter=1000, solver=lbfgs, tol=0.001;, score=0.781 total time=   0.1s\n",
            "[CV 1/5] END C=0.046415888336127774, max_iter=1000, solver=lbfgs, tol=0.0001;, score=0.831 total time=   0.1s\n",
            "[CV 2/5] END C=0.046415888336127774, max_iter=1000, solver=lbfgs, tol=0.0001;, score=0.842 total time=   0.1s\n",
            "[CV 3/5] END C=0.046415888336127774, max_iter=1000, solver=lbfgs, tol=0.0001;, score=0.800 total time=   0.1s\n",
            "[CV 4/5] END C=0.046415888336127774, max_iter=1000, solver=lbfgs, tol=0.0001;, score=0.792 total time=   0.1s\n",
            "[CV 5/5] END C=0.046415888336127774, max_iter=1000, solver=lbfgs, tol=0.0001;, score=0.781 total time=   0.1s\n",
            "[CV 1/5] END C=0.046415888336127774, max_iter=1000, solver=liblinear, tol=0.01;, score=0.835 total time=   0.0s\n",
            "[CV 2/5] END C=0.046415888336127774, max_iter=1000, solver=liblinear, tol=0.01;, score=0.842 total time=   0.0s\n",
            "[CV 3/5] END C=0.046415888336127774, max_iter=1000, solver=liblinear, tol=0.01;, score=0.804 total time=   0.0s\n",
            "[CV 4/5] END C=0.046415888336127774, max_iter=1000, solver=liblinear, tol=0.01;, score=0.808 total time=   0.1s\n",
            "[CV 5/5] END C=0.046415888336127774, max_iter=1000, solver=liblinear, tol=0.01;, score=0.789 total time=   0.0s\n",
            "[CV 1/5] END C=0.046415888336127774, max_iter=1000, solver=liblinear, tol=0.001;, score=0.835 total time=   0.1s\n",
            "[CV 2/5] END C=0.046415888336127774, max_iter=1000, solver=liblinear, tol=0.001;, score=0.842 total time=   0.1s\n",
            "[CV 3/5] END C=0.046415888336127774, max_iter=1000, solver=liblinear, tol=0.001;, score=0.808 total time=   0.1s\n",
            "[CV 4/5] END C=0.046415888336127774, max_iter=1000, solver=liblinear, tol=0.001;, score=0.808 total time=   0.1s\n",
            "[CV 5/5] END C=0.046415888336127774, max_iter=1000, solver=liblinear, tol=0.001;, score=0.789 total time=   0.1s\n",
            "[CV 1/5] END C=0.046415888336127774, max_iter=1000, solver=liblinear, tol=0.0001;, score=0.835 total time=   0.1s\n",
            "[CV 2/5] END C=0.046415888336127774, max_iter=1000, solver=liblinear, tol=0.0001;, score=0.842 total time=   0.1s\n",
            "[CV 3/5] END C=0.046415888336127774, max_iter=1000, solver=liblinear, tol=0.0001;, score=0.808 total time=   0.1s\n",
            "[CV 4/5] END C=0.046415888336127774, max_iter=1000, solver=liblinear, tol=0.0001;, score=0.808 total time=   0.1s\n",
            "[CV 5/5] END C=0.046415888336127774, max_iter=1000, solver=liblinear, tol=0.0001;, score=0.789 total time=   0.1s\n",
            "[CV 1/5] END C=0.046415888336127774, max_iter=1000, solver=sag, tol=0.01;, score=0.827 total time=   0.1s\n",
            "[CV 2/5] END C=0.046415888336127774, max_iter=1000, solver=sag, tol=0.01;, score=0.842 total time=   0.1s\n",
            "[CV 3/5] END C=0.046415888336127774, max_iter=1000, solver=sag, tol=0.01;, score=0.800 total time=   0.1s\n",
            "[CV 4/5] END C=0.046415888336127774, max_iter=1000, solver=sag, tol=0.01;, score=0.792 total time=   0.1s\n",
            "[CV 5/5] END C=0.046415888336127774, max_iter=1000, solver=sag, tol=0.01;, score=0.781 total time=   0.1s\n",
            "[CV 1/5] END C=0.046415888336127774, max_iter=1000, solver=sag, tol=0.001;, score=0.831 total time=   0.1s\n",
            "[CV 2/5] END C=0.046415888336127774, max_iter=1000, solver=sag, tol=0.001;, score=0.842 total time=   0.1s\n",
            "[CV 3/5] END C=0.046415888336127774, max_iter=1000, solver=sag, tol=0.001;, score=0.800 total time=   0.1s\n",
            "[CV 4/5] END C=0.046415888336127774, max_iter=1000, solver=sag, tol=0.001;, score=0.792 total time=   0.1s\n",
            "[CV 5/5] END C=0.046415888336127774, max_iter=1000, solver=sag, tol=0.001;, score=0.781 total time=   0.1s\n",
            "[CV 1/5] END C=0.046415888336127774, max_iter=1000, solver=sag, tol=0.0001;, score=0.831 total time=   0.1s\n",
            "[CV 2/5] END C=0.046415888336127774, max_iter=1000, solver=sag, tol=0.0001;, score=0.842 total time=   0.1s\n",
            "[CV 3/5] END C=0.046415888336127774, max_iter=1000, solver=sag, tol=0.0001;, score=0.800 total time=   0.1s\n",
            "[CV 4/5] END C=0.046415888336127774, max_iter=1000, solver=sag, tol=0.0001;, score=0.792 total time=   0.1s\n",
            "[CV 5/5] END C=0.046415888336127774, max_iter=1000, solver=sag, tol=0.0001;, score=0.781 total time=   0.1s\n",
            "[CV 1/5] END C=0.046415888336127774, max_iter=1000, solver=saga, tol=0.01;, score=0.831 total time=   0.1s\n",
            "[CV 2/5] END C=0.046415888336127774, max_iter=1000, solver=saga, tol=0.01;, score=0.842 total time=   0.1s\n",
            "[CV 3/5] END C=0.046415888336127774, max_iter=1000, solver=saga, tol=0.01;, score=0.800 total time=   0.1s\n",
            "[CV 4/5] END C=0.046415888336127774, max_iter=1000, solver=saga, tol=0.01;, score=0.800 total time=   0.1s\n",
            "[CV 5/5] END C=0.046415888336127774, max_iter=1000, solver=saga, tol=0.01;, score=0.781 total time=   0.1s\n",
            "[CV 1/5] END C=0.046415888336127774, max_iter=1000, solver=saga, tol=0.001;, score=0.831 total time=   0.1s\n",
            "[CV 2/5] END C=0.046415888336127774, max_iter=1000, solver=saga, tol=0.001;, score=0.842 total time=   0.1s\n",
            "[CV 3/5] END C=0.046415888336127774, max_iter=1000, solver=saga, tol=0.001;, score=0.800 total time=   0.1s\n",
            "[CV 4/5] END C=0.046415888336127774, max_iter=1000, solver=saga, tol=0.001;, score=0.792 total time=   0.1s\n",
            "[CV 5/5] END C=0.046415888336127774, max_iter=1000, solver=saga, tol=0.001;, score=0.781 total time=   0.1s\n",
            "[CV 1/5] END C=0.046415888336127774, max_iter=1000, solver=saga, tol=0.0001;, score=0.831 total time=   0.1s\n",
            "[CV 2/5] END C=0.046415888336127774, max_iter=1000, solver=saga, tol=0.0001;, score=0.842 total time=   0.1s\n",
            "[CV 3/5] END C=0.046415888336127774, max_iter=1000, solver=saga, tol=0.0001;, score=0.800 total time=   0.1s\n",
            "[CV 4/5] END C=0.046415888336127774, max_iter=1000, solver=saga, tol=0.0001;, score=0.792 total time=   0.1s\n",
            "[CV 5/5] END C=0.046415888336127774, max_iter=1000, solver=saga, tol=0.0001;, score=0.781 total time=   0.1s\n",
            "[CV 1/5] END C=0.046415888336127774, max_iter=10000, solver=newton-cg, tol=0.01;, score=0.831 total time=   0.1s\n",
            "[CV 2/5] END C=0.046415888336127774, max_iter=10000, solver=newton-cg, tol=0.01;, score=0.842 total time=   0.1s\n",
            "[CV 3/5] END C=0.046415888336127774, max_iter=10000, solver=newton-cg, tol=0.01;, score=0.800 total time=   0.1s\n",
            "[CV 4/5] END C=0.046415888336127774, max_iter=10000, solver=newton-cg, tol=0.01;, score=0.792 total time=   0.1s\n",
            "[CV 5/5] END C=0.046415888336127774, max_iter=10000, solver=newton-cg, tol=0.01;, score=0.781 total time=   0.1s\n",
            "[CV 1/5] END C=0.046415888336127774, max_iter=10000, solver=newton-cg, tol=0.001;, score=0.831 total time=   0.1s\n",
            "[CV 2/5] END C=0.046415888336127774, max_iter=10000, solver=newton-cg, tol=0.001;, score=0.842 total time=   0.1s\n",
            "[CV 3/5] END C=0.046415888336127774, max_iter=10000, solver=newton-cg, tol=0.001;, score=0.800 total time=   0.1s\n",
            "[CV 4/5] END C=0.046415888336127774, max_iter=10000, solver=newton-cg, tol=0.001;, score=0.792 total time=   0.1s\n",
            "[CV 5/5] END C=0.046415888336127774, max_iter=10000, solver=newton-cg, tol=0.001;, score=0.781 total time=   0.1s\n",
            "[CV 1/5] END C=0.046415888336127774, max_iter=10000, solver=newton-cg, tol=0.0001;, score=0.831 total time=   0.1s\n",
            "[CV 2/5] END C=0.046415888336127774, max_iter=10000, solver=newton-cg, tol=0.0001;, score=0.842 total time=   0.1s\n",
            "[CV 3/5] END C=0.046415888336127774, max_iter=10000, solver=newton-cg, tol=0.0001;, score=0.800 total time=   0.1s\n",
            "[CV 4/5] END C=0.046415888336127774, max_iter=10000, solver=newton-cg, tol=0.0001;, score=0.792 total time=   0.1s\n",
            "[CV 5/5] END C=0.046415888336127774, max_iter=10000, solver=newton-cg, tol=0.0001;, score=0.781 total time=   0.1s\n",
            "[CV 1/5] END C=0.046415888336127774, max_iter=10000, solver=lbfgs, tol=0.01;, score=0.831 total time=   0.1s\n",
            "[CV 2/5] END C=0.046415888336127774, max_iter=10000, solver=lbfgs, tol=0.01;, score=0.842 total time=   0.1s\n",
            "[CV 3/5] END C=0.046415888336127774, max_iter=10000, solver=lbfgs, tol=0.01;, score=0.800 total time=   0.1s\n",
            "[CV 4/5] END C=0.046415888336127774, max_iter=10000, solver=lbfgs, tol=0.01;, score=0.792 total time=   0.0s\n",
            "[CV 5/5] END C=0.046415888336127774, max_iter=10000, solver=lbfgs, tol=0.01;, score=0.781 total time=   0.1s\n",
            "[CV 1/5] END C=0.046415888336127774, max_iter=10000, solver=lbfgs, tol=0.001;, score=0.831 total time=   0.1s\n",
            "[CV 2/5] END C=0.046415888336127774, max_iter=10000, solver=lbfgs, tol=0.001;, score=0.842 total time=   0.1s\n",
            "[CV 3/5] END C=0.046415888336127774, max_iter=10000, solver=lbfgs, tol=0.001;, score=0.800 total time=   0.1s\n",
            "[CV 4/5] END C=0.046415888336127774, max_iter=10000, solver=lbfgs, tol=0.001;, score=0.792 total time=   0.1s\n",
            "[CV 5/5] END C=0.046415888336127774, max_iter=10000, solver=lbfgs, tol=0.001;, score=0.781 total time=   0.1s\n",
            "[CV 1/5] END C=0.046415888336127774, max_iter=10000, solver=lbfgs, tol=0.0001;, score=0.831 total time=   0.1s\n",
            "[CV 2/5] END C=0.046415888336127774, max_iter=10000, solver=lbfgs, tol=0.0001;, score=0.842 total time=   0.1s\n",
            "[CV 3/5] END C=0.046415888336127774, max_iter=10000, solver=lbfgs, tol=0.0001;, score=0.800 total time=   0.1s\n",
            "[CV 4/5] END C=0.046415888336127774, max_iter=10000, solver=lbfgs, tol=0.0001;, score=0.792 total time=   0.0s\n",
            "[CV 5/5] END C=0.046415888336127774, max_iter=10000, solver=lbfgs, tol=0.0001;, score=0.781 total time=   0.1s\n",
            "[CV 1/5] END C=0.046415888336127774, max_iter=10000, solver=liblinear, tol=0.01;, score=0.835 total time=   0.0s\n",
            "[CV 2/5] END C=0.046415888336127774, max_iter=10000, solver=liblinear, tol=0.01;, score=0.842 total time=   0.1s\n",
            "[CV 3/5] END C=0.046415888336127774, max_iter=10000, solver=liblinear, tol=0.01;, score=0.804 total time=   0.1s\n",
            "[CV 4/5] END C=0.046415888336127774, max_iter=10000, solver=liblinear, tol=0.01;, score=0.808 total time=   0.0s\n",
            "[CV 5/5] END C=0.046415888336127774, max_iter=10000, solver=liblinear, tol=0.01;, score=0.789 total time=   0.0s\n",
            "[CV 1/5] END C=0.046415888336127774, max_iter=10000, solver=liblinear, tol=0.001;, score=0.835 total time=   0.1s\n",
            "[CV 2/5] END C=0.046415888336127774, max_iter=10000, solver=liblinear, tol=0.001;, score=0.842 total time=   0.1s\n",
            "[CV 3/5] END C=0.046415888336127774, max_iter=10000, solver=liblinear, tol=0.001;, score=0.808 total time=   0.1s\n",
            "[CV 4/5] END C=0.046415888336127774, max_iter=10000, solver=liblinear, tol=0.001;, score=0.808 total time=   0.1s\n",
            "[CV 5/5] END C=0.046415888336127774, max_iter=10000, solver=liblinear, tol=0.001;, score=0.789 total time=   0.1s\n",
            "[CV 1/5] END C=0.046415888336127774, max_iter=10000, solver=liblinear, tol=0.0001;, score=0.835 total time=   0.1s\n",
            "[CV 2/5] END C=0.046415888336127774, max_iter=10000, solver=liblinear, tol=0.0001;, score=0.842 total time=   0.1s\n",
            "[CV 3/5] END C=0.046415888336127774, max_iter=10000, solver=liblinear, tol=0.0001;, score=0.808 total time=   0.1s\n",
            "[CV 4/5] END C=0.046415888336127774, max_iter=10000, solver=liblinear, tol=0.0001;, score=0.808 total time=   0.1s\n",
            "[CV 5/5] END C=0.046415888336127774, max_iter=10000, solver=liblinear, tol=0.0001;, score=0.789 total time=   0.1s\n",
            "[CV 1/5] END C=0.046415888336127774, max_iter=10000, solver=sag, tol=0.01;, score=0.827 total time=   0.1s\n",
            "[CV 2/5] END C=0.046415888336127774, max_iter=10000, solver=sag, tol=0.01;, score=0.842 total time=   0.1s\n",
            "[CV 3/5] END C=0.046415888336127774, max_iter=10000, solver=sag, tol=0.01;, score=0.800 total time=   0.1s\n",
            "[CV 4/5] END C=0.046415888336127774, max_iter=10000, solver=sag, tol=0.01;, score=0.792 total time=   0.1s\n",
            "[CV 5/5] END C=0.046415888336127774, max_iter=10000, solver=sag, tol=0.01;, score=0.781 total time=   0.1s\n",
            "[CV 1/5] END C=0.046415888336127774, max_iter=10000, solver=sag, tol=0.001;, score=0.831 total time=   0.1s\n",
            "[CV 2/5] END C=0.046415888336127774, max_iter=10000, solver=sag, tol=0.001;, score=0.842 total time=   0.1s\n",
            "[CV 3/5] END C=0.046415888336127774, max_iter=10000, solver=sag, tol=0.001;, score=0.800 total time=   0.1s\n",
            "[CV 4/5] END C=0.046415888336127774, max_iter=10000, solver=sag, tol=0.001;, score=0.792 total time=   0.1s\n",
            "[CV 5/5] END C=0.046415888336127774, max_iter=10000, solver=sag, tol=0.001;, score=0.781 total time=   0.1s\n",
            "[CV 1/5] END C=0.046415888336127774, max_iter=10000, solver=sag, tol=0.0001;, score=0.831 total time=   0.1s\n",
            "[CV 2/5] END C=0.046415888336127774, max_iter=10000, solver=sag, tol=0.0001;, score=0.842 total time=   0.1s\n",
            "[CV 3/5] END C=0.046415888336127774, max_iter=10000, solver=sag, tol=0.0001;, score=0.800 total time=   0.1s\n",
            "[CV 4/5] END C=0.046415888336127774, max_iter=10000, solver=sag, tol=0.0001;, score=0.792 total time=   0.1s\n",
            "[CV 5/5] END C=0.046415888336127774, max_iter=10000, solver=sag, tol=0.0001;, score=0.781 total time=   0.1s\n",
            "[CV 1/5] END C=0.046415888336127774, max_iter=10000, solver=saga, tol=0.01;, score=0.831 total time=   0.1s\n",
            "[CV 2/5] END C=0.046415888336127774, max_iter=10000, solver=saga, tol=0.01;, score=0.842 total time=   0.1s\n",
            "[CV 3/5] END C=0.046415888336127774, max_iter=10000, solver=saga, tol=0.01;, score=0.800 total time=   0.1s\n",
            "[CV 4/5] END C=0.046415888336127774, max_iter=10000, solver=saga, tol=0.01;, score=0.800 total time=   0.1s\n",
            "[CV 5/5] END C=0.046415888336127774, max_iter=10000, solver=saga, tol=0.01;, score=0.781 total time=   0.1s\n",
            "[CV 1/5] END C=0.046415888336127774, max_iter=10000, solver=saga, tol=0.001;, score=0.831 total time=   0.1s\n",
            "[CV 2/5] END C=0.046415888336127774, max_iter=10000, solver=saga, tol=0.001;, score=0.842 total time=   0.1s\n",
            "[CV 3/5] END C=0.046415888336127774, max_iter=10000, solver=saga, tol=0.001;, score=0.800 total time=   0.1s\n",
            "[CV 4/5] END C=0.046415888336127774, max_iter=10000, solver=saga, tol=0.001;, score=0.792 total time=   0.1s\n",
            "[CV 5/5] END C=0.046415888336127774, max_iter=10000, solver=saga, tol=0.001;, score=0.781 total time=   0.1s\n",
            "[CV 1/5] END C=0.046415888336127774, max_iter=10000, solver=saga, tol=0.0001;, score=0.831 total time=   0.1s\n",
            "[CV 2/5] END C=0.046415888336127774, max_iter=10000, solver=saga, tol=0.0001;, score=0.842 total time=   0.1s\n",
            "[CV 3/5] END C=0.046415888336127774, max_iter=10000, solver=saga, tol=0.0001;, score=0.800 total time=   0.1s\n",
            "[CV 4/5] END C=0.046415888336127774, max_iter=10000, solver=saga, tol=0.0001;, score=0.792 total time=   0.1s\n",
            "[CV 5/5] END C=0.046415888336127774, max_iter=10000, solver=saga, tol=0.0001;, score=0.781 total time=   0.1s\n",
            "[CV 1/5] END C=0.3593813663804626, max_iter=1000, solver=newton-cg, tol=0.01;, score=0.835 total time=   0.1s\n",
            "[CV 2/5] END C=0.3593813663804626, max_iter=1000, solver=newton-cg, tol=0.01;, score=0.846 total time=   0.1s\n",
            "[CV 3/5] END C=0.3593813663804626, max_iter=1000, solver=newton-cg, tol=0.01;, score=0.804 total time=   0.1s\n",
            "[CV 4/5] END C=0.3593813663804626, max_iter=1000, solver=newton-cg, tol=0.01;, score=0.796 total time=   0.1s\n",
            "[CV 5/5] END C=0.3593813663804626, max_iter=1000, solver=newton-cg, tol=0.01;, score=0.781 total time=   0.1s\n",
            "[CV 1/5] END C=0.3593813663804626, max_iter=1000, solver=newton-cg, tol=0.001;, score=0.835 total time=   0.1s\n",
            "[CV 2/5] END C=0.3593813663804626, max_iter=1000, solver=newton-cg, tol=0.001;, score=0.846 total time=   0.1s\n",
            "[CV 3/5] END C=0.3593813663804626, max_iter=1000, solver=newton-cg, tol=0.001;, score=0.804 total time=   0.1s\n",
            "[CV 4/5] END C=0.3593813663804626, max_iter=1000, solver=newton-cg, tol=0.001;, score=0.796 total time=   0.1s\n",
            "[CV 5/5] END C=0.3593813663804626, max_iter=1000, solver=newton-cg, tol=0.001;, score=0.781 total time=   0.1s\n",
            "[CV 1/5] END C=0.3593813663804626, max_iter=1000, solver=newton-cg, tol=0.0001;, score=0.835 total time=   0.1s\n",
            "[CV 2/5] END C=0.3593813663804626, max_iter=1000, solver=newton-cg, tol=0.0001;, score=0.846 total time=   0.1s\n",
            "[CV 3/5] END C=0.3593813663804626, max_iter=1000, solver=newton-cg, tol=0.0001;, score=0.804 total time=   0.1s\n",
            "[CV 4/5] END C=0.3593813663804626, max_iter=1000, solver=newton-cg, tol=0.0001;, score=0.796 total time=   0.1s\n",
            "[CV 5/5] END C=0.3593813663804626, max_iter=1000, solver=newton-cg, tol=0.0001;, score=0.781 total time=   0.1s\n",
            "[CV 1/5] END C=0.3593813663804626, max_iter=1000, solver=lbfgs, tol=0.01;, score=0.835 total time=   0.1s\n",
            "[CV 2/5] END C=0.3593813663804626, max_iter=1000, solver=lbfgs, tol=0.01;, score=0.846 total time=   0.1s\n",
            "[CV 3/5] END C=0.3593813663804626, max_iter=1000, solver=lbfgs, tol=0.01;, score=0.804 total time=   0.1s\n",
            "[CV 4/5] END C=0.3593813663804626, max_iter=1000, solver=lbfgs, tol=0.01;, score=0.796 total time=   0.1s\n",
            "[CV 5/5] END C=0.3593813663804626, max_iter=1000, solver=lbfgs, tol=0.01;, score=0.781 total time=   0.1s\n",
            "[CV 1/5] END C=0.3593813663804626, max_iter=1000, solver=lbfgs, tol=0.001;, score=0.835 total time=   0.1s\n",
            "[CV 2/5] END C=0.3593813663804626, max_iter=1000, solver=lbfgs, tol=0.001;, score=0.846 total time=   0.1s\n",
            "[CV 3/5] END C=0.3593813663804626, max_iter=1000, solver=lbfgs, tol=0.001;, score=0.804 total time=   0.1s\n",
            "[CV 4/5] END C=0.3593813663804626, max_iter=1000, solver=lbfgs, tol=0.001;, score=0.796 total time=   0.1s\n",
            "[CV 5/5] END C=0.3593813663804626, max_iter=1000, solver=lbfgs, tol=0.001;, score=0.781 total time=   0.1s\n",
            "[CV 1/5] END C=0.3593813663804626, max_iter=1000, solver=lbfgs, tol=0.0001;, score=0.835 total time=   0.1s\n",
            "[CV 2/5] END C=0.3593813663804626, max_iter=1000, solver=lbfgs, tol=0.0001;, score=0.846 total time=   0.1s\n",
            "[CV 3/5] END C=0.3593813663804626, max_iter=1000, solver=lbfgs, tol=0.0001;, score=0.804 total time=   0.1s\n",
            "[CV 4/5] END C=0.3593813663804626, max_iter=1000, solver=lbfgs, tol=0.0001;, score=0.796 total time=   0.1s\n",
            "[CV 5/5] END C=0.3593813663804626, max_iter=1000, solver=lbfgs, tol=0.0001;, score=0.781 total time=   0.1s\n",
            "[CV 1/5] END C=0.3593813663804626, max_iter=1000, solver=liblinear, tol=0.01;, score=0.835 total time=   0.0s\n",
            "[CV 2/5] END C=0.3593813663804626, max_iter=1000, solver=liblinear, tol=0.01;, score=0.850 total time=   0.1s\n",
            "[CV 3/5] END C=0.3593813663804626, max_iter=1000, solver=liblinear, tol=0.01;, score=0.804 total time=   0.0s\n",
            "[CV 4/5] END C=0.3593813663804626, max_iter=1000, solver=liblinear, tol=0.01;, score=0.796 total time=   0.0s\n",
            "[CV 5/5] END C=0.3593813663804626, max_iter=1000, solver=liblinear, tol=0.01;, score=0.781 total time=   0.0s\n",
            "[CV 1/5] END C=0.3593813663804626, max_iter=1000, solver=liblinear, tol=0.001;, score=0.835 total time=   0.1s\n",
            "[CV 2/5] END C=0.3593813663804626, max_iter=1000, solver=liblinear, tol=0.001;, score=0.846 total time=   0.1s\n",
            "[CV 3/5] END C=0.3593813663804626, max_iter=1000, solver=liblinear, tol=0.001;, score=0.804 total time=   0.1s\n",
            "[CV 4/5] END C=0.3593813663804626, max_iter=1000, solver=liblinear, tol=0.001;, score=0.796 total time=   0.1s\n",
            "[CV 5/5] END C=0.3593813663804626, max_iter=1000, solver=liblinear, tol=0.001;, score=0.781 total time=   0.1s\n",
            "[CV 1/5] END C=0.3593813663804626, max_iter=1000, solver=liblinear, tol=0.0001;, score=0.835 total time=   0.1s\n",
            "[CV 2/5] END C=0.3593813663804626, max_iter=1000, solver=liblinear, tol=0.0001;, score=0.846 total time=   0.1s\n",
            "[CV 3/5] END C=0.3593813663804626, max_iter=1000, solver=liblinear, tol=0.0001;, score=0.804 total time=   0.1s\n",
            "[CV 4/5] END C=0.3593813663804626, max_iter=1000, solver=liblinear, tol=0.0001;, score=0.796 total time=   0.1s\n",
            "[CV 5/5] END C=0.3593813663804626, max_iter=1000, solver=liblinear, tol=0.0001;, score=0.781 total time=   0.1s\n",
            "[CV 1/5] END C=0.3593813663804626, max_iter=1000, solver=sag, tol=0.01;, score=0.838 total time=   0.1s\n",
            "[CV 2/5] END C=0.3593813663804626, max_iter=1000, solver=sag, tol=0.01;, score=0.850 total time=   0.1s\n",
            "[CV 3/5] END C=0.3593813663804626, max_iter=1000, solver=sag, tol=0.01;, score=0.800 total time=   0.1s\n",
            "[CV 4/5] END C=0.3593813663804626, max_iter=1000, solver=sag, tol=0.01;, score=0.792 total time=   0.1s\n",
            "[CV 5/5] END C=0.3593813663804626, max_iter=1000, solver=sag, tol=0.01;, score=0.781 total time=   0.1s\n",
            "[CV 1/5] END C=0.3593813663804626, max_iter=1000, solver=sag, tol=0.001;, score=0.835 total time=   0.1s\n",
            "[CV 2/5] END C=0.3593813663804626, max_iter=1000, solver=sag, tol=0.001;, score=0.846 total time=   0.1s\n",
            "[CV 3/5] END C=0.3593813663804626, max_iter=1000, solver=sag, tol=0.001;, score=0.804 total time=   0.1s\n",
            "[CV 4/5] END C=0.3593813663804626, max_iter=1000, solver=sag, tol=0.001;, score=0.796 total time=   0.1s\n",
            "[CV 5/5] END C=0.3593813663804626, max_iter=1000, solver=sag, tol=0.001;, score=0.781 total time=   0.1s\n",
            "[CV 1/5] END C=0.3593813663804626, max_iter=1000, solver=sag, tol=0.0001;, score=0.835 total time=   0.2s\n",
            "[CV 2/5] END C=0.3593813663804626, max_iter=1000, solver=sag, tol=0.0001;, score=0.846 total time=   0.1s\n",
            "[CV 3/5] END C=0.3593813663804626, max_iter=1000, solver=sag, tol=0.0001;, score=0.804 total time=   0.2s\n",
            "[CV 4/5] END C=0.3593813663804626, max_iter=1000, solver=sag, tol=0.0001;, score=0.796 total time=   0.2s\n",
            "[CV 5/5] END C=0.3593813663804626, max_iter=1000, solver=sag, tol=0.0001;, score=0.781 total time=   0.1s\n",
            "[CV 1/5] END C=0.3593813663804626, max_iter=1000, solver=saga, tol=0.01;, score=0.835 total time=   0.1s\n",
            "[CV 2/5] END C=0.3593813663804626, max_iter=1000, solver=saga, tol=0.01;, score=0.846 total time=   0.1s\n",
            "[CV 3/5] END C=0.3593813663804626, max_iter=1000, solver=saga, tol=0.01;, score=0.800 total time=   0.1s\n",
            "[CV 4/5] END C=0.3593813663804626, max_iter=1000, solver=saga, tol=0.01;, score=0.792 total time=   0.1s\n",
            "[CV 5/5] END C=0.3593813663804626, max_iter=1000, solver=saga, tol=0.01;, score=0.781 total time=   0.1s\n",
            "[CV 1/5] END C=0.3593813663804626, max_iter=1000, solver=saga, tol=0.001;, score=0.835 total time=   0.1s\n",
            "[CV 2/5] END C=0.3593813663804626, max_iter=1000, solver=saga, tol=0.001;, score=0.846 total time=   0.1s\n",
            "[CV 3/5] END C=0.3593813663804626, max_iter=1000, solver=saga, tol=0.001;, score=0.804 total time=   0.1s\n",
            "[CV 4/5] END C=0.3593813663804626, max_iter=1000, solver=saga, tol=0.001;, score=0.796 total time=   0.1s\n",
            "[CV 5/5] END C=0.3593813663804626, max_iter=1000, solver=saga, tol=0.001;, score=0.781 total time=   0.1s\n",
            "[CV 1/5] END C=0.3593813663804626, max_iter=1000, solver=saga, tol=0.0001;, score=0.835 total time=   0.1s\n",
            "[CV 2/5] END C=0.3593813663804626, max_iter=1000, solver=saga, tol=0.0001;, score=0.846 total time=   0.1s\n",
            "[CV 3/5] END C=0.3593813663804626, max_iter=1000, solver=saga, tol=0.0001;, score=0.804 total time=   0.1s\n",
            "[CV 4/5] END C=0.3593813663804626, max_iter=1000, solver=saga, tol=0.0001;, score=0.796 total time=   0.1s\n",
            "[CV 5/5] END C=0.3593813663804626, max_iter=1000, solver=saga, tol=0.0001;, score=0.781 total time=   0.1s\n",
            "[CV 1/5] END C=0.3593813663804626, max_iter=10000, solver=newton-cg, tol=0.01;, score=0.835 total time=   0.1s\n",
            "[CV 2/5] END C=0.3593813663804626, max_iter=10000, solver=newton-cg, tol=0.01;, score=0.846 total time=   0.1s\n",
            "[CV 3/5] END C=0.3593813663804626, max_iter=10000, solver=newton-cg, tol=0.01;, score=0.804 total time=   0.1s\n",
            "[CV 4/5] END C=0.3593813663804626, max_iter=10000, solver=newton-cg, tol=0.01;, score=0.796 total time=   0.1s\n",
            "[CV 5/5] END C=0.3593813663804626, max_iter=10000, solver=newton-cg, tol=0.01;, score=0.781 total time=   0.1s\n",
            "[CV 1/5] END C=0.3593813663804626, max_iter=10000, solver=newton-cg, tol=0.001;, score=0.835 total time=   0.1s\n",
            "[CV 2/5] END C=0.3593813663804626, max_iter=10000, solver=newton-cg, tol=0.001;, score=0.846 total time=   0.1s\n",
            "[CV 3/5] END C=0.3593813663804626, max_iter=10000, solver=newton-cg, tol=0.001;, score=0.804 total time=   0.1s\n",
            "[CV 4/5] END C=0.3593813663804626, max_iter=10000, solver=newton-cg, tol=0.001;, score=0.796 total time=   0.1s\n",
            "[CV 5/5] END C=0.3593813663804626, max_iter=10000, solver=newton-cg, tol=0.001;, score=0.781 total time=   0.1s\n",
            "[CV 1/5] END C=0.3593813663804626, max_iter=10000, solver=newton-cg, tol=0.0001;, score=0.835 total time=   0.1s\n",
            "[CV 2/5] END C=0.3593813663804626, max_iter=10000, solver=newton-cg, tol=0.0001;, score=0.846 total time=   0.1s\n",
            "[CV 3/5] END C=0.3593813663804626, max_iter=10000, solver=newton-cg, tol=0.0001;, score=0.804 total time=   0.1s\n",
            "[CV 4/5] END C=0.3593813663804626, max_iter=10000, solver=newton-cg, tol=0.0001;, score=0.796 total time=   0.1s\n",
            "[CV 5/5] END C=0.3593813663804626, max_iter=10000, solver=newton-cg, tol=0.0001;, score=0.781 total time=   0.1s\n",
            "[CV 1/5] END C=0.3593813663804626, max_iter=10000, solver=lbfgs, tol=0.01;, score=0.835 total time=   0.1s\n",
            "[CV 2/5] END C=0.3593813663804626, max_iter=10000, solver=lbfgs, tol=0.01;, score=0.846 total time=   0.1s\n",
            "[CV 3/5] END C=0.3593813663804626, max_iter=10000, solver=lbfgs, tol=0.01;, score=0.804 total time=   0.1s\n",
            "[CV 4/5] END C=0.3593813663804626, max_iter=10000, solver=lbfgs, tol=0.01;, score=0.796 total time=   0.1s\n",
            "[CV 5/5] END C=0.3593813663804626, max_iter=10000, solver=lbfgs, tol=0.01;, score=0.781 total time=   0.1s\n",
            "[CV 1/5] END C=0.3593813663804626, max_iter=10000, solver=lbfgs, tol=0.001;, score=0.835 total time=   0.1s\n",
            "[CV 2/5] END C=0.3593813663804626, max_iter=10000, solver=lbfgs, tol=0.001;, score=0.846 total time=   0.1s\n",
            "[CV 3/5] END C=0.3593813663804626, max_iter=10000, solver=lbfgs, tol=0.001;, score=0.804 total time=   0.1s\n",
            "[CV 4/5] END C=0.3593813663804626, max_iter=10000, solver=lbfgs, tol=0.001;, score=0.796 total time=   0.1s\n",
            "[CV 5/5] END C=0.3593813663804626, max_iter=10000, solver=lbfgs, tol=0.001;, score=0.781 total time=   0.1s\n",
            "[CV 1/5] END C=0.3593813663804626, max_iter=10000, solver=lbfgs, tol=0.0001;, score=0.835 total time=   0.1s\n",
            "[CV 2/5] END C=0.3593813663804626, max_iter=10000, solver=lbfgs, tol=0.0001;, score=0.846 total time=   0.1s\n",
            "[CV 3/5] END C=0.3593813663804626, max_iter=10000, solver=lbfgs, tol=0.0001;, score=0.804 total time=   0.1s\n",
            "[CV 4/5] END C=0.3593813663804626, max_iter=10000, solver=lbfgs, tol=0.0001;, score=0.796 total time=   0.1s\n",
            "[CV 5/5] END C=0.3593813663804626, max_iter=10000, solver=lbfgs, tol=0.0001;, score=0.781 total time=   0.1s\n",
            "[CV 1/5] END C=0.3593813663804626, max_iter=10000, solver=liblinear, tol=0.01;, score=0.835 total time=   0.1s\n",
            "[CV 2/5] END C=0.3593813663804626, max_iter=10000, solver=liblinear, tol=0.01;, score=0.850 total time=   0.1s\n",
            "[CV 3/5] END C=0.3593813663804626, max_iter=10000, solver=liblinear, tol=0.01;, score=0.804 total time=   0.0s\n",
            "[CV 4/5] END C=0.3593813663804626, max_iter=10000, solver=liblinear, tol=0.01;, score=0.796 total time=   0.0s\n",
            "[CV 5/5] END C=0.3593813663804626, max_iter=10000, solver=liblinear, tol=0.01;, score=0.781 total time=   0.0s\n",
            "[CV 1/5] END C=0.3593813663804626, max_iter=10000, solver=liblinear, tol=0.001;, score=0.835 total time=   0.1s\n",
            "[CV 2/5] END C=0.3593813663804626, max_iter=10000, solver=liblinear, tol=0.001;, score=0.846 total time=   0.1s\n",
            "[CV 3/5] END C=0.3593813663804626, max_iter=10000, solver=liblinear, tol=0.001;, score=0.804 total time=   0.1s\n",
            "[CV 4/5] END C=0.3593813663804626, max_iter=10000, solver=liblinear, tol=0.001;, score=0.796 total time=   0.1s\n",
            "[CV 5/5] END C=0.3593813663804626, max_iter=10000, solver=liblinear, tol=0.001;, score=0.781 total time=   0.1s\n",
            "[CV 1/5] END C=0.3593813663804626, max_iter=10000, solver=liblinear, tol=0.0001;, score=0.835 total time=   0.1s\n",
            "[CV 2/5] END C=0.3593813663804626, max_iter=10000, solver=liblinear, tol=0.0001;, score=0.846 total time=   0.1s\n",
            "[CV 3/5] END C=0.3593813663804626, max_iter=10000, solver=liblinear, tol=0.0001;, score=0.804 total time=   0.1s\n",
            "[CV 4/5] END C=0.3593813663804626, max_iter=10000, solver=liblinear, tol=0.0001;, score=0.796 total time=   0.1s\n",
            "[CV 5/5] END C=0.3593813663804626, max_iter=10000, solver=liblinear, tol=0.0001;, score=0.781 total time=   0.1s\n",
            "[CV 1/5] END C=0.3593813663804626, max_iter=10000, solver=sag, tol=0.01;, score=0.838 total time=   0.1s\n",
            "[CV 2/5] END C=0.3593813663804626, max_iter=10000, solver=sag, tol=0.01;, score=0.850 total time=   0.1s\n",
            "[CV 3/5] END C=0.3593813663804626, max_iter=10000, solver=sag, tol=0.01;, score=0.800 total time=   0.1s\n",
            "[CV 4/5] END C=0.3593813663804626, max_iter=10000, solver=sag, tol=0.01;, score=0.792 total time=   0.1s\n",
            "[CV 5/5] END C=0.3593813663804626, max_iter=10000, solver=sag, tol=0.01;, score=0.781 total time=   0.1s\n",
            "[CV 1/5] END C=0.3593813663804626, max_iter=10000, solver=sag, tol=0.001;, score=0.835 total time=   0.1s\n",
            "[CV 2/5] END C=0.3593813663804626, max_iter=10000, solver=sag, tol=0.001;, score=0.846 total time=   0.1s\n",
            "[CV 3/5] END C=0.3593813663804626, max_iter=10000, solver=sag, tol=0.001;, score=0.804 total time=   0.1s\n",
            "[CV 4/5] END C=0.3593813663804626, max_iter=10000, solver=sag, tol=0.001;, score=0.796 total time=   0.1s\n",
            "[CV 5/5] END C=0.3593813663804626, max_iter=10000, solver=sag, tol=0.001;, score=0.781 total time=   0.1s\n",
            "[CV 1/5] END C=0.3593813663804626, max_iter=10000, solver=sag, tol=0.0001;, score=0.835 total time=   0.2s\n",
            "[CV 2/5] END C=0.3593813663804626, max_iter=10000, solver=sag, tol=0.0001;, score=0.846 total time=   0.2s\n",
            "[CV 3/5] END C=0.3593813663804626, max_iter=10000, solver=sag, tol=0.0001;, score=0.804 total time=   0.2s\n",
            "[CV 4/5] END C=0.3593813663804626, max_iter=10000, solver=sag, tol=0.0001;, score=0.796 total time=   0.1s\n",
            "[CV 5/5] END C=0.3593813663804626, max_iter=10000, solver=sag, tol=0.0001;, score=0.781 total time=   0.1s\n",
            "[CV 1/5] END C=0.3593813663804626, max_iter=10000, solver=saga, tol=0.01;, score=0.835 total time=   0.1s\n",
            "[CV 2/5] END C=0.3593813663804626, max_iter=10000, solver=saga, tol=0.01;, score=0.846 total time=   0.1s\n",
            "[CV 3/5] END C=0.3593813663804626, max_iter=10000, solver=saga, tol=0.01;, score=0.800 total time=   0.1s\n",
            "[CV 4/5] END C=0.3593813663804626, max_iter=10000, solver=saga, tol=0.01;, score=0.792 total time=   0.1s\n",
            "[CV 5/5] END C=0.3593813663804626, max_iter=10000, solver=saga, tol=0.01;, score=0.781 total time=   0.1s\n",
            "[CV 1/5] END C=0.3593813663804626, max_iter=10000, solver=saga, tol=0.001;, score=0.835 total time=   0.1s\n",
            "[CV 2/5] END C=0.3593813663804626, max_iter=10000, solver=saga, tol=0.001;, score=0.846 total time=   0.1s\n",
            "[CV 3/5] END C=0.3593813663804626, max_iter=10000, solver=saga, tol=0.001;, score=0.804 total time=   0.1s\n",
            "[CV 4/5] END C=0.3593813663804626, max_iter=10000, solver=saga, tol=0.001;, score=0.796 total time=   0.1s\n",
            "[CV 5/5] END C=0.3593813663804626, max_iter=10000, solver=saga, tol=0.001;, score=0.781 total time=   0.1s\n",
            "[CV 1/5] END C=0.3593813663804626, max_iter=10000, solver=saga, tol=0.0001;, score=0.835 total time=   0.2s\n",
            "[CV 2/5] END C=0.3593813663804626, max_iter=10000, solver=saga, tol=0.0001;, score=0.846 total time=   0.1s\n",
            "[CV 3/5] END C=0.3593813663804626, max_iter=10000, solver=saga, tol=0.0001;, score=0.804 total time=   0.1s\n",
            "[CV 4/5] END C=0.3593813663804626, max_iter=10000, solver=saga, tol=0.0001;, score=0.796 total time=   0.1s\n",
            "[CV 5/5] END C=0.3593813663804626, max_iter=10000, solver=saga, tol=0.0001;, score=0.781 total time=   0.1s\n",
            "[CV 1/5] END C=2.782559402207126, max_iter=1000, solver=newton-cg, tol=0.01;, score=0.842 total time=   0.1s\n",
            "[CV 2/5] END C=2.782559402207126, max_iter=1000, solver=newton-cg, tol=0.01;, score=0.850 total time=   0.1s\n",
            "[CV 3/5] END C=2.782559402207126, max_iter=1000, solver=newton-cg, tol=0.01;, score=0.804 total time=   0.1s\n",
            "[CV 4/5] END C=2.782559402207126, max_iter=1000, solver=newton-cg, tol=0.01;, score=0.792 total time=   0.2s\n",
            "[CV 5/5] END C=2.782559402207126, max_iter=1000, solver=newton-cg, tol=0.01;, score=0.781 total time=   0.1s\n",
            "[CV 1/5] END C=2.782559402207126, max_iter=1000, solver=newton-cg, tol=0.001;, score=0.842 total time=   0.1s\n",
            "[CV 2/5] END C=2.782559402207126, max_iter=1000, solver=newton-cg, tol=0.001;, score=0.850 total time=   0.1s\n",
            "[CV 3/5] END C=2.782559402207126, max_iter=1000, solver=newton-cg, tol=0.001;, score=0.804 total time=   0.1s\n",
            "[CV 4/5] END C=2.782559402207126, max_iter=1000, solver=newton-cg, tol=0.001;, score=0.792 total time=   0.1s\n",
            "[CV 5/5] END C=2.782559402207126, max_iter=1000, solver=newton-cg, tol=0.001;, score=0.781 total time=   0.1s\n",
            "[CV 1/5] END C=2.782559402207126, max_iter=1000, solver=newton-cg, tol=0.0001;, score=0.842 total time=   0.1s\n",
            "[CV 2/5] END C=2.782559402207126, max_iter=1000, solver=newton-cg, tol=0.0001;, score=0.850 total time=   0.2s\n",
            "[CV 3/5] END C=2.782559402207126, max_iter=1000, solver=newton-cg, tol=0.0001;, score=0.804 total time=   0.1s\n",
            "[CV 4/5] END C=2.782559402207126, max_iter=1000, solver=newton-cg, tol=0.0001;, score=0.792 total time=   0.1s\n",
            "[CV 5/5] END C=2.782559402207126, max_iter=1000, solver=newton-cg, tol=0.0001;, score=0.781 total time=   0.1s\n",
            "[CV 1/5] END C=2.782559402207126, max_iter=1000, solver=lbfgs, tol=0.01;, score=0.842 total time=   0.1s\n",
            "[CV 2/5] END C=2.782559402207126, max_iter=1000, solver=lbfgs, tol=0.01;, score=0.850 total time=   0.1s\n",
            "[CV 3/5] END C=2.782559402207126, max_iter=1000, solver=lbfgs, tol=0.01;, score=0.804 total time=   0.1s\n",
            "[CV 4/5] END C=2.782559402207126, max_iter=1000, solver=lbfgs, tol=0.01;, score=0.792 total time=   0.1s\n",
            "[CV 5/5] END C=2.782559402207126, max_iter=1000, solver=lbfgs, tol=0.01;, score=0.781 total time=   0.1s\n",
            "[CV 1/5] END C=2.782559402207126, max_iter=1000, solver=lbfgs, tol=0.001;, score=0.842 total time=   0.1s\n",
            "[CV 2/5] END C=2.782559402207126, max_iter=1000, solver=lbfgs, tol=0.001;, score=0.850 total time=   0.1s\n",
            "[CV 3/5] END C=2.782559402207126, max_iter=1000, solver=lbfgs, tol=0.001;, score=0.804 total time=   0.1s\n",
            "[CV 4/5] END C=2.782559402207126, max_iter=1000, solver=lbfgs, tol=0.001;, score=0.792 total time=   0.1s\n",
            "[CV 5/5] END C=2.782559402207126, max_iter=1000, solver=lbfgs, tol=0.001;, score=0.781 total time=   0.1s\n",
            "[CV 1/5] END C=2.782559402207126, max_iter=1000, solver=lbfgs, tol=0.0001;, score=0.842 total time=   0.1s\n",
            "[CV 2/5] END C=2.782559402207126, max_iter=1000, solver=lbfgs, tol=0.0001;, score=0.850 total time=   0.1s\n",
            "[CV 3/5] END C=2.782559402207126, max_iter=1000, solver=lbfgs, tol=0.0001;, score=0.804 total time=   0.1s\n",
            "[CV 4/5] END C=2.782559402207126, max_iter=1000, solver=lbfgs, tol=0.0001;, score=0.792 total time=   0.1s\n",
            "[CV 5/5] END C=2.782559402207126, max_iter=1000, solver=lbfgs, tol=0.0001;, score=0.781 total time=   0.1s\n",
            "[CV 1/5] END C=2.782559402207126, max_iter=1000, solver=liblinear, tol=0.01;, score=0.842 total time=   0.1s\n",
            "[CV 2/5] END C=2.782559402207126, max_iter=1000, solver=liblinear, tol=0.01;, score=0.846 total time=   0.0s\n",
            "[CV 3/5] END C=2.782559402207126, max_iter=1000, solver=liblinear, tol=0.01;, score=0.804 total time=   0.1s\n",
            "[CV 4/5] END C=2.782559402207126, max_iter=1000, solver=liblinear, tol=0.01;, score=0.796 total time=   0.0s\n",
            "[CV 5/5] END C=2.782559402207126, max_iter=1000, solver=liblinear, tol=0.01;, score=0.781 total time=   0.1s\n",
            "[CV 1/5] END C=2.782559402207126, max_iter=1000, solver=liblinear, tol=0.001;, score=0.842 total time=   0.1s\n",
            "[CV 2/5] END C=2.782559402207126, max_iter=1000, solver=liblinear, tol=0.001;, score=0.850 total time=   0.1s\n",
            "[CV 3/5] END C=2.782559402207126, max_iter=1000, solver=liblinear, tol=0.001;, score=0.804 total time=   0.1s\n",
            "[CV 4/5] END C=2.782559402207126, max_iter=1000, solver=liblinear, tol=0.001;, score=0.796 total time=   0.1s\n",
            "[CV 5/5] END C=2.782559402207126, max_iter=1000, solver=liblinear, tol=0.001;, score=0.781 total time=   0.1s\n",
            "[CV 1/5] END C=2.782559402207126, max_iter=1000, solver=liblinear, tol=0.0001;, score=0.842 total time=   0.1s\n",
            "[CV 2/5] END C=2.782559402207126, max_iter=1000, solver=liblinear, tol=0.0001;, score=0.850 total time=   0.1s\n",
            "[CV 3/5] END C=2.782559402207126, max_iter=1000, solver=liblinear, tol=0.0001;, score=0.804 total time=   0.1s\n",
            "[CV 4/5] END C=2.782559402207126, max_iter=1000, solver=liblinear, tol=0.0001;, score=0.796 total time=   0.1s\n",
            "[CV 5/5] END C=2.782559402207126, max_iter=1000, solver=liblinear, tol=0.0001;, score=0.781 total time=   0.1s\n",
            "[CV 1/5] END C=2.782559402207126, max_iter=1000, solver=sag, tol=0.01;, score=0.842 total time=   0.1s\n",
            "[CV 2/5] END C=2.782559402207126, max_iter=1000, solver=sag, tol=0.01;, score=0.842 total time=   0.1s\n",
            "[CV 3/5] END C=2.782559402207126, max_iter=1000, solver=sag, tol=0.01;, score=0.804 total time=   0.1s\n",
            "[CV 4/5] END C=2.782559402207126, max_iter=1000, solver=sag, tol=0.01;, score=0.796 total time=   0.1s\n",
            "[CV 5/5] END C=2.782559402207126, max_iter=1000, solver=sag, tol=0.01;, score=0.785 total time=   0.1s\n",
            "[CV 1/5] END C=2.782559402207126, max_iter=1000, solver=sag, tol=0.001;, score=0.842 total time=   0.1s\n",
            "[CV 2/5] END C=2.782559402207126, max_iter=1000, solver=sag, tol=0.001;, score=0.846 total time=   0.1s\n",
            "[CV 3/5] END C=2.782559402207126, max_iter=1000, solver=sag, tol=0.001;, score=0.804 total time=   0.1s\n",
            "[CV 4/5] END C=2.782559402207126, max_iter=1000, solver=sag, tol=0.001;, score=0.796 total time=   0.1s\n",
            "[CV 5/5] END C=2.782559402207126, max_iter=1000, solver=sag, tol=0.001;, score=0.781 total time=   0.1s\n",
            "[CV 1/5] END C=2.782559402207126, max_iter=1000, solver=sag, tol=0.0001;, score=0.842 total time=   0.2s\n",
            "[CV 2/5] END C=2.782559402207126, max_iter=1000, solver=sag, tol=0.0001;, score=0.850 total time=   0.2s\n",
            "[CV 3/5] END C=2.782559402207126, max_iter=1000, solver=sag, tol=0.0001;, score=0.804 total time=   0.2s\n",
            "[CV 4/5] END C=2.782559402207126, max_iter=1000, solver=sag, tol=0.0001;, score=0.796 total time=   0.2s\n",
            "[CV 5/5] END C=2.782559402207126, max_iter=1000, solver=sag, tol=0.0001;, score=0.781 total time=   0.2s\n",
            "[CV 1/5] END C=2.782559402207126, max_iter=1000, solver=saga, tol=0.01;, score=0.842 total time=   0.1s\n",
            "[CV 2/5] END C=2.782559402207126, max_iter=1000, solver=saga, tol=0.01;, score=0.846 total time=   0.1s\n",
            "[CV 3/5] END C=2.782559402207126, max_iter=1000, solver=saga, tol=0.01;, score=0.804 total time=   0.1s\n",
            "[CV 4/5] END C=2.782559402207126, max_iter=1000, solver=saga, tol=0.01;, score=0.796 total time=   0.1s\n",
            "[CV 5/5] END C=2.782559402207126, max_iter=1000, solver=saga, tol=0.01;, score=0.781 total time=   0.1s\n",
            "[CV 1/5] END C=2.782559402207126, max_iter=1000, solver=saga, tol=0.001;, score=0.842 total time=   0.1s\n",
            "[CV 2/5] END C=2.782559402207126, max_iter=1000, solver=saga, tol=0.001;, score=0.850 total time=   0.1s\n",
            "[CV 3/5] END C=2.782559402207126, max_iter=1000, solver=saga, tol=0.001;, score=0.804 total time=   0.1s\n",
            "[CV 4/5] END C=2.782559402207126, max_iter=1000, solver=saga, tol=0.001;, score=0.796 total time=   0.1s\n",
            "[CV 5/5] END C=2.782559402207126, max_iter=1000, solver=saga, tol=0.001;, score=0.781 total time=   0.1s\n",
            "[CV 1/5] END C=2.782559402207126, max_iter=1000, solver=saga, tol=0.0001;, score=0.842 total time=   0.2s\n",
            "[CV 2/5] END C=2.782559402207126, max_iter=1000, solver=saga, tol=0.0001;, score=0.850 total time=   0.2s\n",
            "[CV 3/5] END C=2.782559402207126, max_iter=1000, solver=saga, tol=0.0001;, score=0.804 total time=   0.2s\n",
            "[CV 4/5] END C=2.782559402207126, max_iter=1000, solver=saga, tol=0.0001;, score=0.792 total time=   0.2s\n",
            "[CV 5/5] END C=2.782559402207126, max_iter=1000, solver=saga, tol=0.0001;, score=0.781 total time=   0.2s\n",
            "[CV 1/5] END C=2.782559402207126, max_iter=10000, solver=newton-cg, tol=0.01;, score=0.842 total time=   0.1s\n",
            "[CV 2/5] END C=2.782559402207126, max_iter=10000, solver=newton-cg, tol=0.01;, score=0.850 total time=   0.1s\n",
            "[CV 3/5] END C=2.782559402207126, max_iter=10000, solver=newton-cg, tol=0.01;, score=0.804 total time=   0.1s\n",
            "[CV 4/5] END C=2.782559402207126, max_iter=10000, solver=newton-cg, tol=0.01;, score=0.792 total time=   0.1s\n",
            "[CV 5/5] END C=2.782559402207126, max_iter=10000, solver=newton-cg, tol=0.01;, score=0.781 total time=   0.1s\n",
            "[CV 1/5] END C=2.782559402207126, max_iter=10000, solver=newton-cg, tol=0.001;, score=0.842 total time=   0.1s\n",
            "[CV 2/5] END C=2.782559402207126, max_iter=10000, solver=newton-cg, tol=0.001;, score=0.850 total time=   0.1s\n",
            "[CV 3/5] END C=2.782559402207126, max_iter=10000, solver=newton-cg, tol=0.001;, score=0.804 total time=   0.1s\n",
            "[CV 4/5] END C=2.782559402207126, max_iter=10000, solver=newton-cg, tol=0.001;, score=0.792 total time=   0.1s\n",
            "[CV 5/5] END C=2.782559402207126, max_iter=10000, solver=newton-cg, tol=0.001;, score=0.781 total time=   0.1s\n",
            "[CV 1/5] END C=2.782559402207126, max_iter=10000, solver=newton-cg, tol=0.0001;, score=0.842 total time=   0.1s\n",
            "[CV 2/5] END C=2.782559402207126, max_iter=10000, solver=newton-cg, tol=0.0001;, score=0.850 total time=   0.1s\n",
            "[CV 3/5] END C=2.782559402207126, max_iter=10000, solver=newton-cg, tol=0.0001;, score=0.804 total time=   0.1s\n",
            "[CV 4/5] END C=2.782559402207126, max_iter=10000, solver=newton-cg, tol=0.0001;, score=0.792 total time=   0.1s\n",
            "[CV 5/5] END C=2.782559402207126, max_iter=10000, solver=newton-cg, tol=0.0001;, score=0.781 total time=   0.1s\n",
            "[CV 1/5] END C=2.782559402207126, max_iter=10000, solver=lbfgs, tol=0.01;, score=0.842 total time=   0.1s\n",
            "[CV 2/5] END C=2.782559402207126, max_iter=10000, solver=lbfgs, tol=0.01;, score=0.850 total time=   0.1s\n",
            "[CV 3/5] END C=2.782559402207126, max_iter=10000, solver=lbfgs, tol=0.01;, score=0.804 total time=   0.1s\n",
            "[CV 4/5] END C=2.782559402207126, max_iter=10000, solver=lbfgs, tol=0.01;, score=0.792 total time=   0.1s\n",
            "[CV 5/5] END C=2.782559402207126, max_iter=10000, solver=lbfgs, tol=0.01;, score=0.781 total time=   0.1s\n",
            "[CV 1/5] END C=2.782559402207126, max_iter=10000, solver=lbfgs, tol=0.001;, score=0.842 total time=   0.1s\n",
            "[CV 2/5] END C=2.782559402207126, max_iter=10000, solver=lbfgs, tol=0.001;, score=0.850 total time=   0.1s\n",
            "[CV 3/5] END C=2.782559402207126, max_iter=10000, solver=lbfgs, tol=0.001;, score=0.804 total time=   0.1s\n",
            "[CV 4/5] END C=2.782559402207126, max_iter=10000, solver=lbfgs, tol=0.001;, score=0.792 total time=   0.1s\n",
            "[CV 5/5] END C=2.782559402207126, max_iter=10000, solver=lbfgs, tol=0.001;, score=0.781 total time=   0.1s\n",
            "[CV 1/5] END C=2.782559402207126, max_iter=10000, solver=lbfgs, tol=0.0001;, score=0.842 total time=   0.1s\n",
            "[CV 2/5] END C=2.782559402207126, max_iter=10000, solver=lbfgs, tol=0.0001;, score=0.850 total time=   0.1s\n",
            "[CV 3/5] END C=2.782559402207126, max_iter=10000, solver=lbfgs, tol=0.0001;, score=0.804 total time=   0.1s\n",
            "[CV 4/5] END C=2.782559402207126, max_iter=10000, solver=lbfgs, tol=0.0001;, score=0.792 total time=   0.1s\n",
            "[CV 5/5] END C=2.782559402207126, max_iter=10000, solver=lbfgs, tol=0.0001;, score=0.781 total time=   0.1s\n",
            "[CV 1/5] END C=2.782559402207126, max_iter=10000, solver=liblinear, tol=0.01;, score=0.842 total time=   0.1s\n",
            "[CV 2/5] END C=2.782559402207126, max_iter=10000, solver=liblinear, tol=0.01;, score=0.846 total time=   0.1s\n",
            "[CV 3/5] END C=2.782559402207126, max_iter=10000, solver=liblinear, tol=0.01;, score=0.804 total time=   0.1s\n",
            "[CV 4/5] END C=2.782559402207126, max_iter=10000, solver=liblinear, tol=0.01;, score=0.796 total time=   0.1s\n",
            "[CV 5/5] END C=2.782559402207126, max_iter=10000, solver=liblinear, tol=0.01;, score=0.781 total time=   0.1s\n",
            "[CV 1/5] END C=2.782559402207126, max_iter=10000, solver=liblinear, tol=0.001;, score=0.842 total time=   0.1s\n",
            "[CV 2/5] END C=2.782559402207126, max_iter=10000, solver=liblinear, tol=0.001;, score=0.850 total time=   0.1s\n",
            "[CV 3/5] END C=2.782559402207126, max_iter=10000, solver=liblinear, tol=0.001;, score=0.804 total time=   0.1s\n",
            "[CV 4/5] END C=2.782559402207126, max_iter=10000, solver=liblinear, tol=0.001;, score=0.796 total time=   0.1s\n",
            "[CV 5/5] END C=2.782559402207126, max_iter=10000, solver=liblinear, tol=0.001;, score=0.781 total time=   0.1s\n",
            "[CV 1/5] END C=2.782559402207126, max_iter=10000, solver=liblinear, tol=0.0001;, score=0.842 total time=   0.1s\n",
            "[CV 2/5] END C=2.782559402207126, max_iter=10000, solver=liblinear, tol=0.0001;, score=0.850 total time=   0.1s\n",
            "[CV 3/5] END C=2.782559402207126, max_iter=10000, solver=liblinear, tol=0.0001;, score=0.804 total time=   0.1s\n",
            "[CV 4/5] END C=2.782559402207126, max_iter=10000, solver=liblinear, tol=0.0001;, score=0.796 total time=   0.1s\n",
            "[CV 5/5] END C=2.782559402207126, max_iter=10000, solver=liblinear, tol=0.0001;, score=0.781 total time=   0.1s\n",
            "[CV 1/5] END C=2.782559402207126, max_iter=10000, solver=sag, tol=0.01;, score=0.842 total time=   0.1s\n",
            "[CV 2/5] END C=2.782559402207126, max_iter=10000, solver=sag, tol=0.01;, score=0.842 total time=   0.1s\n",
            "[CV 3/5] END C=2.782559402207126, max_iter=10000, solver=sag, tol=0.01;, score=0.804 total time=   0.1s\n",
            "[CV 4/5] END C=2.782559402207126, max_iter=10000, solver=sag, tol=0.01;, score=0.796 total time=   0.1s\n",
            "[CV 5/5] END C=2.782559402207126, max_iter=10000, solver=sag, tol=0.01;, score=0.785 total time=   0.1s\n",
            "[CV 1/5] END C=2.782559402207126, max_iter=10000, solver=sag, tol=0.001;, score=0.842 total time=   0.1s\n",
            "[CV 2/5] END C=2.782559402207126, max_iter=10000, solver=sag, tol=0.001;, score=0.846 total time=   0.1s\n",
            "[CV 3/5] END C=2.782559402207126, max_iter=10000, solver=sag, tol=0.001;, score=0.804 total time=   0.1s\n",
            "[CV 4/5] END C=2.782559402207126, max_iter=10000, solver=sag, tol=0.001;, score=0.796 total time=   0.1s\n",
            "[CV 5/5] END C=2.782559402207126, max_iter=10000, solver=sag, tol=0.001;, score=0.781 total time=   0.1s\n",
            "[CV 1/5] END C=2.782559402207126, max_iter=10000, solver=sag, tol=0.0001;, score=0.842 total time=   0.2s\n",
            "[CV 2/5] END C=2.782559402207126, max_iter=10000, solver=sag, tol=0.0001;, score=0.850 total time=   0.2s\n",
            "[CV 3/5] END C=2.782559402207126, max_iter=10000, solver=sag, tol=0.0001;, score=0.804 total time=   0.2s\n",
            "[CV 4/5] END C=2.782559402207126, max_iter=10000, solver=sag, tol=0.0001;, score=0.796 total time=   0.2s\n",
            "[CV 5/5] END C=2.782559402207126, max_iter=10000, solver=sag, tol=0.0001;, score=0.781 total time=   0.2s\n",
            "[CV 1/5] END C=2.782559402207126, max_iter=10000, solver=saga, tol=0.01;, score=0.842 total time=   0.1s\n",
            "[CV 2/5] END C=2.782559402207126, max_iter=10000, solver=saga, tol=0.01;, score=0.846 total time=   0.1s\n",
            "[CV 3/5] END C=2.782559402207126, max_iter=10000, solver=saga, tol=0.01;, score=0.804 total time=   0.1s\n",
            "[CV 4/5] END C=2.782559402207126, max_iter=10000, solver=saga, tol=0.01;, score=0.796 total time=   0.1s\n",
            "[CV 5/5] END C=2.782559402207126, max_iter=10000, solver=saga, tol=0.01;, score=0.781 total time=   0.1s\n",
            "[CV 1/5] END C=2.782559402207126, max_iter=10000, solver=saga, tol=0.001;, score=0.842 total time=   0.1s\n",
            "[CV 2/5] END C=2.782559402207126, max_iter=10000, solver=saga, tol=0.001;, score=0.850 total time=   0.1s\n",
            "[CV 3/5] END C=2.782559402207126, max_iter=10000, solver=saga, tol=0.001;, score=0.804 total time=   0.1s\n",
            "[CV 4/5] END C=2.782559402207126, max_iter=10000, solver=saga, tol=0.001;, score=0.796 total time=   0.1s\n",
            "[CV 5/5] END C=2.782559402207126, max_iter=10000, solver=saga, tol=0.001;, score=0.781 total time=   0.1s\n",
            "[CV 1/5] END C=2.782559402207126, max_iter=10000, solver=saga, tol=0.0001;, score=0.842 total time=   0.2s\n",
            "[CV 2/5] END C=2.782559402207126, max_iter=10000, solver=saga, tol=0.0001;, score=0.850 total time=   0.2s\n",
            "[CV 3/5] END C=2.782559402207126, max_iter=10000, solver=saga, tol=0.0001;, score=0.804 total time=   0.2s\n",
            "[CV 4/5] END C=2.782559402207126, max_iter=10000, solver=saga, tol=0.0001;, score=0.792 total time=   0.2s\n",
            "[CV 5/5] END C=2.782559402207126, max_iter=10000, solver=saga, tol=0.0001;, score=0.781 total time=   0.2s\n",
            "[CV 1/5] END C=21.54434690031882, max_iter=1000, solver=newton-cg, tol=0.01;, score=0.842 total time=   0.1s\n",
            "[CV 2/5] END C=21.54434690031882, max_iter=1000, solver=newton-cg, tol=0.01;, score=0.850 total time=   0.1s\n",
            "[CV 3/5] END C=21.54434690031882, max_iter=1000, solver=newton-cg, tol=0.01;, score=0.804 total time=   0.1s\n",
            "[CV 4/5] END C=21.54434690031882, max_iter=1000, solver=newton-cg, tol=0.01;, score=0.792 total time=   0.1s\n",
            "[CV 5/5] END C=21.54434690031882, max_iter=1000, solver=newton-cg, tol=0.01;, score=0.781 total time=   0.1s\n",
            "[CV 1/5] END C=21.54434690031882, max_iter=1000, solver=newton-cg, tol=0.001;, score=0.842 total time=   0.1s\n",
            "[CV 2/5] END C=21.54434690031882, max_iter=1000, solver=newton-cg, tol=0.001;, score=0.850 total time=   0.1s\n",
            "[CV 3/5] END C=21.54434690031882, max_iter=1000, solver=newton-cg, tol=0.001;, score=0.804 total time=   0.1s\n",
            "[CV 4/5] END C=21.54434690031882, max_iter=1000, solver=newton-cg, tol=0.001;, score=0.792 total time=   0.1s\n",
            "[CV 5/5] END C=21.54434690031882, max_iter=1000, solver=newton-cg, tol=0.001;, score=0.781 total time=   0.1s\n",
            "[CV 1/5] END C=21.54434690031882, max_iter=1000, solver=newton-cg, tol=0.0001;, score=0.842 total time=   0.1s\n",
            "[CV 2/5] END C=21.54434690031882, max_iter=1000, solver=newton-cg, tol=0.0001;, score=0.850 total time=   0.1s\n",
            "[CV 3/5] END C=21.54434690031882, max_iter=1000, solver=newton-cg, tol=0.0001;, score=0.804 total time=   0.1s\n",
            "[CV 4/5] END C=21.54434690031882, max_iter=1000, solver=newton-cg, tol=0.0001;, score=0.792 total time=   0.1s\n",
            "[CV 5/5] END C=21.54434690031882, max_iter=1000, solver=newton-cg, tol=0.0001;, score=0.781 total time=   0.1s\n",
            "[CV 1/5] END C=21.54434690031882, max_iter=1000, solver=lbfgs, tol=0.01;, score=0.842 total time=   0.1s\n",
            "[CV 2/5] END C=21.54434690031882, max_iter=1000, solver=lbfgs, tol=0.01;, score=0.850 total time=   0.1s\n",
            "[CV 3/5] END C=21.54434690031882, max_iter=1000, solver=lbfgs, tol=0.01;, score=0.804 total time=   0.1s\n",
            "[CV 4/5] END C=21.54434690031882, max_iter=1000, solver=lbfgs, tol=0.01;, score=0.792 total time=   0.1s\n",
            "[CV 5/5] END C=21.54434690031882, max_iter=1000, solver=lbfgs, tol=0.01;, score=0.781 total time=   0.1s\n",
            "[CV 1/5] END C=21.54434690031882, max_iter=1000, solver=lbfgs, tol=0.001;, score=0.842 total time=   0.1s\n",
            "[CV 2/5] END C=21.54434690031882, max_iter=1000, solver=lbfgs, tol=0.001;, score=0.850 total time=   0.1s\n",
            "[CV 3/5] END C=21.54434690031882, max_iter=1000, solver=lbfgs, tol=0.001;, score=0.804 total time=   0.1s\n",
            "[CV 4/5] END C=21.54434690031882, max_iter=1000, solver=lbfgs, tol=0.001;, score=0.792 total time=   0.1s\n",
            "[CV 5/5] END C=21.54434690031882, max_iter=1000, solver=lbfgs, tol=0.001;, score=0.781 total time=   0.1s\n",
            "[CV 1/5] END C=21.54434690031882, max_iter=1000, solver=lbfgs, tol=0.0001;, score=0.842 total time=   0.1s\n",
            "[CV 2/5] END C=21.54434690031882, max_iter=1000, solver=lbfgs, tol=0.0001;, score=0.850 total time=   0.1s\n",
            "[CV 3/5] END C=21.54434690031882, max_iter=1000, solver=lbfgs, tol=0.0001;, score=0.804 total time=   0.1s\n",
            "[CV 4/5] END C=21.54434690031882, max_iter=1000, solver=lbfgs, tol=0.0001;, score=0.792 total time=   0.1s\n",
            "[CV 5/5] END C=21.54434690031882, max_iter=1000, solver=lbfgs, tol=0.0001;, score=0.781 total time=   0.1s\n",
            "[CV 1/5] END C=21.54434690031882, max_iter=1000, solver=liblinear, tol=0.01;, score=0.842 total time=   0.1s\n",
            "[CV 2/5] END C=21.54434690031882, max_iter=1000, solver=liblinear, tol=0.01;, score=0.850 total time=   0.1s\n",
            "[CV 3/5] END C=21.54434690031882, max_iter=1000, solver=liblinear, tol=0.01;, score=0.804 total time=   0.1s\n",
            "[CV 4/5] END C=21.54434690031882, max_iter=1000, solver=liblinear, tol=0.01;, score=0.796 total time=   0.1s\n",
            "[CV 5/5] END C=21.54434690031882, max_iter=1000, solver=liblinear, tol=0.01;, score=0.781 total time=   0.1s\n",
            "[CV 1/5] END C=21.54434690031882, max_iter=1000, solver=liblinear, tol=0.001;, score=0.842 total time=   0.1s\n",
            "[CV 2/5] END C=21.54434690031882, max_iter=1000, solver=liblinear, tol=0.001;, score=0.850 total time=   0.1s\n",
            "[CV 3/5] END C=21.54434690031882, max_iter=1000, solver=liblinear, tol=0.001;, score=0.804 total time=   0.1s\n",
            "[CV 4/5] END C=21.54434690031882, max_iter=1000, solver=liblinear, tol=0.001;, score=0.796 total time=   0.1s\n",
            "[CV 5/5] END C=21.54434690031882, max_iter=1000, solver=liblinear, tol=0.001;, score=0.781 total time=   0.1s\n",
            "[CV 1/5] END C=21.54434690031882, max_iter=1000, solver=liblinear, tol=0.0001;, score=0.842 total time=   0.1s\n",
            "[CV 2/5] END C=21.54434690031882, max_iter=1000, solver=liblinear, tol=0.0001;, score=0.850 total time=   0.1s\n",
            "[CV 3/5] END C=21.54434690031882, max_iter=1000, solver=liblinear, tol=0.0001;, score=0.804 total time=   0.1s\n",
            "[CV 4/5] END C=21.54434690031882, max_iter=1000, solver=liblinear, tol=0.0001;, score=0.792 total time=   0.1s\n",
            "[CV 5/5] END C=21.54434690031882, max_iter=1000, solver=liblinear, tol=0.0001;, score=0.781 total time=   0.1s\n",
            "[CV 1/5] END C=21.54434690031882, max_iter=1000, solver=sag, tol=0.01;, score=0.842 total time=   0.1s\n",
            "[CV 2/5] END C=21.54434690031882, max_iter=1000, solver=sag, tol=0.01;, score=0.842 total time=   0.1s\n",
            "[CV 3/5] END C=21.54434690031882, max_iter=1000, solver=sag, tol=0.01;, score=0.804 total time=   0.1s\n",
            "[CV 4/5] END C=21.54434690031882, max_iter=1000, solver=sag, tol=0.01;, score=0.800 total time=   0.1s\n",
            "[CV 5/5] END C=21.54434690031882, max_iter=1000, solver=sag, tol=0.01;, score=0.785 total time=   0.1s\n",
            "[CV 1/5] END C=21.54434690031882, max_iter=1000, solver=sag, tol=0.001;, score=0.842 total time=   0.1s\n",
            "[CV 2/5] END C=21.54434690031882, max_iter=1000, solver=sag, tol=0.001;, score=0.846 total time=   0.1s\n",
            "[CV 3/5] END C=21.54434690031882, max_iter=1000, solver=sag, tol=0.001;, score=0.804 total time=   0.2s\n",
            "[CV 4/5] END C=21.54434690031882, max_iter=1000, solver=sag, tol=0.001;, score=0.796 total time=   0.2s\n",
            "[CV 5/5] END C=21.54434690031882, max_iter=1000, solver=sag, tol=0.001;, score=0.781 total time=   0.1s\n",
            "[CV 1/5] END C=21.54434690031882, max_iter=1000, solver=sag, tol=0.0001;, score=0.842 total time=   0.2s\n",
            "[CV 2/5] END C=21.54434690031882, max_iter=1000, solver=sag, tol=0.0001;, score=0.850 total time=   0.2s\n",
            "[CV 3/5] END C=21.54434690031882, max_iter=1000, solver=sag, tol=0.0001;, score=0.804 total time=   0.2s\n",
            "[CV 4/5] END C=21.54434690031882, max_iter=1000, solver=sag, tol=0.0001;, score=0.792 total time=   0.2s\n",
            "[CV 5/5] END C=21.54434690031882, max_iter=1000, solver=sag, tol=0.0001;, score=0.781 total time=   0.2s\n",
            "[CV 1/5] END C=21.54434690031882, max_iter=1000, solver=saga, tol=0.01;, score=0.842 total time=   0.1s\n",
            "[CV 2/5] END C=21.54434690031882, max_iter=1000, solver=saga, tol=0.01;, score=0.850 total time=   0.1s\n",
            "[CV 3/5] END C=21.54434690031882, max_iter=1000, solver=saga, tol=0.01;, score=0.804 total time=   0.1s\n",
            "[CV 4/5] END C=21.54434690031882, max_iter=1000, solver=saga, tol=0.01;, score=0.796 total time=   0.1s\n",
            "[CV 5/5] END C=21.54434690031882, max_iter=1000, solver=saga, tol=0.01;, score=0.781 total time=   0.1s\n",
            "[CV 1/5] END C=21.54434690031882, max_iter=1000, solver=saga, tol=0.001;, score=0.842 total time=   0.2s\n",
            "[CV 2/5] END C=21.54434690031882, max_iter=1000, solver=saga, tol=0.001;, score=0.850 total time=   0.1s\n",
            "[CV 3/5] END C=21.54434690031882, max_iter=1000, solver=saga, tol=0.001;, score=0.804 total time=   0.1s\n",
            "[CV 4/5] END C=21.54434690031882, max_iter=1000, solver=saga, tol=0.001;, score=0.792 total time=   0.1s\n",
            "[CV 5/5] END C=21.54434690031882, max_iter=1000, solver=saga, tol=0.001;, score=0.781 total time=   0.1s\n",
            "[CV 1/5] END C=21.54434690031882, max_iter=1000, solver=saga, tol=0.0001;, score=0.842 total time=   0.2s\n",
            "[CV 2/5] END C=21.54434690031882, max_iter=1000, solver=saga, tol=0.0001;, score=0.850 total time=   0.2s\n",
            "[CV 3/5] END C=21.54434690031882, max_iter=1000, solver=saga, tol=0.0001;, score=0.804 total time=   0.2s\n",
            "[CV 4/5] END C=21.54434690031882, max_iter=1000, solver=saga, tol=0.0001;, score=0.792 total time=   0.2s\n",
            "[CV 5/5] END C=21.54434690031882, max_iter=1000, solver=saga, tol=0.0001;, score=0.781 total time=   0.2s\n",
            "[CV 1/5] END C=21.54434690031882, max_iter=10000, solver=newton-cg, tol=0.01;, score=0.842 total time=   0.1s\n",
            "[CV 2/5] END C=21.54434690031882, max_iter=10000, solver=newton-cg, tol=0.01;, score=0.850 total time=   0.1s\n",
            "[CV 3/5] END C=21.54434690031882, max_iter=10000, solver=newton-cg, tol=0.01;, score=0.804 total time=   0.1s\n",
            "[CV 4/5] END C=21.54434690031882, max_iter=10000, solver=newton-cg, tol=0.01;, score=0.792 total time=   0.1s\n",
            "[CV 5/5] END C=21.54434690031882, max_iter=10000, solver=newton-cg, tol=0.01;, score=0.781 total time=   0.1s\n",
            "[CV 1/5] END C=21.54434690031882, max_iter=10000, solver=newton-cg, tol=0.001;, score=0.842 total time=   0.1s\n",
            "[CV 2/5] END C=21.54434690031882, max_iter=10000, solver=newton-cg, tol=0.001;, score=0.850 total time=   0.1s\n",
            "[CV 3/5] END C=21.54434690031882, max_iter=10000, solver=newton-cg, tol=0.001;, score=0.804 total time=   0.1s\n",
            "[CV 4/5] END C=21.54434690031882, max_iter=10000, solver=newton-cg, tol=0.001;, score=0.792 total time=   0.1s\n",
            "[CV 5/5] END C=21.54434690031882, max_iter=10000, solver=newton-cg, tol=0.001;, score=0.781 total time=   0.1s\n",
            "[CV 1/5] END C=21.54434690031882, max_iter=10000, solver=newton-cg, tol=0.0001;, score=0.842 total time=   0.1s\n",
            "[CV 2/5] END C=21.54434690031882, max_iter=10000, solver=newton-cg, tol=0.0001;, score=0.850 total time=   0.1s\n",
            "[CV 3/5] END C=21.54434690031882, max_iter=10000, solver=newton-cg, tol=0.0001;, score=0.804 total time=   0.1s\n",
            "[CV 4/5] END C=21.54434690031882, max_iter=10000, solver=newton-cg, tol=0.0001;, score=0.792 total time=   0.1s\n",
            "[CV 5/5] END C=21.54434690031882, max_iter=10000, solver=newton-cg, tol=0.0001;, score=0.781 total time=   0.1s\n",
            "[CV 1/5] END C=21.54434690031882, max_iter=10000, solver=lbfgs, tol=0.01;, score=0.842 total time=   0.1s\n",
            "[CV 2/5] END C=21.54434690031882, max_iter=10000, solver=lbfgs, tol=0.01;, score=0.850 total time=   0.1s\n",
            "[CV 3/5] END C=21.54434690031882, max_iter=10000, solver=lbfgs, tol=0.01;, score=0.804 total time=   0.1s\n",
            "[CV 4/5] END C=21.54434690031882, max_iter=10000, solver=lbfgs, tol=0.01;, score=0.792 total time=   0.1s\n",
            "[CV 5/5] END C=21.54434690031882, max_iter=10000, solver=lbfgs, tol=0.01;, score=0.781 total time=   0.1s\n",
            "[CV 1/5] END C=21.54434690031882, max_iter=10000, solver=lbfgs, tol=0.001;, score=0.842 total time=   0.1s\n",
            "[CV 2/5] END C=21.54434690031882, max_iter=10000, solver=lbfgs, tol=0.001;, score=0.850 total time=   0.1s\n",
            "[CV 3/5] END C=21.54434690031882, max_iter=10000, solver=lbfgs, tol=0.001;, score=0.804 total time=   0.1s\n",
            "[CV 4/5] END C=21.54434690031882, max_iter=10000, solver=lbfgs, tol=0.001;, score=0.792 total time=   0.1s\n",
            "[CV 5/5] END C=21.54434690031882, max_iter=10000, solver=lbfgs, tol=0.001;, score=0.781 total time=   0.1s\n",
            "[CV 1/5] END C=21.54434690031882, max_iter=10000, solver=lbfgs, tol=0.0001;, score=0.842 total time=   0.1s\n",
            "[CV 2/5] END C=21.54434690031882, max_iter=10000, solver=lbfgs, tol=0.0001;, score=0.850 total time=   0.1s\n",
            "[CV 3/5] END C=21.54434690031882, max_iter=10000, solver=lbfgs, tol=0.0001;, score=0.804 total time=   0.1s\n",
            "[CV 4/5] END C=21.54434690031882, max_iter=10000, solver=lbfgs, tol=0.0001;, score=0.792 total time=   0.1s\n",
            "[CV 5/5] END C=21.54434690031882, max_iter=10000, solver=lbfgs, tol=0.0001;, score=0.781 total time=   0.1s\n",
            "[CV 1/5] END C=21.54434690031882, max_iter=10000, solver=liblinear, tol=0.01;, score=0.842 total time=   0.1s\n",
            "[CV 2/5] END C=21.54434690031882, max_iter=10000, solver=liblinear, tol=0.01;, score=0.850 total time=   0.1s\n",
            "[CV 3/5] END C=21.54434690031882, max_iter=10000, solver=liblinear, tol=0.01;, score=0.804 total time=   0.1s\n",
            "[CV 4/5] END C=21.54434690031882, max_iter=10000, solver=liblinear, tol=0.01;, score=0.796 total time=   0.0s\n",
            "[CV 5/5] END C=21.54434690031882, max_iter=10000, solver=liblinear, tol=0.01;, score=0.781 total time=   0.1s\n",
            "[CV 1/5] END C=21.54434690031882, max_iter=10000, solver=liblinear, tol=0.001;, score=0.842 total time=   0.1s\n",
            "[CV 2/5] END C=21.54434690031882, max_iter=10000, solver=liblinear, tol=0.001;, score=0.850 total time=   0.1s\n",
            "[CV 3/5] END C=21.54434690031882, max_iter=10000, solver=liblinear, tol=0.001;, score=0.804 total time=   0.1s\n",
            "[CV 4/5] END C=21.54434690031882, max_iter=10000, solver=liblinear, tol=0.001;, score=0.796 total time=   0.1s\n",
            "[CV 5/5] END C=21.54434690031882, max_iter=10000, solver=liblinear, tol=0.001;, score=0.781 total time=   0.1s\n",
            "[CV 1/5] END C=21.54434690031882, max_iter=10000, solver=liblinear, tol=0.0001;, score=0.842 total time=   0.1s\n",
            "[CV 2/5] END C=21.54434690031882, max_iter=10000, solver=liblinear, tol=0.0001;, score=0.850 total time=   0.1s\n",
            "[CV 3/5] END C=21.54434690031882, max_iter=10000, solver=liblinear, tol=0.0001;, score=0.804 total time=   0.1s\n",
            "[CV 4/5] END C=21.54434690031882, max_iter=10000, solver=liblinear, tol=0.0001;, score=0.792 total time=   0.1s\n",
            "[CV 5/5] END C=21.54434690031882, max_iter=10000, solver=liblinear, tol=0.0001;, score=0.781 total time=   0.1s\n",
            "[CV 1/5] END C=21.54434690031882, max_iter=10000, solver=sag, tol=0.01;, score=0.842 total time=   0.1s\n",
            "[CV 2/5] END C=21.54434690031882, max_iter=10000, solver=sag, tol=0.01;, score=0.842 total time=   0.1s\n",
            "[CV 3/5] END C=21.54434690031882, max_iter=10000, solver=sag, tol=0.01;, score=0.804 total time=   0.1s\n",
            "[CV 4/5] END C=21.54434690031882, max_iter=10000, solver=sag, tol=0.01;, score=0.800 total time=   0.1s\n",
            "[CV 5/5] END C=21.54434690031882, max_iter=10000, solver=sag, tol=0.01;, score=0.785 total time=   0.1s\n",
            "[CV 1/5] END C=21.54434690031882, max_iter=10000, solver=sag, tol=0.001;, score=0.842 total time=   0.1s\n",
            "[CV 2/5] END C=21.54434690031882, max_iter=10000, solver=sag, tol=0.001;, score=0.846 total time=   0.1s\n",
            "[CV 3/5] END C=21.54434690031882, max_iter=10000, solver=sag, tol=0.001;, score=0.804 total time=   0.1s\n",
            "[CV 4/5] END C=21.54434690031882, max_iter=10000, solver=sag, tol=0.001;, score=0.796 total time=   0.1s\n",
            "[CV 5/5] END C=21.54434690031882, max_iter=10000, solver=sag, tol=0.001;, score=0.781 total time=   0.1s\n",
            "[CV 1/5] END C=21.54434690031882, max_iter=10000, solver=sag, tol=0.0001;, score=0.842 total time=   0.2s\n",
            "[CV 2/5] END C=21.54434690031882, max_iter=10000, solver=sag, tol=0.0001;, score=0.850 total time=   0.2s\n",
            "[CV 3/5] END C=21.54434690031882, max_iter=10000, solver=sag, tol=0.0001;, score=0.804 total time=   0.2s\n",
            "[CV 4/5] END C=21.54434690031882, max_iter=10000, solver=sag, tol=0.0001;, score=0.792 total time=   0.2s\n",
            "[CV 5/5] END C=21.54434690031882, max_iter=10000, solver=sag, tol=0.0001;, score=0.781 total time=   0.2s\n",
            "[CV 1/5] END C=21.54434690031882, max_iter=10000, solver=saga, tol=0.01;, score=0.842 total time=   0.1s\n",
            "[CV 2/5] END C=21.54434690031882, max_iter=10000, solver=saga, tol=0.01;, score=0.850 total time=   0.1s\n",
            "[CV 3/5] END C=21.54434690031882, max_iter=10000, solver=saga, tol=0.01;, score=0.804 total time=   0.1s\n",
            "[CV 4/5] END C=21.54434690031882, max_iter=10000, solver=saga, tol=0.01;, score=0.796 total time=   0.1s\n",
            "[CV 5/5] END C=21.54434690031882, max_iter=10000, solver=saga, tol=0.01;, score=0.781 total time=   0.1s\n",
            "[CV 1/5] END C=21.54434690031882, max_iter=10000, solver=saga, tol=0.001;, score=0.842 total time=   0.2s\n",
            "[CV 2/5] END C=21.54434690031882, max_iter=10000, solver=saga, tol=0.001;, score=0.850 total time=   0.1s\n",
            "[CV 3/5] END C=21.54434690031882, max_iter=10000, solver=saga, tol=0.001;, score=0.804 total time=   0.1s\n",
            "[CV 4/5] END C=21.54434690031882, max_iter=10000, solver=saga, tol=0.001;, score=0.792 total time=   0.1s\n",
            "[CV 5/5] END C=21.54434690031882, max_iter=10000, solver=saga, tol=0.001;, score=0.781 total time=   0.1s\n",
            "[CV 1/5] END C=21.54434690031882, max_iter=10000, solver=saga, tol=0.0001;, score=0.842 total time=   0.2s\n",
            "[CV 2/5] END C=21.54434690031882, max_iter=10000, solver=saga, tol=0.0001;, score=0.850 total time=   0.2s\n",
            "[CV 3/5] END C=21.54434690031882, max_iter=10000, solver=saga, tol=0.0001;, score=0.804 total time=   0.2s\n",
            "[CV 4/5] END C=21.54434690031882, max_iter=10000, solver=saga, tol=0.0001;, score=0.792 total time=   0.2s\n",
            "[CV 5/5] END C=21.54434690031882, max_iter=10000, solver=saga, tol=0.0001;, score=0.781 total time=   0.2s\n",
            "[CV 1/5] END C=166.81005372000558, max_iter=1000, solver=newton-cg, tol=0.01;, score=0.842 total time=   0.1s\n",
            "[CV 2/5] END C=166.81005372000558, max_iter=1000, solver=newton-cg, tol=0.01;, score=0.850 total time=   0.1s\n",
            "[CV 3/5] END C=166.81005372000558, max_iter=1000, solver=newton-cg, tol=0.01;, score=0.804 total time=   0.1s\n",
            "[CV 4/5] END C=166.81005372000558, max_iter=1000, solver=newton-cg, tol=0.01;, score=0.792 total time=   0.1s\n",
            "[CV 5/5] END C=166.81005372000558, max_iter=1000, solver=newton-cg, tol=0.01;, score=0.781 total time=   0.1s\n",
            "[CV 1/5] END C=166.81005372000558, max_iter=1000, solver=newton-cg, tol=0.001;, score=0.842 total time=   0.1s\n",
            "[CV 2/5] END C=166.81005372000558, max_iter=1000, solver=newton-cg, tol=0.001;, score=0.850 total time=   0.1s\n",
            "[CV 3/5] END C=166.81005372000558, max_iter=1000, solver=newton-cg, tol=0.001;, score=0.804 total time=   0.1s\n",
            "[CV 4/5] END C=166.81005372000558, max_iter=1000, solver=newton-cg, tol=0.001;, score=0.792 total time=   0.1s\n",
            "[CV 5/5] END C=166.81005372000558, max_iter=1000, solver=newton-cg, tol=0.001;, score=0.781 total time=   0.1s\n",
            "[CV 1/5] END C=166.81005372000558, max_iter=1000, solver=newton-cg, tol=0.0001;, score=0.842 total time=   0.1s\n",
            "[CV 2/5] END C=166.81005372000558, max_iter=1000, solver=newton-cg, tol=0.0001;, score=0.850 total time=   0.1s\n",
            "[CV 3/5] END C=166.81005372000558, max_iter=1000, solver=newton-cg, tol=0.0001;, score=0.804 total time=   0.1s\n",
            "[CV 4/5] END C=166.81005372000558, max_iter=1000, solver=newton-cg, tol=0.0001;, score=0.792 total time=   0.1s\n",
            "[CV 5/5] END C=166.81005372000558, max_iter=1000, solver=newton-cg, tol=0.0001;, score=0.781 total time=   0.1s\n",
            "[CV 1/5] END C=166.81005372000558, max_iter=1000, solver=lbfgs, tol=0.01;, score=0.842 total time=   0.1s\n",
            "[CV 2/5] END C=166.81005372000558, max_iter=1000, solver=lbfgs, tol=0.01;, score=0.850 total time=   0.1s\n",
            "[CV 3/5] END C=166.81005372000558, max_iter=1000, solver=lbfgs, tol=0.01;, score=0.804 total time=   0.1s\n",
            "[CV 4/5] END C=166.81005372000558, max_iter=1000, solver=lbfgs, tol=0.01;, score=0.792 total time=   0.1s\n",
            "[CV 5/5] END C=166.81005372000558, max_iter=1000, solver=lbfgs, tol=0.01;, score=0.781 total time=   0.1s\n",
            "[CV 1/5] END C=166.81005372000558, max_iter=1000, solver=lbfgs, tol=0.001;, score=0.842 total time=   0.1s\n",
            "[CV 2/5] END C=166.81005372000558, max_iter=1000, solver=lbfgs, tol=0.001;, score=0.850 total time=   0.1s\n",
            "[CV 3/5] END C=166.81005372000558, max_iter=1000, solver=lbfgs, tol=0.001;, score=0.804 total time=   0.1s\n",
            "[CV 4/5] END C=166.81005372000558, max_iter=1000, solver=lbfgs, tol=0.001;, score=0.792 total time=   0.1s\n",
            "[CV 5/5] END C=166.81005372000558, max_iter=1000, solver=lbfgs, tol=0.001;, score=0.781 total time=   0.1s\n",
            "[CV 1/5] END C=166.81005372000558, max_iter=1000, solver=lbfgs, tol=0.0001;, score=0.842 total time=   0.1s\n",
            "[CV 2/5] END C=166.81005372000558, max_iter=1000, solver=lbfgs, tol=0.0001;, score=0.850 total time=   0.1s\n",
            "[CV 3/5] END C=166.81005372000558, max_iter=1000, solver=lbfgs, tol=0.0001;, score=0.804 total time=   0.1s\n",
            "[CV 4/5] END C=166.81005372000558, max_iter=1000, solver=lbfgs, tol=0.0001;, score=0.792 total time=   0.1s\n",
            "[CV 5/5] END C=166.81005372000558, max_iter=1000, solver=lbfgs, tol=0.0001;, score=0.781 total time=   0.1s\n",
            "[CV 1/5] END C=166.81005372000558, max_iter=1000, solver=liblinear, tol=0.01;, score=0.842 total time=   0.1s\n",
            "[CV 2/5] END C=166.81005372000558, max_iter=1000, solver=liblinear, tol=0.01;, score=0.850 total time=   0.1s\n",
            "[CV 3/5] END C=166.81005372000558, max_iter=1000, solver=liblinear, tol=0.01;, score=0.804 total time=   0.1s\n",
            "[CV 4/5] END C=166.81005372000558, max_iter=1000, solver=liblinear, tol=0.01;, score=0.796 total time=   0.1s\n",
            "[CV 5/5] END C=166.81005372000558, max_iter=1000, solver=liblinear, tol=0.01;, score=0.781 total time=   0.1s\n",
            "[CV 1/5] END C=166.81005372000558, max_iter=1000, solver=liblinear, tol=0.001;, score=0.842 total time=   0.1s\n",
            "[CV 2/5] END C=166.81005372000558, max_iter=1000, solver=liblinear, tol=0.001;, score=0.850 total time=   0.1s\n",
            "[CV 3/5] END C=166.81005372000558, max_iter=1000, solver=liblinear, tol=0.001;, score=0.804 total time=   0.1s\n",
            "[CV 4/5] END C=166.81005372000558, max_iter=1000, solver=liblinear, tol=0.001;, score=0.796 total time=   0.1s\n",
            "[CV 5/5] END C=166.81005372000558, max_iter=1000, solver=liblinear, tol=0.001;, score=0.781 total time=   0.1s\n",
            "[CV 1/5] END C=166.81005372000558, max_iter=1000, solver=liblinear, tol=0.0001;, score=0.842 total time=   0.1s\n",
            "[CV 2/5] END C=166.81005372000558, max_iter=1000, solver=liblinear, tol=0.0001;, score=0.850 total time=   0.1s\n",
            "[CV 3/5] END C=166.81005372000558, max_iter=1000, solver=liblinear, tol=0.0001;, score=0.804 total time=   0.1s\n",
            "[CV 4/5] END C=166.81005372000558, max_iter=1000, solver=liblinear, tol=0.0001;, score=0.792 total time=   0.1s\n",
            "[CV 5/5] END C=166.81005372000558, max_iter=1000, solver=liblinear, tol=0.0001;, score=0.781 total time=   0.1s\n",
            "[CV 1/5] END C=166.81005372000558, max_iter=1000, solver=sag, tol=0.01;, score=0.842 total time=   0.1s\n",
            "[CV 2/5] END C=166.81005372000558, max_iter=1000, solver=sag, tol=0.01;, score=0.850 total time=   0.1s\n",
            "[CV 3/5] END C=166.81005372000558, max_iter=1000, solver=sag, tol=0.01;, score=0.804 total time=   0.1s\n",
            "[CV 4/5] END C=166.81005372000558, max_iter=1000, solver=sag, tol=0.01;, score=0.800 total time=   0.1s\n",
            "[CV 5/5] END C=166.81005372000558, max_iter=1000, solver=sag, tol=0.01;, score=0.785 total time=   0.1s\n",
            "[CV 1/5] END C=166.81005372000558, max_iter=1000, solver=sag, tol=0.001;, score=0.842 total time=   0.1s\n",
            "[CV 2/5] END C=166.81005372000558, max_iter=1000, solver=sag, tol=0.001;, score=0.846 total time=   0.1s\n",
            "[CV 3/5] END C=166.81005372000558, max_iter=1000, solver=sag, tol=0.001;, score=0.804 total time=   0.1s\n",
            "[CV 4/5] END C=166.81005372000558, max_iter=1000, solver=sag, tol=0.001;, score=0.796 total time=   0.1s\n",
            "[CV 5/5] END C=166.81005372000558, max_iter=1000, solver=sag, tol=0.001;, score=0.781 total time=   0.1s\n",
            "[CV 1/5] END C=166.81005372000558, max_iter=1000, solver=sag, tol=0.0001;, score=0.842 total time=   0.2s\n",
            "[CV 2/5] END C=166.81005372000558, max_iter=1000, solver=sag, tol=0.0001;, score=0.850 total time=   0.2s\n",
            "[CV 3/5] END C=166.81005372000558, max_iter=1000, solver=sag, tol=0.0001;, score=0.804 total time=   0.2s\n",
            "[CV 4/5] END C=166.81005372000558, max_iter=1000, solver=sag, tol=0.0001;, score=0.792 total time=   0.2s\n",
            "[CV 5/5] END C=166.81005372000558, max_iter=1000, solver=sag, tol=0.0001;, score=0.781 total time=   0.2s\n",
            "[CV 1/5] END C=166.81005372000558, max_iter=1000, solver=saga, tol=0.01;, score=0.842 total time=   0.1s\n",
            "[CV 2/5] END C=166.81005372000558, max_iter=1000, solver=saga, tol=0.01;, score=0.850 total time=   0.1s\n",
            "[CV 3/5] END C=166.81005372000558, max_iter=1000, solver=saga, tol=0.01;, score=0.804 total time=   0.1s\n",
            "[CV 4/5] END C=166.81005372000558, max_iter=1000, solver=saga, tol=0.01;, score=0.796 total time=   0.1s\n",
            "[CV 5/5] END C=166.81005372000558, max_iter=1000, solver=saga, tol=0.01;, score=0.781 total time=   0.1s\n",
            "[CV 1/5] END C=166.81005372000558, max_iter=1000, solver=saga, tol=0.001;, score=0.842 total time=   0.2s\n",
            "[CV 2/5] END C=166.81005372000558, max_iter=1000, solver=saga, tol=0.001;, score=0.850 total time=   0.1s\n",
            "[CV 3/5] END C=166.81005372000558, max_iter=1000, solver=saga, tol=0.001;, score=0.804 total time=   0.1s\n",
            "[CV 4/5] END C=166.81005372000558, max_iter=1000, solver=saga, tol=0.001;, score=0.792 total time=   0.1s\n",
            "[CV 5/5] END C=166.81005372000558, max_iter=1000, solver=saga, tol=0.001;, score=0.781 total time=   0.1s\n",
            "[CV 1/5] END C=166.81005372000558, max_iter=1000, solver=saga, tol=0.0001;, score=0.842 total time=   0.2s\n",
            "[CV 2/5] END C=166.81005372000558, max_iter=1000, solver=saga, tol=0.0001;, score=0.850 total time=   0.2s\n",
            "[CV 3/5] END C=166.81005372000558, max_iter=1000, solver=saga, tol=0.0001;, score=0.804 total time=   0.2s\n",
            "[CV 4/5] END C=166.81005372000558, max_iter=1000, solver=saga, tol=0.0001;, score=0.792 total time=   0.2s\n",
            "[CV 5/5] END C=166.81005372000558, max_iter=1000, solver=saga, tol=0.0001;, score=0.781 total time=   0.2s\n",
            "[CV 1/5] END C=166.81005372000558, max_iter=10000, solver=newton-cg, tol=0.01;, score=0.842 total time=   0.1s\n",
            "[CV 2/5] END C=166.81005372000558, max_iter=10000, solver=newton-cg, tol=0.01;, score=0.850 total time=   0.1s\n",
            "[CV 3/5] END C=166.81005372000558, max_iter=10000, solver=newton-cg, tol=0.01;, score=0.804 total time=   0.1s\n",
            "[CV 4/5] END C=166.81005372000558, max_iter=10000, solver=newton-cg, tol=0.01;, score=0.792 total time=   0.1s\n",
            "[CV 5/5] END C=166.81005372000558, max_iter=10000, solver=newton-cg, tol=0.01;, score=0.781 total time=   0.1s\n",
            "[CV 1/5] END C=166.81005372000558, max_iter=10000, solver=newton-cg, tol=0.001;, score=0.842 total time=   0.1s\n",
            "[CV 2/5] END C=166.81005372000558, max_iter=10000, solver=newton-cg, tol=0.001;, score=0.850 total time=   0.1s\n",
            "[CV 3/5] END C=166.81005372000558, max_iter=10000, solver=newton-cg, tol=0.001;, score=0.804 total time=   0.1s\n",
            "[CV 4/5] END C=166.81005372000558, max_iter=10000, solver=newton-cg, tol=0.001;, score=0.792 total time=   0.1s\n",
            "[CV 5/5] END C=166.81005372000558, max_iter=10000, solver=newton-cg, tol=0.001;, score=0.781 total time=   0.1s\n",
            "[CV 1/5] END C=166.81005372000558, max_iter=10000, solver=newton-cg, tol=0.0001;, score=0.842 total time=   0.2s\n",
            "[CV 2/5] END C=166.81005372000558, max_iter=10000, solver=newton-cg, tol=0.0001;, score=0.850 total time=   0.1s\n",
            "[CV 3/5] END C=166.81005372000558, max_iter=10000, solver=newton-cg, tol=0.0001;, score=0.804 total time=   0.1s\n",
            "[CV 4/5] END C=166.81005372000558, max_iter=10000, solver=newton-cg, tol=0.0001;, score=0.792 total time=   0.1s\n",
            "[CV 5/5] END C=166.81005372000558, max_iter=10000, solver=newton-cg, tol=0.0001;, score=0.781 total time=   0.1s\n",
            "[CV 1/5] END C=166.81005372000558, max_iter=10000, solver=lbfgs, tol=0.01;, score=0.842 total time=   0.1s\n",
            "[CV 2/5] END C=166.81005372000558, max_iter=10000, solver=lbfgs, tol=0.01;, score=0.850 total time=   0.1s\n",
            "[CV 3/5] END C=166.81005372000558, max_iter=10000, solver=lbfgs, tol=0.01;, score=0.804 total time=   0.1s\n",
            "[CV 4/5] END C=166.81005372000558, max_iter=10000, solver=lbfgs, tol=0.01;, score=0.792 total time=   0.1s\n",
            "[CV 5/5] END C=166.81005372000558, max_iter=10000, solver=lbfgs, tol=0.01;, score=0.781 total time=   0.1s\n",
            "[CV 1/5] END C=166.81005372000558, max_iter=10000, solver=lbfgs, tol=0.001;, score=0.842 total time=   0.1s\n",
            "[CV 2/5] END C=166.81005372000558, max_iter=10000, solver=lbfgs, tol=0.001;, score=0.850 total time=   0.1s\n",
            "[CV 3/5] END C=166.81005372000558, max_iter=10000, solver=lbfgs, tol=0.001;, score=0.804 total time=   0.1s\n",
            "[CV 4/5] END C=166.81005372000558, max_iter=10000, solver=lbfgs, tol=0.001;, score=0.792 total time=   0.1s\n",
            "[CV 5/5] END C=166.81005372000558, max_iter=10000, solver=lbfgs, tol=0.001;, score=0.781 total time=   0.1s\n",
            "[CV 1/5] END C=166.81005372000558, max_iter=10000, solver=lbfgs, tol=0.0001;, score=0.842 total time=   0.1s\n",
            "[CV 2/5] END C=166.81005372000558, max_iter=10000, solver=lbfgs, tol=0.0001;, score=0.850 total time=   0.1s\n",
            "[CV 3/5] END C=166.81005372000558, max_iter=10000, solver=lbfgs, tol=0.0001;, score=0.804 total time=   0.1s\n",
            "[CV 4/5] END C=166.81005372000558, max_iter=10000, solver=lbfgs, tol=0.0001;, score=0.792 total time=   0.1s\n",
            "[CV 5/5] END C=166.81005372000558, max_iter=10000, solver=lbfgs, tol=0.0001;, score=0.781 total time=   0.1s\n",
            "[CV 1/5] END C=166.81005372000558, max_iter=10000, solver=liblinear, tol=0.01;, score=0.842 total time=   0.1s\n",
            "[CV 2/5] END C=166.81005372000558, max_iter=10000, solver=liblinear, tol=0.01;, score=0.850 total time=   0.1s\n",
            "[CV 3/5] END C=166.81005372000558, max_iter=10000, solver=liblinear, tol=0.01;, score=0.804 total time=   0.1s\n",
            "[CV 4/5] END C=166.81005372000558, max_iter=10000, solver=liblinear, tol=0.01;, score=0.796 total time=   0.1s\n",
            "[CV 5/5] END C=166.81005372000558, max_iter=10000, solver=liblinear, tol=0.01;, score=0.781 total time=   0.1s\n",
            "[CV 1/5] END C=166.81005372000558, max_iter=10000, solver=liblinear, tol=0.001;, score=0.842 total time=   0.1s\n",
            "[CV 2/5] END C=166.81005372000558, max_iter=10000, solver=liblinear, tol=0.001;, score=0.850 total time=   0.1s\n",
            "[CV 3/5] END C=166.81005372000558, max_iter=10000, solver=liblinear, tol=0.001;, score=0.804 total time=   0.1s\n",
            "[CV 4/5] END C=166.81005372000558, max_iter=10000, solver=liblinear, tol=0.001;, score=0.796 total time=   0.1s\n",
            "[CV 5/5] END C=166.81005372000558, max_iter=10000, solver=liblinear, tol=0.001;, score=0.781 total time=   0.1s\n",
            "[CV 1/5] END C=166.81005372000558, max_iter=10000, solver=liblinear, tol=0.0001;, score=0.842 total time=   0.1s\n",
            "[CV 2/5] END C=166.81005372000558, max_iter=10000, solver=liblinear, tol=0.0001;, score=0.850 total time=   0.1s\n",
            "[CV 3/5] END C=166.81005372000558, max_iter=10000, solver=liblinear, tol=0.0001;, score=0.804 total time=   0.1s\n",
            "[CV 4/5] END C=166.81005372000558, max_iter=10000, solver=liblinear, tol=0.0001;, score=0.792 total time=   0.1s\n",
            "[CV 5/5] END C=166.81005372000558, max_iter=10000, solver=liblinear, tol=0.0001;, score=0.781 total time=   0.1s\n",
            "[CV 1/5] END C=166.81005372000558, max_iter=10000, solver=sag, tol=0.01;, score=0.842 total time=   0.1s\n",
            "[CV 2/5] END C=166.81005372000558, max_iter=10000, solver=sag, tol=0.01;, score=0.850 total time=   0.1s\n",
            "[CV 3/5] END C=166.81005372000558, max_iter=10000, solver=sag, tol=0.01;, score=0.804 total time=   0.1s\n",
            "[CV 4/5] END C=166.81005372000558, max_iter=10000, solver=sag, tol=0.01;, score=0.800 total time=   0.1s\n",
            "[CV 5/5] END C=166.81005372000558, max_iter=10000, solver=sag, tol=0.01;, score=0.785 total time=   0.1s\n",
            "[CV 1/5] END C=166.81005372000558, max_iter=10000, solver=sag, tol=0.001;, score=0.842 total time=   0.1s\n",
            "[CV 2/5] END C=166.81005372000558, max_iter=10000, solver=sag, tol=0.001;, score=0.846 total time=   0.1s\n",
            "[CV 3/5] END C=166.81005372000558, max_iter=10000, solver=sag, tol=0.001;, score=0.804 total time=   0.1s\n",
            "[CV 4/5] END C=166.81005372000558, max_iter=10000, solver=sag, tol=0.001;, score=0.796 total time=   0.1s\n",
            "[CV 5/5] END C=166.81005372000558, max_iter=10000, solver=sag, tol=0.001;, score=0.781 total time=   0.1s\n",
            "[CV 1/5] END C=166.81005372000558, max_iter=10000, solver=sag, tol=0.0001;, score=0.842 total time=   0.2s\n",
            "[CV 2/5] END C=166.81005372000558, max_iter=10000, solver=sag, tol=0.0001;, score=0.850 total time=   0.2s\n",
            "[CV 3/5] END C=166.81005372000558, max_iter=10000, solver=sag, tol=0.0001;, score=0.804 total time=   0.2s\n",
            "[CV 4/5] END C=166.81005372000558, max_iter=10000, solver=sag, tol=0.0001;, score=0.792 total time=   0.2s\n",
            "[CV 5/5] END C=166.81005372000558, max_iter=10000, solver=sag, tol=0.0001;, score=0.781 total time=   0.2s\n",
            "[CV 1/5] END C=166.81005372000558, max_iter=10000, solver=saga, tol=0.01;, score=0.842 total time=   0.1s\n",
            "[CV 2/5] END C=166.81005372000558, max_iter=10000, solver=saga, tol=0.01;, score=0.850 total time=   0.1s\n",
            "[CV 3/5] END C=166.81005372000558, max_iter=10000, solver=saga, tol=0.01;, score=0.804 total time=   0.1s\n",
            "[CV 4/5] END C=166.81005372000558, max_iter=10000, solver=saga, tol=0.01;, score=0.796 total time=   0.1s\n",
            "[CV 5/5] END C=166.81005372000558, max_iter=10000, solver=saga, tol=0.01;, score=0.781 total time=   0.1s\n",
            "[CV 1/5] END C=166.81005372000558, max_iter=10000, solver=saga, tol=0.001;, score=0.842 total time=   0.2s\n",
            "[CV 2/5] END C=166.81005372000558, max_iter=10000, solver=saga, tol=0.001;, score=0.850 total time=   0.1s\n",
            "[CV 3/5] END C=166.81005372000558, max_iter=10000, solver=saga, tol=0.001;, score=0.804 total time=   0.1s\n",
            "[CV 4/5] END C=166.81005372000558, max_iter=10000, solver=saga, tol=0.001;, score=0.792 total time=   0.1s\n",
            "[CV 5/5] END C=166.81005372000558, max_iter=10000, solver=saga, tol=0.001;, score=0.781 total time=   0.1s\n",
            "[CV 1/5] END C=166.81005372000558, max_iter=10000, solver=saga, tol=0.0001;, score=0.842 total time=   0.2s\n",
            "[CV 2/5] END C=166.81005372000558, max_iter=10000, solver=saga, tol=0.0001;, score=0.850 total time=   0.2s\n",
            "[CV 3/5] END C=166.81005372000558, max_iter=10000, solver=saga, tol=0.0001;, score=0.804 total time=   0.2s\n",
            "[CV 4/5] END C=166.81005372000558, max_iter=10000, solver=saga, tol=0.0001;, score=0.792 total time=   0.2s\n",
            "[CV 5/5] END C=166.81005372000558, max_iter=10000, solver=saga, tol=0.0001;, score=0.781 total time=   0.2s\n",
            "[CV 1/5] END C=1291.5496650148827, max_iter=1000, solver=newton-cg, tol=0.01;, score=0.842 total time=   0.1s\n",
            "[CV 2/5] END C=1291.5496650148827, max_iter=1000, solver=newton-cg, tol=0.01;, score=0.850 total time=   0.1s\n",
            "[CV 3/5] END C=1291.5496650148827, max_iter=1000, solver=newton-cg, tol=0.01;, score=0.804 total time=   0.1s\n",
            "[CV 4/5] END C=1291.5496650148827, max_iter=1000, solver=newton-cg, tol=0.01;, score=0.792 total time=   0.1s\n",
            "[CV 5/5] END C=1291.5496650148827, max_iter=1000, solver=newton-cg, tol=0.01;, score=0.781 total time=   0.1s\n",
            "[CV 1/5] END C=1291.5496650148827, max_iter=1000, solver=newton-cg, tol=0.001;, score=0.842 total time=   0.1s\n",
            "[CV 2/5] END C=1291.5496650148827, max_iter=1000, solver=newton-cg, tol=0.001;, score=0.850 total time=   0.1s\n",
            "[CV 3/5] END C=1291.5496650148827, max_iter=1000, solver=newton-cg, tol=0.001;, score=0.804 total time=   0.1s\n",
            "[CV 4/5] END C=1291.5496650148827, max_iter=1000, solver=newton-cg, tol=0.001;, score=0.792 total time=   0.1s\n",
            "[CV 5/5] END C=1291.5496650148827, max_iter=1000, solver=newton-cg, tol=0.001;, score=0.781 total time=   0.1s\n",
            "[CV 1/5] END C=1291.5496650148827, max_iter=1000, solver=newton-cg, tol=0.0001;, score=0.842 total time=   0.1s\n",
            "[CV 2/5] END C=1291.5496650148827, max_iter=1000, solver=newton-cg, tol=0.0001;, score=0.850 total time=   0.1s\n",
            "[CV 3/5] END C=1291.5496650148827, max_iter=1000, solver=newton-cg, tol=0.0001;, score=0.804 total time=   0.2s\n",
            "[CV 4/5] END C=1291.5496650148827, max_iter=1000, solver=newton-cg, tol=0.0001;, score=0.792 total time=   0.1s\n",
            "[CV 5/5] END C=1291.5496650148827, max_iter=1000, solver=newton-cg, tol=0.0001;, score=0.781 total time=   0.1s\n",
            "[CV 1/5] END C=1291.5496650148827, max_iter=1000, solver=lbfgs, tol=0.01;, score=0.842 total time=   0.1s\n",
            "[CV 2/5] END C=1291.5496650148827, max_iter=1000, solver=lbfgs, tol=0.01;, score=0.850 total time=   0.1s\n",
            "[CV 3/5] END C=1291.5496650148827, max_iter=1000, solver=lbfgs, tol=0.01;, score=0.804 total time=   0.1s\n",
            "[CV 4/5] END C=1291.5496650148827, max_iter=1000, solver=lbfgs, tol=0.01;, score=0.792 total time=   0.1s\n",
            "[CV 5/5] END C=1291.5496650148827, max_iter=1000, solver=lbfgs, tol=0.01;, score=0.781 total time=   0.1s\n",
            "[CV 1/5] END C=1291.5496650148827, max_iter=1000, solver=lbfgs, tol=0.001;, score=0.842 total time=   0.1s\n",
            "[CV 2/5] END C=1291.5496650148827, max_iter=1000, solver=lbfgs, tol=0.001;, score=0.850 total time=   0.1s\n",
            "[CV 3/5] END C=1291.5496650148827, max_iter=1000, solver=lbfgs, tol=0.001;, score=0.804 total time=   0.1s\n",
            "[CV 4/5] END C=1291.5496650148827, max_iter=1000, solver=lbfgs, tol=0.001;, score=0.792 total time=   0.1s\n",
            "[CV 5/5] END C=1291.5496650148827, max_iter=1000, solver=lbfgs, tol=0.001;, score=0.781 total time=   0.1s\n",
            "[CV 1/5] END C=1291.5496650148827, max_iter=1000, solver=lbfgs, tol=0.0001;, score=0.842 total time=   0.1s\n",
            "[CV 2/5] END C=1291.5496650148827, max_iter=1000, solver=lbfgs, tol=0.0001;, score=0.850 total time=   0.1s\n",
            "[CV 3/5] END C=1291.5496650148827, max_iter=1000, solver=lbfgs, tol=0.0001;, score=0.804 total time=   0.1s\n",
            "[CV 4/5] END C=1291.5496650148827, max_iter=1000, solver=lbfgs, tol=0.0001;, score=0.792 total time=   0.1s\n",
            "[CV 5/5] END C=1291.5496650148827, max_iter=1000, solver=lbfgs, tol=0.0001;, score=0.781 total time=   0.1s\n",
            "[CV 1/5] END C=1291.5496650148827, max_iter=1000, solver=liblinear, tol=0.01;, score=0.842 total time=   0.1s\n",
            "[CV 2/5] END C=1291.5496650148827, max_iter=1000, solver=liblinear, tol=0.01;, score=0.850 total time=   0.1s\n",
            "[CV 3/5] END C=1291.5496650148827, max_iter=1000, solver=liblinear, tol=0.01;, score=0.804 total time=   0.1s\n",
            "[CV 4/5] END C=1291.5496650148827, max_iter=1000, solver=liblinear, tol=0.01;, score=0.796 total time=   0.1s\n",
            "[CV 5/5] END C=1291.5496650148827, max_iter=1000, solver=liblinear, tol=0.01;, score=0.781 total time=   0.1s\n",
            "[CV 1/5] END C=1291.5496650148827, max_iter=1000, solver=liblinear, tol=0.001;, score=0.842 total time=   0.1s\n",
            "[CV 2/5] END C=1291.5496650148827, max_iter=1000, solver=liblinear, tol=0.001;, score=0.850 total time=   0.1s\n",
            "[CV 3/5] END C=1291.5496650148827, max_iter=1000, solver=liblinear, tol=0.001;, score=0.804 total time=   0.1s\n",
            "[CV 4/5] END C=1291.5496650148827, max_iter=1000, solver=liblinear, tol=0.001;, score=0.796 total time=   0.1s\n",
            "[CV 5/5] END C=1291.5496650148827, max_iter=1000, solver=liblinear, tol=0.001;, score=0.781 total time=   0.1s\n",
            "[CV 1/5] END C=1291.5496650148827, max_iter=1000, solver=liblinear, tol=0.0001;, score=0.842 total time=   0.1s\n",
            "[CV 2/5] END C=1291.5496650148827, max_iter=1000, solver=liblinear, tol=0.0001;, score=0.850 total time=   0.1s\n",
            "[CV 3/5] END C=1291.5496650148827, max_iter=1000, solver=liblinear, tol=0.0001;, score=0.804 total time=   0.1s\n",
            "[CV 4/5] END C=1291.5496650148827, max_iter=1000, solver=liblinear, tol=0.0001;, score=0.792 total time=   0.1s\n",
            "[CV 5/5] END C=1291.5496650148827, max_iter=1000, solver=liblinear, tol=0.0001;, score=0.781 total time=   0.1s\n",
            "[CV 1/5] END C=1291.5496650148827, max_iter=1000, solver=sag, tol=0.01;, score=0.842 total time=   0.1s\n",
            "[CV 2/5] END C=1291.5496650148827, max_iter=1000, solver=sag, tol=0.01;, score=0.850 total time=   0.1s\n",
            "[CV 3/5] END C=1291.5496650148827, max_iter=1000, solver=sag, tol=0.01;, score=0.804 total time=   0.1s\n",
            "[CV 4/5] END C=1291.5496650148827, max_iter=1000, solver=sag, tol=0.01;, score=0.800 total time=   0.1s\n",
            "[CV 5/5] END C=1291.5496650148827, max_iter=1000, solver=sag, tol=0.01;, score=0.785 total time=   0.1s\n",
            "[CV 1/5] END C=1291.5496650148827, max_iter=1000, solver=sag, tol=0.001;, score=0.842 total time=   0.1s\n",
            "[CV 2/5] END C=1291.5496650148827, max_iter=1000, solver=sag, tol=0.001;, score=0.846 total time=   0.1s\n",
            "[CV 3/5] END C=1291.5496650148827, max_iter=1000, solver=sag, tol=0.001;, score=0.804 total time=   0.1s\n",
            "[CV 4/5] END C=1291.5496650148827, max_iter=1000, solver=sag, tol=0.001;, score=0.796 total time=   0.1s\n",
            "[CV 5/5] END C=1291.5496650148827, max_iter=1000, solver=sag, tol=0.001;, score=0.781 total time=   0.1s\n",
            "[CV 1/5] END C=1291.5496650148827, max_iter=1000, solver=sag, tol=0.0001;, score=0.842 total time=   0.2s\n",
            "[CV 2/5] END C=1291.5496650148827, max_iter=1000, solver=sag, tol=0.0001;, score=0.850 total time=   0.2s\n",
            "[CV 3/5] END C=1291.5496650148827, max_iter=1000, solver=sag, tol=0.0001;, score=0.804 total time=   0.2s\n",
            "[CV 4/5] END C=1291.5496650148827, max_iter=1000, solver=sag, tol=0.0001;, score=0.792 total time=   0.2s\n",
            "[CV 5/5] END C=1291.5496650148827, max_iter=1000, solver=sag, tol=0.0001;, score=0.781 total time=   0.2s\n",
            "[CV 1/5] END C=1291.5496650148827, max_iter=1000, solver=saga, tol=0.01;, score=0.842 total time=   0.1s\n",
            "[CV 2/5] END C=1291.5496650148827, max_iter=1000, solver=saga, tol=0.01;, score=0.850 total time=   0.1s\n",
            "[CV 3/5] END C=1291.5496650148827, max_iter=1000, solver=saga, tol=0.01;, score=0.804 total time=   0.1s\n",
            "[CV 4/5] END C=1291.5496650148827, max_iter=1000, solver=saga, tol=0.01;, score=0.796 total time=   0.1s\n",
            "[CV 5/5] END C=1291.5496650148827, max_iter=1000, solver=saga, tol=0.01;, score=0.781 total time=   0.1s\n",
            "[CV 1/5] END C=1291.5496650148827, max_iter=1000, solver=saga, tol=0.001;, score=0.842 total time=   0.2s\n",
            "[CV 2/5] END C=1291.5496650148827, max_iter=1000, solver=saga, tol=0.001;, score=0.850 total time=   0.1s\n",
            "[CV 3/5] END C=1291.5496650148827, max_iter=1000, solver=saga, tol=0.001;, score=0.804 total time=   0.1s\n",
            "[CV 4/5] END C=1291.5496650148827, max_iter=1000, solver=saga, tol=0.001;, score=0.792 total time=   0.1s\n",
            "[CV 5/5] END C=1291.5496650148827, max_iter=1000, solver=saga, tol=0.001;, score=0.781 total time=   0.1s\n",
            "[CV 1/5] END C=1291.5496650148827, max_iter=1000, solver=saga, tol=0.0001;, score=0.842 total time=   0.2s\n",
            "[CV 2/5] END C=1291.5496650148827, max_iter=1000, solver=saga, tol=0.0001;, score=0.850 total time=   0.2s\n",
            "[CV 3/5] END C=1291.5496650148827, max_iter=1000, solver=saga, tol=0.0001;, score=0.804 total time=   0.2s\n",
            "[CV 4/5] END C=1291.5496650148827, max_iter=1000, solver=saga, tol=0.0001;, score=0.792 total time=   0.2s\n",
            "[CV 5/5] END C=1291.5496650148827, max_iter=1000, solver=saga, tol=0.0001;, score=0.781 total time=   0.2s\n",
            "[CV 1/5] END C=1291.5496650148827, max_iter=10000, solver=newton-cg, tol=0.01;, score=0.842 total time=   0.1s\n",
            "[CV 2/5] END C=1291.5496650148827, max_iter=10000, solver=newton-cg, tol=0.01;, score=0.850 total time=   0.1s\n",
            "[CV 3/5] END C=1291.5496650148827, max_iter=10000, solver=newton-cg, tol=0.01;, score=0.804 total time=   0.1s\n",
            "[CV 4/5] END C=1291.5496650148827, max_iter=10000, solver=newton-cg, tol=0.01;, score=0.792 total time=   0.1s\n",
            "[CV 5/5] END C=1291.5496650148827, max_iter=10000, solver=newton-cg, tol=0.01;, score=0.781 total time=   0.1s\n",
            "[CV 1/5] END C=1291.5496650148827, max_iter=10000, solver=newton-cg, tol=0.001;, score=0.842 total time=   0.1s\n",
            "[CV 2/5] END C=1291.5496650148827, max_iter=10000, solver=newton-cg, tol=0.001;, score=0.850 total time=   0.1s\n",
            "[CV 3/5] END C=1291.5496650148827, max_iter=10000, solver=newton-cg, tol=0.001;, score=0.804 total time=   0.1s\n",
            "[CV 4/5] END C=1291.5496650148827, max_iter=10000, solver=newton-cg, tol=0.001;, score=0.792 total time=   0.1s\n",
            "[CV 5/5] END C=1291.5496650148827, max_iter=10000, solver=newton-cg, tol=0.001;, score=0.781 total time=   0.1s\n",
            "[CV 1/5] END C=1291.5496650148827, max_iter=10000, solver=newton-cg, tol=0.0001;, score=0.842 total time=   0.1s\n",
            "[CV 2/5] END C=1291.5496650148827, max_iter=10000, solver=newton-cg, tol=0.0001;, score=0.850 total time=   0.1s\n",
            "[CV 3/5] END C=1291.5496650148827, max_iter=10000, solver=newton-cg, tol=0.0001;, score=0.804 total time=   0.1s\n",
            "[CV 4/5] END C=1291.5496650148827, max_iter=10000, solver=newton-cg, tol=0.0001;, score=0.792 total time=   0.1s\n",
            "[CV 5/5] END C=1291.5496650148827, max_iter=10000, solver=newton-cg, tol=0.0001;, score=0.781 total time=   0.1s\n",
            "[CV 1/5] END C=1291.5496650148827, max_iter=10000, solver=lbfgs, tol=0.01;, score=0.842 total time=   0.1s\n",
            "[CV 2/5] END C=1291.5496650148827, max_iter=10000, solver=lbfgs, tol=0.01;, score=0.850 total time=   0.1s\n",
            "[CV 3/5] END C=1291.5496650148827, max_iter=10000, solver=lbfgs, tol=0.01;, score=0.804 total time=   0.1s\n",
            "[CV 4/5] END C=1291.5496650148827, max_iter=10000, solver=lbfgs, tol=0.01;, score=0.792 total time=   0.1s\n",
            "[CV 5/5] END C=1291.5496650148827, max_iter=10000, solver=lbfgs, tol=0.01;, score=0.781 total time=   0.1s\n",
            "[CV 1/5] END C=1291.5496650148827, max_iter=10000, solver=lbfgs, tol=0.001;, score=0.842 total time=   0.1s\n",
            "[CV 2/5] END C=1291.5496650148827, max_iter=10000, solver=lbfgs, tol=0.001;, score=0.850 total time=   0.1s\n",
            "[CV 3/5] END C=1291.5496650148827, max_iter=10000, solver=lbfgs, tol=0.001;, score=0.804 total time=   0.1s\n",
            "[CV 4/5] END C=1291.5496650148827, max_iter=10000, solver=lbfgs, tol=0.001;, score=0.792 total time=   0.1s\n",
            "[CV 5/5] END C=1291.5496650148827, max_iter=10000, solver=lbfgs, tol=0.001;, score=0.781 total time=   0.1s\n",
            "[CV 1/5] END C=1291.5496650148827, max_iter=10000, solver=lbfgs, tol=0.0001;, score=0.842 total time=   0.1s\n",
            "[CV 2/5] END C=1291.5496650148827, max_iter=10000, solver=lbfgs, tol=0.0001;, score=0.850 total time=   0.1s\n",
            "[CV 3/5] END C=1291.5496650148827, max_iter=10000, solver=lbfgs, tol=0.0001;, score=0.804 total time=   0.1s\n",
            "[CV 4/5] END C=1291.5496650148827, max_iter=10000, solver=lbfgs, tol=0.0001;, score=0.792 total time=   0.1s\n",
            "[CV 5/5] END C=1291.5496650148827, max_iter=10000, solver=lbfgs, tol=0.0001;, score=0.781 total time=   0.1s\n",
            "[CV 1/5] END C=1291.5496650148827, max_iter=10000, solver=liblinear, tol=0.01;, score=0.842 total time=   0.1s\n",
            "[CV 2/5] END C=1291.5496650148827, max_iter=10000, solver=liblinear, tol=0.01;, score=0.850 total time=   0.1s\n",
            "[CV 3/5] END C=1291.5496650148827, max_iter=10000, solver=liblinear, tol=0.01;, score=0.804 total time=   0.1s\n",
            "[CV 4/5] END C=1291.5496650148827, max_iter=10000, solver=liblinear, tol=0.01;, score=0.796 total time=   0.0s\n",
            "[CV 5/5] END C=1291.5496650148827, max_iter=10000, solver=liblinear, tol=0.01;, score=0.781 total time=   0.1s\n",
            "[CV 1/5] END C=1291.5496650148827, max_iter=10000, solver=liblinear, tol=0.001;, score=0.842 total time=   0.1s\n",
            "[CV 2/5] END C=1291.5496650148827, max_iter=10000, solver=liblinear, tol=0.001;, score=0.850 total time=   0.1s\n",
            "[CV 3/5] END C=1291.5496650148827, max_iter=10000, solver=liblinear, tol=0.001;, score=0.804 total time=   0.1s\n",
            "[CV 4/5] END C=1291.5496650148827, max_iter=10000, solver=liblinear, tol=0.001;, score=0.796 total time=   0.1s\n",
            "[CV 5/5] END C=1291.5496650148827, max_iter=10000, solver=liblinear, tol=0.001;, score=0.781 total time=   0.1s\n",
            "[CV 1/5] END C=1291.5496650148827, max_iter=10000, solver=liblinear, tol=0.0001;, score=0.842 total time=   0.1s\n",
            "[CV 2/5] END C=1291.5496650148827, max_iter=10000, solver=liblinear, tol=0.0001;, score=0.850 total time=   0.1s\n",
            "[CV 3/5] END C=1291.5496650148827, max_iter=10000, solver=liblinear, tol=0.0001;, score=0.804 total time=   0.1s\n",
            "[CV 4/5] END C=1291.5496650148827, max_iter=10000, solver=liblinear, tol=0.0001;, score=0.792 total time=   0.1s\n",
            "[CV 5/5] END C=1291.5496650148827, max_iter=10000, solver=liblinear, tol=0.0001;, score=0.781 total time=   0.1s\n",
            "[CV 1/5] END C=1291.5496650148827, max_iter=10000, solver=sag, tol=0.01;, score=0.842 total time=   0.1s\n",
            "[CV 2/5] END C=1291.5496650148827, max_iter=10000, solver=sag, tol=0.01;, score=0.850 total time=   0.1s\n",
            "[CV 3/5] END C=1291.5496650148827, max_iter=10000, solver=sag, tol=0.01;, score=0.804 total time=   0.1s\n",
            "[CV 4/5] END C=1291.5496650148827, max_iter=10000, solver=sag, tol=0.01;, score=0.800 total time=   0.1s\n",
            "[CV 5/5] END C=1291.5496650148827, max_iter=10000, solver=sag, tol=0.01;, score=0.785 total time=   0.1s\n",
            "[CV 1/5] END C=1291.5496650148827, max_iter=10000, solver=sag, tol=0.001;, score=0.842 total time=   0.1s\n",
            "[CV 2/5] END C=1291.5496650148827, max_iter=10000, solver=sag, tol=0.001;, score=0.846 total time=   0.1s\n",
            "[CV 3/5] END C=1291.5496650148827, max_iter=10000, solver=sag, tol=0.001;, score=0.804 total time=   0.1s\n",
            "[CV 4/5] END C=1291.5496650148827, max_iter=10000, solver=sag, tol=0.001;, score=0.796 total time=   0.1s\n",
            "[CV 5/5] END C=1291.5496650148827, max_iter=10000, solver=sag, tol=0.001;, score=0.781 total time=   0.1s\n",
            "[CV 1/5] END C=1291.5496650148827, max_iter=10000, solver=sag, tol=0.0001;, score=0.842 total time=   0.2s\n",
            "[CV 2/5] END C=1291.5496650148827, max_iter=10000, solver=sag, tol=0.0001;, score=0.850 total time=   0.2s\n",
            "[CV 3/5] END C=1291.5496650148827, max_iter=10000, solver=sag, tol=0.0001;, score=0.804 total time=   0.2s\n",
            "[CV 4/5] END C=1291.5496650148827, max_iter=10000, solver=sag, tol=0.0001;, score=0.792 total time=   0.2s\n",
            "[CV 5/5] END C=1291.5496650148827, max_iter=10000, solver=sag, tol=0.0001;, score=0.781 total time=   0.2s\n",
            "[CV 1/5] END C=1291.5496650148827, max_iter=10000, solver=saga, tol=0.01;, score=0.842 total time=   0.1s\n",
            "[CV 2/5] END C=1291.5496650148827, max_iter=10000, solver=saga, tol=0.01;, score=0.850 total time=   0.1s\n",
            "[CV 3/5] END C=1291.5496650148827, max_iter=10000, solver=saga, tol=0.01;, score=0.804 total time=   0.1s\n",
            "[CV 4/5] END C=1291.5496650148827, max_iter=10000, solver=saga, tol=0.01;, score=0.796 total time=   0.1s\n",
            "[CV 5/5] END C=1291.5496650148827, max_iter=10000, solver=saga, tol=0.01;, score=0.781 total time=   0.1s\n",
            "[CV 1/5] END C=1291.5496650148827, max_iter=10000, solver=saga, tol=0.001;, score=0.842 total time=   0.2s\n",
            "[CV 2/5] END C=1291.5496650148827, max_iter=10000, solver=saga, tol=0.001;, score=0.850 total time=   0.1s\n",
            "[CV 3/5] END C=1291.5496650148827, max_iter=10000, solver=saga, tol=0.001;, score=0.804 total time=   0.1s\n",
            "[CV 4/5] END C=1291.5496650148827, max_iter=10000, solver=saga, tol=0.001;, score=0.792 total time=   0.1s\n",
            "[CV 5/5] END C=1291.5496650148827, max_iter=10000, solver=saga, tol=0.001;, score=0.781 total time=   0.1s\n",
            "[CV 1/5] END C=1291.5496650148827, max_iter=10000, solver=saga, tol=0.0001;, score=0.842 total time=   0.2s\n",
            "[CV 2/5] END C=1291.5496650148827, max_iter=10000, solver=saga, tol=0.0001;, score=0.850 total time=   0.2s\n",
            "[CV 3/5] END C=1291.5496650148827, max_iter=10000, solver=saga, tol=0.0001;, score=0.804 total time=   0.2s\n",
            "[CV 4/5] END C=1291.5496650148827, max_iter=10000, solver=saga, tol=0.0001;, score=0.792 total time=   0.2s\n",
            "[CV 5/5] END C=1291.5496650148827, max_iter=10000, solver=saga, tol=0.0001;, score=0.781 total time=   0.2s\n",
            "[CV 1/5] END C=10000.0, max_iter=1000, solver=newton-cg, tol=0.01;, score=0.842 total time=   0.1s\n",
            "[CV 2/5] END C=10000.0, max_iter=1000, solver=newton-cg, tol=0.01;, score=0.850 total time=   0.1s\n",
            "[CV 3/5] END C=10000.0, max_iter=1000, solver=newton-cg, tol=0.01;, score=0.804 total time=   0.1s\n",
            "[CV 4/5] END C=10000.0, max_iter=1000, solver=newton-cg, tol=0.01;, score=0.792 total time=   0.1s\n",
            "[CV 5/5] END C=10000.0, max_iter=1000, solver=newton-cg, tol=0.01;, score=0.781 total time=   0.1s\n",
            "[CV 1/5] END C=10000.0, max_iter=1000, solver=newton-cg, tol=0.001;, score=0.842 total time=   0.1s\n",
            "[CV 2/5] END C=10000.0, max_iter=1000, solver=newton-cg, tol=0.001;, score=0.850 total time=   0.1s\n",
            "[CV 3/5] END C=10000.0, max_iter=1000, solver=newton-cg, tol=0.001;, score=0.804 total time=   0.1s\n",
            "[CV 4/5] END C=10000.0, max_iter=1000, solver=newton-cg, tol=0.001;, score=0.792 total time=   0.1s\n",
            "[CV 5/5] END C=10000.0, max_iter=1000, solver=newton-cg, tol=0.001;, score=0.781 total time=   0.1s\n",
            "[CV 1/5] END C=10000.0, max_iter=1000, solver=newton-cg, tol=0.0001;, score=0.842 total time=   0.1s\n",
            "[CV 2/5] END C=10000.0, max_iter=1000, solver=newton-cg, tol=0.0001;, score=0.850 total time=   0.1s\n",
            "[CV 3/5] END C=10000.0, max_iter=1000, solver=newton-cg, tol=0.0001;, score=0.804 total time=   0.1s\n",
            "[CV 4/5] END C=10000.0, max_iter=1000, solver=newton-cg, tol=0.0001;, score=0.792 total time=   0.1s\n",
            "[CV 5/5] END C=10000.0, max_iter=1000, solver=newton-cg, tol=0.0001;, score=0.781 total time=   0.1s\n",
            "[CV 1/5] END C=10000.0, max_iter=1000, solver=lbfgs, tol=0.01;, score=0.842 total time=   0.1s\n",
            "[CV 2/5] END C=10000.0, max_iter=1000, solver=lbfgs, tol=0.01;, score=0.850 total time=   0.1s\n",
            "[CV 3/5] END C=10000.0, max_iter=1000, solver=lbfgs, tol=0.01;, score=0.804 total time=   0.1s\n",
            "[CV 4/5] END C=10000.0, max_iter=1000, solver=lbfgs, tol=0.01;, score=0.792 total time=   0.1s\n",
            "[CV 5/5] END C=10000.0, max_iter=1000, solver=lbfgs, tol=0.01;, score=0.781 total time=   0.1s\n",
            "[CV 1/5] END C=10000.0, max_iter=1000, solver=lbfgs, tol=0.001;, score=0.842 total time=   0.1s\n",
            "[CV 2/5] END C=10000.0, max_iter=1000, solver=lbfgs, tol=0.001;, score=0.850 total time=   0.1s\n",
            "[CV 3/5] END C=10000.0, max_iter=1000, solver=lbfgs, tol=0.001;, score=0.804 total time=   0.1s\n",
            "[CV 4/5] END C=10000.0, max_iter=1000, solver=lbfgs, tol=0.001;, score=0.792 total time=   0.1s\n",
            "[CV 5/5] END C=10000.0, max_iter=1000, solver=lbfgs, tol=0.001;, score=0.781 total time=   0.1s\n",
            "[CV 1/5] END C=10000.0, max_iter=1000, solver=lbfgs, tol=0.0001;, score=0.842 total time=   0.1s\n",
            "[CV 2/5] END C=10000.0, max_iter=1000, solver=lbfgs, tol=0.0001;, score=0.850 total time=   0.1s\n",
            "[CV 3/5] END C=10000.0, max_iter=1000, solver=lbfgs, tol=0.0001;, score=0.804 total time=   0.1s\n",
            "[CV 4/5] END C=10000.0, max_iter=1000, solver=lbfgs, tol=0.0001;, score=0.792 total time=   0.1s\n",
            "[CV 5/5] END C=10000.0, max_iter=1000, solver=lbfgs, tol=0.0001;, score=0.781 total time=   0.1s\n",
            "[CV 1/5] END C=10000.0, max_iter=1000, solver=liblinear, tol=0.01;, score=0.842 total time=   0.1s\n",
            "[CV 2/5] END C=10000.0, max_iter=1000, solver=liblinear, tol=0.01;, score=0.850 total time=   0.1s\n",
            "[CV 3/5] END C=10000.0, max_iter=1000, solver=liblinear, tol=0.01;, score=0.804 total time=   0.1s\n",
            "[CV 4/5] END C=10000.0, max_iter=1000, solver=liblinear, tol=0.01;, score=0.796 total time=   0.1s\n",
            "[CV 5/5] END C=10000.0, max_iter=1000, solver=liblinear, tol=0.01;, score=0.781 total time=   0.1s\n",
            "[CV 1/5] END C=10000.0, max_iter=1000, solver=liblinear, tol=0.001;, score=0.842 total time=   0.1s\n",
            "[CV 2/5] END C=10000.0, max_iter=1000, solver=liblinear, tol=0.001;, score=0.850 total time=   0.1s\n",
            "[CV 3/5] END C=10000.0, max_iter=1000, solver=liblinear, tol=0.001;, score=0.804 total time=   0.1s\n",
            "[CV 4/5] END C=10000.0, max_iter=1000, solver=liblinear, tol=0.001;, score=0.796 total time=   0.1s\n",
            "[CV 5/5] END C=10000.0, max_iter=1000, solver=liblinear, tol=0.001;, score=0.781 total time=   0.1s\n",
            "[CV 1/5] END C=10000.0, max_iter=1000, solver=liblinear, tol=0.0001;, score=0.842 total time=   0.1s\n",
            "[CV 2/5] END C=10000.0, max_iter=1000, solver=liblinear, tol=0.0001;, score=0.850 total time=   0.1s\n",
            "[CV 3/5] END C=10000.0, max_iter=1000, solver=liblinear, tol=0.0001;, score=0.804 total time=   0.1s\n",
            "[CV 4/5] END C=10000.0, max_iter=1000, solver=liblinear, tol=0.0001;, score=0.792 total time=   0.1s\n",
            "[CV 5/5] END C=10000.0, max_iter=1000, solver=liblinear, tol=0.0001;, score=0.781 total time=   0.1s\n",
            "[CV 1/5] END C=10000.0, max_iter=1000, solver=sag, tol=0.01;, score=0.842 total time=   0.1s\n",
            "[CV 2/5] END C=10000.0, max_iter=1000, solver=sag, tol=0.01;, score=0.850 total time=   0.1s\n",
            "[CV 3/5] END C=10000.0, max_iter=1000, solver=sag, tol=0.01;, score=0.804 total time=   0.1s\n",
            "[CV 4/5] END C=10000.0, max_iter=1000, solver=sag, tol=0.01;, score=0.800 total time=   0.1s\n",
            "[CV 5/5] END C=10000.0, max_iter=1000, solver=sag, tol=0.01;, score=0.785 total time=   0.1s\n",
            "[CV 1/5] END C=10000.0, max_iter=1000, solver=sag, tol=0.001;, score=0.842 total time=   0.1s\n",
            "[CV 2/5] END C=10000.0, max_iter=1000, solver=sag, tol=0.001;, score=0.846 total time=   0.1s\n",
            "[CV 3/5] END C=10000.0, max_iter=1000, solver=sag, tol=0.001;, score=0.804 total time=   0.1s\n",
            "[CV 4/5] END C=10000.0, max_iter=1000, solver=sag, tol=0.001;, score=0.796 total time=   0.1s\n",
            "[CV 5/5] END C=10000.0, max_iter=1000, solver=sag, tol=0.001;, score=0.781 total time=   0.1s\n",
            "[CV 1/5] END C=10000.0, max_iter=1000, solver=sag, tol=0.0001;, score=0.842 total time=   0.2s\n",
            "[CV 2/5] END C=10000.0, max_iter=1000, solver=sag, tol=0.0001;, score=0.850 total time=   0.2s\n",
            "[CV 3/5] END C=10000.0, max_iter=1000, solver=sag, tol=0.0001;, score=0.804 total time=   0.2s\n",
            "[CV 4/5] END C=10000.0, max_iter=1000, solver=sag, tol=0.0001;, score=0.792 total time=   0.2s\n",
            "[CV 5/5] END C=10000.0, max_iter=1000, solver=sag, tol=0.0001;, score=0.781 total time=   0.2s\n",
            "[CV 1/5] END C=10000.0, max_iter=1000, solver=saga, tol=0.01;, score=0.842 total time=   0.1s\n",
            "[CV 2/5] END C=10000.0, max_iter=1000, solver=saga, tol=0.01;, score=0.850 total time=   0.1s\n",
            "[CV 3/5] END C=10000.0, max_iter=1000, solver=saga, tol=0.01;, score=0.804 total time=   0.1s\n",
            "[CV 4/5] END C=10000.0, max_iter=1000, solver=saga, tol=0.01;, score=0.796 total time=   0.1s\n",
            "[CV 5/5] END C=10000.0, max_iter=1000, solver=saga, tol=0.01;, score=0.781 total time=   0.1s\n",
            "[CV 1/5] END C=10000.0, max_iter=1000, solver=saga, tol=0.001;, score=0.842 total time=   0.2s\n",
            "[CV 2/5] END C=10000.0, max_iter=1000, solver=saga, tol=0.001;, score=0.850 total time=   0.1s\n",
            "[CV 3/5] END C=10000.0, max_iter=1000, solver=saga, tol=0.001;, score=0.804 total time=   0.1s\n",
            "[CV 4/5] END C=10000.0, max_iter=1000, solver=saga, tol=0.001;, score=0.792 total time=   0.1s\n",
            "[CV 5/5] END C=10000.0, max_iter=1000, solver=saga, tol=0.001;, score=0.781 total time=   0.1s\n",
            "[CV 1/5] END C=10000.0, max_iter=1000, solver=saga, tol=0.0001;, score=0.842 total time=   0.2s\n",
            "[CV 2/5] END C=10000.0, max_iter=1000, solver=saga, tol=0.0001;, score=0.850 total time=   0.2s\n",
            "[CV 3/5] END C=10000.0, max_iter=1000, solver=saga, tol=0.0001;, score=0.804 total time=   0.2s\n",
            "[CV 4/5] END C=10000.0, max_iter=1000, solver=saga, tol=0.0001;, score=0.792 total time=   0.2s\n",
            "[CV 5/5] END C=10000.0, max_iter=1000, solver=saga, tol=0.0001;, score=0.781 total time=   0.2s\n",
            "[CV 1/5] END C=10000.0, max_iter=10000, solver=newton-cg, tol=0.01;, score=0.842 total time=   0.1s\n",
            "[CV 2/5] END C=10000.0, max_iter=10000, solver=newton-cg, tol=0.01;, score=0.850 total time=   0.1s\n",
            "[CV 3/5] END C=10000.0, max_iter=10000, solver=newton-cg, tol=0.01;, score=0.804 total time=   0.1s\n",
            "[CV 4/5] END C=10000.0, max_iter=10000, solver=newton-cg, tol=0.01;, score=0.792 total time=   0.1s\n",
            "[CV 5/5] END C=10000.0, max_iter=10000, solver=newton-cg, tol=0.01;, score=0.781 total time=   0.1s\n",
            "[CV 1/5] END C=10000.0, max_iter=10000, solver=newton-cg, tol=0.001;, score=0.842 total time=   0.1s\n",
            "[CV 2/5] END C=10000.0, max_iter=10000, solver=newton-cg, tol=0.001;, score=0.850 total time=   0.1s\n",
            "[CV 3/5] END C=10000.0, max_iter=10000, solver=newton-cg, tol=0.001;, score=0.804 total time=   0.1s\n",
            "[CV 4/5] END C=10000.0, max_iter=10000, solver=newton-cg, tol=0.001;, score=0.792 total time=   0.1s\n",
            "[CV 5/5] END C=10000.0, max_iter=10000, solver=newton-cg, tol=0.001;, score=0.781 total time=   0.1s\n",
            "[CV 1/5] END C=10000.0, max_iter=10000, solver=newton-cg, tol=0.0001;, score=0.842 total time=   0.1s\n",
            "[CV 2/5] END C=10000.0, max_iter=10000, solver=newton-cg, tol=0.0001;, score=0.850 total time=   0.1s\n",
            "[CV 3/5] END C=10000.0, max_iter=10000, solver=newton-cg, tol=0.0001;, score=0.804 total time=   0.1s\n",
            "[CV 4/5] END C=10000.0, max_iter=10000, solver=newton-cg, tol=0.0001;, score=0.792 total time=   0.1s\n",
            "[CV 5/5] END C=10000.0, max_iter=10000, solver=newton-cg, tol=0.0001;, score=0.781 total time=   0.1s\n",
            "[CV 1/5] END C=10000.0, max_iter=10000, solver=lbfgs, tol=0.01;, score=0.842 total time=   0.1s\n",
            "[CV 2/5] END C=10000.0, max_iter=10000, solver=lbfgs, tol=0.01;, score=0.850 total time=   0.1s\n",
            "[CV 3/5] END C=10000.0, max_iter=10000, solver=lbfgs, tol=0.01;, score=0.804 total time=   0.1s\n",
            "[CV 4/5] END C=10000.0, max_iter=10000, solver=lbfgs, tol=0.01;, score=0.792 total time=   0.1s\n",
            "[CV 5/5] END C=10000.0, max_iter=10000, solver=lbfgs, tol=0.01;, score=0.781 total time=   0.1s\n",
            "[CV 1/5] END C=10000.0, max_iter=10000, solver=lbfgs, tol=0.001;, score=0.842 total time=   0.1s\n",
            "[CV 2/5] END C=10000.0, max_iter=10000, solver=lbfgs, tol=0.001;, score=0.850 total time=   0.1s\n",
            "[CV 3/5] END C=10000.0, max_iter=10000, solver=lbfgs, tol=0.001;, score=0.804 total time=   0.1s\n",
            "[CV 4/5] END C=10000.0, max_iter=10000, solver=lbfgs, tol=0.001;, score=0.792 total time=   0.1s\n",
            "[CV 5/5] END C=10000.0, max_iter=10000, solver=lbfgs, tol=0.001;, score=0.781 total time=   0.1s\n",
            "[CV 1/5] END C=10000.0, max_iter=10000, solver=lbfgs, tol=0.0001;, score=0.842 total time=   0.1s\n",
            "[CV 2/5] END C=10000.0, max_iter=10000, solver=lbfgs, tol=0.0001;, score=0.850 total time=   0.1s\n",
            "[CV 3/5] END C=10000.0, max_iter=10000, solver=lbfgs, tol=0.0001;, score=0.804 total time=   0.1s\n",
            "[CV 4/5] END C=10000.0, max_iter=10000, solver=lbfgs, tol=0.0001;, score=0.792 total time=   0.1s\n",
            "[CV 5/5] END C=10000.0, max_iter=10000, solver=lbfgs, tol=0.0001;, score=0.781 total time=   0.1s\n",
            "[CV 1/5] END C=10000.0, max_iter=10000, solver=liblinear, tol=0.01;, score=0.842 total time=   0.1s\n",
            "[CV 2/5] END C=10000.0, max_iter=10000, solver=liblinear, tol=0.01;, score=0.850 total time=   0.1s\n",
            "[CV 3/5] END C=10000.0, max_iter=10000, solver=liblinear, tol=0.01;, score=0.804 total time=   0.1s\n",
            "[CV 4/5] END C=10000.0, max_iter=10000, solver=liblinear, tol=0.01;, score=0.796 total time=   0.1s\n",
            "[CV 5/5] END C=10000.0, max_iter=10000, solver=liblinear, tol=0.01;, score=0.781 total time=   0.1s\n",
            "[CV 1/5] END C=10000.0, max_iter=10000, solver=liblinear, tol=0.001;, score=0.842 total time=   0.1s\n",
            "[CV 2/5] END C=10000.0, max_iter=10000, solver=liblinear, tol=0.001;, score=0.850 total time=   0.1s\n",
            "[CV 3/5] END C=10000.0, max_iter=10000, solver=liblinear, tol=0.001;, score=0.804 total time=   0.1s\n",
            "[CV 4/5] END C=10000.0, max_iter=10000, solver=liblinear, tol=0.001;, score=0.796 total time=   0.1s\n",
            "[CV 5/5] END C=10000.0, max_iter=10000, solver=liblinear, tol=0.001;, score=0.781 total time=   0.1s\n",
            "[CV 1/5] END C=10000.0, max_iter=10000, solver=liblinear, tol=0.0001;, score=0.842 total time=   0.1s\n",
            "[CV 2/5] END C=10000.0, max_iter=10000, solver=liblinear, tol=0.0001;, score=0.850 total time=   0.1s\n",
            "[CV 3/5] END C=10000.0, max_iter=10000, solver=liblinear, tol=0.0001;, score=0.804 total time=   0.1s\n",
            "[CV 4/5] END C=10000.0, max_iter=10000, solver=liblinear, tol=0.0001;, score=0.792 total time=   0.1s\n",
            "[CV 5/5] END C=10000.0, max_iter=10000, solver=liblinear, tol=0.0001;, score=0.781 total time=   0.1s\n",
            "[CV 1/5] END C=10000.0, max_iter=10000, solver=sag, tol=0.01;, score=0.842 total time=   0.1s\n",
            "[CV 2/5] END C=10000.0, max_iter=10000, solver=sag, tol=0.01;, score=0.850 total time=   0.1s\n",
            "[CV 3/5] END C=10000.0, max_iter=10000, solver=sag, tol=0.01;, score=0.804 total time=   0.1s\n",
            "[CV 4/5] END C=10000.0, max_iter=10000, solver=sag, tol=0.01;, score=0.800 total time=   0.1s\n",
            "[CV 5/5] END C=10000.0, max_iter=10000, solver=sag, tol=0.01;, score=0.785 total time=   0.1s\n",
            "[CV 1/5] END C=10000.0, max_iter=10000, solver=sag, tol=0.001;, score=0.842 total time=   0.2s\n",
            "[CV 2/5] END C=10000.0, max_iter=10000, solver=sag, tol=0.001;, score=0.846 total time=   0.1s\n",
            "[CV 3/5] END C=10000.0, max_iter=10000, solver=sag, tol=0.001;, score=0.804 total time=   0.2s\n",
            "[CV 4/5] END C=10000.0, max_iter=10000, solver=sag, tol=0.001;, score=0.796 total time=   0.1s\n",
            "[CV 5/5] END C=10000.0, max_iter=10000, solver=sag, tol=0.001;, score=0.781 total time=   0.1s\n",
            "[CV 1/5] END C=10000.0, max_iter=10000, solver=sag, tol=0.0001;, score=0.842 total time=   0.2s\n",
            "[CV 2/5] END C=10000.0, max_iter=10000, solver=sag, tol=0.0001;, score=0.850 total time=   0.2s\n",
            "[CV 3/5] END C=10000.0, max_iter=10000, solver=sag, tol=0.0001;, score=0.804 total time=   0.2s\n",
            "[CV 4/5] END C=10000.0, max_iter=10000, solver=sag, tol=0.0001;, score=0.792 total time=   0.2s\n",
            "[CV 5/5] END C=10000.0, max_iter=10000, solver=sag, tol=0.0001;, score=0.781 total time=   0.2s\n",
            "[CV 1/5] END C=10000.0, max_iter=10000, solver=saga, tol=0.01;, score=0.842 total time=   0.1s\n",
            "[CV 2/5] END C=10000.0, max_iter=10000, solver=saga, tol=0.01;, score=0.850 total time=   0.1s\n",
            "[CV 3/5] END C=10000.0, max_iter=10000, solver=saga, tol=0.01;, score=0.804 total time=   0.1s\n",
            "[CV 4/5] END C=10000.0, max_iter=10000, solver=saga, tol=0.01;, score=0.796 total time=   0.1s\n",
            "[CV 5/5] END C=10000.0, max_iter=10000, solver=saga, tol=0.01;, score=0.781 total time=   0.1s\n",
            "[CV 1/5] END C=10000.0, max_iter=10000, solver=saga, tol=0.001;, score=0.842 total time=   0.2s\n",
            "[CV 2/5] END C=10000.0, max_iter=10000, solver=saga, tol=0.001;, score=0.850 total time=   0.1s\n",
            "[CV 3/5] END C=10000.0, max_iter=10000, solver=saga, tol=0.001;, score=0.804 total time=   0.1s\n",
            "[CV 4/5] END C=10000.0, max_iter=10000, solver=saga, tol=0.001;, score=0.792 total time=   0.1s\n",
            "[CV 5/5] END C=10000.0, max_iter=10000, solver=saga, tol=0.001;, score=0.781 total time=   0.1s\n",
            "[CV 1/5] END C=10000.0, max_iter=10000, solver=saga, tol=0.0001;, score=0.842 total time=   0.2s\n",
            "[CV 2/5] END C=10000.0, max_iter=10000, solver=saga, tol=0.0001;, score=0.850 total time=   0.2s\n",
            "[CV 3/5] END C=10000.0, max_iter=10000, solver=saga, tol=0.0001;, score=0.804 total time=   0.2s\n",
            "[CV 4/5] END C=10000.0, max_iter=10000, solver=saga, tol=0.0001;, score=0.792 total time=   0.2s\n",
            "[CV 5/5] END C=10000.0, max_iter=10000, solver=saga, tol=0.0001;, score=0.781 total time=   0.2s\n"
          ]
        }
      ]
    },
    {
      "cell_type": "code",
      "metadata": {
        "colab": {
          "base_uri": "https://localhost:8080/"
        },
        "id": "5TATvMXma3-7",
        "outputId": "75ac529e-4dd4-4b7f-8b55-3ad48985a5f3"
      },
      "source": [
        "print('the time for algo execution is: {}'.format(end-start))"
      ],
      "execution_count": null,
      "outputs": [
        {
          "output_type": "stream",
          "name": "stdout",
          "text": [
            "the time for algo execution is: 131.82024574279785\n"
          ]
        }
      ]
    },
    {
      "cell_type": "code",
      "metadata": {
        "colab": {
          "base_uri": "https://localhost:8080/"
        },
        "id": "Slj3OeFCa8RS",
        "outputId": "4258388e-fd96-4364-92e9-7fbb4b216ca2"
      },
      "source": [
        "grid.best_params_"
      ],
      "execution_count": null,
      "outputs": [
        {
          "output_type": "execute_result",
          "data": {
            "text/plain": [
              "{'C': 0.0001, 'max_iter': 1000, 'solver': 'liblinear', 'tol': 0.01}"
            ]
          },
          "metadata": {},
          "execution_count": 99
        }
      ]
    },
    {
      "cell_type": "code",
      "metadata": {
        "colab": {
          "base_uri": "https://localhost:8080/"
        },
        "id": "3AZlHgaya_vU",
        "outputId": "4036b79a-73f4-40ec-e936-a6acc58ed676"
      },
      "source": [
        "grid.best_estimator_"
      ],
      "execution_count": null,
      "outputs": [
        {
          "output_type": "execute_result",
          "data": {
            "text/plain": [
              "LogisticRegression(C=0.0001, class_weight='balanced', max_iter=1000,\n",
              "                   random_state=1, solver='liblinear', tol=0.01)"
            ]
          },
          "metadata": {},
          "execution_count": 100
        }
      ]
    },
    {
      "cell_type": "code",
      "metadata": {
        "colab": {
          "base_uri": "https://localhost:8080/"
        },
        "id": "qss4ZAj8bDkH",
        "outputId": "7133930b-638d-4753-fe1a-02f1e2822d68"
      },
      "source": [
        "mod4 = LogisticRegression(C=0.0001, class_weight='balanced', max_iter=1000,\n",
        "                   random_state=1, solver='liblinear', tol=0.01)\n",
        "mod4.fit(x_train, y_train)"
      ],
      "execution_count": null,
      "outputs": [
        {
          "output_type": "execute_result",
          "data": {
            "text/plain": [
              "LogisticRegression(C=0.0001, class_weight='balanced', max_iter=1000,\n",
              "                   random_state=1, solver='liblinear', tol=0.01)"
            ]
          },
          "metadata": {},
          "execution_count": 101
        }
      ]
    },
    {
      "cell_type": "code",
      "metadata": {
        "colab": {
          "base_uri": "https://localhost:8080/"
        },
        "id": "PAQsE4GFbHU3",
        "outputId": "0b59179f-74ed-4040-b331-2d1cf6c7c93d"
      },
      "source": [
        "for idx, col_name in enumerate(x_train.columns):\n",
        "    print(\"The coefficient for {} is {}\".format(col_name, mod4.coef_[0][idx]))"
      ],
      "execution_count": null,
      "outputs": [
        {
          "output_type": "stream",
          "name": "stdout",
          "text": [
            "The coefficient for Tenure is -0.1294646004580145\n",
            "The coefficient for City_Tier is 0.03684324999583566\n",
            "The coefficient for CC_Contacted_LY is 0.03339604823417727\n",
            "The coefficient for Service_Score is 0.0014027980149265698\n",
            "The coefficient for Account_user_count is 0.042728505138889705\n",
            "The coefficient for CC_Agent_Score is 0.04133354926448947\n",
            "The coefficient for rev_per_month is 0.02422060315120402\n",
            "The coefficient for Complain_ly is 0.09385167083553203\n",
            "The coefficient for rev_growth_yoy is -0.010166929036919785\n",
            "The coefficient for coupon_used_for_payment is -0.0008420683894734738\n",
            "The coefficient for Day_Since_CC_connect is -0.05035735118828351\n",
            "The coefficient for cashback is -0.04455043257114499\n",
            "The coefficient for Payment_Credit Card is -0.0183964524730544\n",
            "The coefficient for Payment_Debit Card is -0.017124634118918174\n",
            "The coefficient for Payment_E wallet is 0.021238037735180845\n",
            "The coefficient for Payment_UPI is 0.005491512371408253\n",
            "The coefficient for Gender_Male is 0.009815700286360448\n",
            "The coefficient for account_segment_Regular is -0.014271414211234257\n",
            "The coefficient for account_segment_Regular Plus is 0.06806495156563509\n",
            "The coefficient for account_segment_Super is -0.048183629557400555\n",
            "The coefficient for account_segment_Super Plus is -0.027308926807585822\n",
            "The coefficient for Marital_Status_Married is -0.048614148329671404\n",
            "The coefficient for Marital_Status_Single is 0.06164772127745362\n",
            "The coefficient for Login_device_Mobile is -0.01747325827300894\n",
            "The coefficient for K_Means_clust is 0.029958885586165218\n"
          ]
        }
      ]
    },
    {
      "cell_type": "code",
      "metadata": {
        "colab": {
          "base_uri": "https://localhost:8080/"
        },
        "id": "bgGFWW2abJJY",
        "outputId": "36bb79ab-dc23-42fc-eb80-0260d26d6801"
      },
      "source": [
        "mod4.intercept_"
      ],
      "execution_count": null,
      "outputs": [
        {
          "output_type": "execute_result",
          "data": {
            "text/plain": [
              "array([-0.02322509])"
            ]
          },
          "metadata": {},
          "execution_count": 103
        }
      ]
    },
    {
      "cell_type": "code",
      "metadata": {
        "id": "U6s0XrHlbMgD"
      },
      "source": [
        "train_pred_mod4 = mod4.predict(x_train)\n",
        "test_pred_mod4 = mod4.predict(x_test)"
      ],
      "execution_count": null,
      "outputs": []
    },
    {
      "cell_type": "code",
      "metadata": {
        "colab": {
          "base_uri": "https://localhost:8080/"
        },
        "id": "aMPImTRcbNBm",
        "outputId": "db2cc001-7ff5-434a-c290-57c3e3061825"
      },
      "source": [
        "# training data\n",
        "print(classification_report(y_train, train_pred_mod4))"
      ],
      "execution_count": null,
      "outputs": [
        {
          "output_type": "stream",
          "name": "stdout",
          "text": [
            "              precision    recall  f1-score   support\n",
            "\n",
            "         0.0       0.96      0.60      0.74      6555\n",
            "         1.0       0.31      0.87      0.45      1327\n",
            "\n",
            "    accuracy                           0.65      7882\n",
            "   macro avg       0.63      0.74      0.60      7882\n",
            "weighted avg       0.85      0.65      0.69      7882\n",
            "\n"
          ]
        }
      ]
    },
    {
      "cell_type": "code",
      "metadata": {
        "colab": {
          "base_uri": "https://localhost:8080/"
        },
        "id": "XEK7D3bQbRzh",
        "outputId": "6db9d507-4c04-4a4e-f124-a4b007240f0e"
      },
      "source": [
        "# testing data\n",
        "print(classification_report(y_test, test_pred_mod4))"
      ],
      "execution_count": null,
      "outputs": [
        {
          "output_type": "stream",
          "name": "stdout",
          "text": [
            "              precision    recall  f1-score   support\n",
            "\n",
            "         0.0       0.95      0.60      0.74      2809\n",
            "         1.0       0.30      0.84      0.44       569\n",
            "\n",
            "    accuracy                           0.64      3378\n",
            "   macro avg       0.62      0.72      0.59      3378\n",
            "weighted avg       0.84      0.64      0.69      3378\n",
            "\n"
          ]
        }
      ]
    },
    {
      "cell_type": "code",
      "metadata": {
        "colab": {
          "base_uri": "https://localhost:8080/",
          "height": 312
        },
        "id": "AB5o_qC2bboV",
        "outputId": "696b2a52-1e5d-4df6-8d86-356977d00404"
      },
      "source": [
        "# training dataset\n",
        "sns.heatmap(confusion_matrix(y_train, train_pred_mod4), annot=True, cbar=False, fmt='d')\n",
        "plt.xlabel('predicted label')\n",
        "plt.ylabel('actual label')\n",
        "plt.title('confusion matrix for tuned Logistic Regression model on training data')"
      ],
      "execution_count": null,
      "outputs": [
        {
          "output_type": "execute_result",
          "data": {
            "text/plain": [
              "Text(0.5, 1.0, 'confusion matrix for tuned Logistic Regression model on training data')"
            ]
          },
          "metadata": {},
          "execution_count": 107
        },
        {
          "output_type": "display_data",
          "data": {
            "image/png": "[encoded data removed]",
            "text/plain": [
              "<Figure size 432x288 with 1 Axes>"
            ]
          },
          "metadata": {
            "needs_background": "light"
          }
        }
      ]
    },
    {
      "cell_type": "code",
      "metadata": {
        "colab": {
          "base_uri": "https://localhost:8080/",
          "height": 312
        },
        "id": "e9LZ016jbdri",
        "outputId": "596da194-2f54-49b3-feec-5732cef170eb"
      },
      "source": [
        "# testing dataset\n",
        "sns.heatmap(confusion_matrix(y_test, test_pred_mod4), annot=True, cbar=False, fmt='d')\n",
        "plt.xlabel('predicted label')\n",
        "plt.ylabel('actual label')\n",
        "plt.title('confusion matrix for tuned Logistic Regression model on testing data')"
      ],
      "execution_count": null,
      "outputs": [
        {
          "output_type": "execute_result",
          "data": {
            "text/plain": [
              "Text(0.5, 1.0, 'confusion matrix for tuned Logistic Regression model on testing data')"
            ]
          },
          "metadata": {},
          "execution_count": 108
        },
        {
          "output_type": "display_data",
          "data": {
            "image/png": "[encoded data removed]",
            "text/plain": [
              "<Figure size 432x288 with 1 Axes>"
            ]
          },
          "metadata": {
            "needs_background": "light"
          }
        }
      ]
    },
    {
      "cell_type": "code",
      "metadata": {
        "colab": {
          "base_uri": "https://localhost:8080/"
        },
        "id": "f-tG9oXAbgiZ",
        "outputId": "295c4363-5645-4d4d-f8ef-c85a4faf40e5"
      },
      "source": [
        "mod4.score(x_train , y_train)"
      ],
      "execution_count": null,
      "outputs": [
        {
          "output_type": "execute_result",
          "data": {
            "text/plain": [
              "0.6456483126110124"
            ]
          },
          "metadata": {},
          "execution_count": 109
        }
      ]
    },
    {
      "cell_type": "code",
      "metadata": {
        "colab": {
          "base_uri": "https://localhost:8080/"
        },
        "id": "Xt8MNG9CbiFt",
        "outputId": "01ab537c-4b54-4604-b8fb-f6c4edc7d08c"
      },
      "source": [
        "mod4.score(x_test, y_test)"
      ],
      "execution_count": null,
      "outputs": [
        {
          "output_type": "execute_result",
          "data": {
            "text/plain": [
              "0.642687981053878"
            ]
          },
          "metadata": {},
          "execution_count": 110
        }
      ]
    },
    {
      "cell_type": "code",
      "metadata": {
        "colab": {
          "base_uri": "https://localhost:8080/",
          "height": 316
        },
        "id": "4sTP6KsQbkU0",
        "outputId": "645bb053-0877-43b0-8409-91e63c863aa8"
      },
      "source": [
        "# training dataset\n",
        "probs7 = mod4.predict_proba(x_train)\n",
        "probs7 = probs7[:,1]\n",
        "\n",
        "auc_score_mod4_train = roc_auc_score(y_train, probs7)\n",
        "print('the auc score for mod4 on training dataset is: %.3f' %auc_score_mod4_train)\n",
        "\n",
        "train_tpr_mod4, train_fpr_mod4, train_thresholds_mod4 = roc_curve(y_train, probs7)\n",
        "plt.plot([0,1],[0,1], linestyle='--', color='g')\n",
        "plt.plot(train_tpr_mod4, train_fpr_mod4)\n",
        "plt.title('ROC curve for tuned Logistic Regression model on training data')"
      ],
      "execution_count": null,
      "outputs": [
        {
          "output_type": "stream",
          "name": "stdout",
          "text": [
            "the auc score for mod4 on training dataset is: 0.851\n"
          ]
        },
        {
          "output_type": "execute_result",
          "data": {
            "text/plain": [
              "Text(0.5, 1.0, 'ROC curve for tuned Logistic Regression model on training data')"
            ]
          },
          "metadata": {},
          "execution_count": 111
        },
        {
          "output_type": "display_data",
          "data": {
            "image/png": "[encoded data removed]",
            "text/plain": [
              "<Figure size 432x288 with 1 Axes>"
            ]
          },
          "metadata": {
            "needs_background": "light"
          }
        }
      ]
    },
    {
      "cell_type": "code",
      "metadata": {
        "id": "x9Sijy3dbmL4",
        "colab": {
          "base_uri": "https://localhost:8080/",
          "height": 316
        },
        "outputId": "87ea05d7-9299-4e7f-b169-752e112ead49"
      },
      "source": [
        "# testing dataset\n",
        "probs8 = mod4.predict_proba(x_test)\n",
        "probs8 = probs8[:,1]\n",
        "\n",
        "auc_score_mod4_test = roc_auc_score(y_test, probs8)\n",
        "print('the auc score for mod4 on testing dataset is: %.3f' %auc_score_mod4_test)\n",
        "\n",
        "test_tpr_mod4, test_fpr_mod4, test_thresholds_mod4 = roc_curve(y_test, probs8)\n",
        "plt.plot([0,1], [0,1], linestyle='--', color='g')\n",
        "plt.plot(test_tpr_mod4, test_fpr_mod4)\n",
        "plt.title('ROC curve for tuned Logistic Regression model on testing data')"
      ],
      "execution_count": null,
      "outputs": [
        {
          "output_type": "stream",
          "name": "stdout",
          "text": [
            "the auc score for mod4 on testing dataset is: 0.829\n"
          ]
        },
        {
          "output_type": "execute_result",
          "data": {
            "text/plain": [
              "Text(0.5, 1.0, 'ROC curve for tuned Logistic Regression model on testing data')"
            ]
          },
          "metadata": {},
          "execution_count": 112
        },
        {
          "output_type": "display_data",
          "data": {
            "image/png": "[encoded data removed]",
            "text/plain": [
              "<Figure size 432x288 with 1 Axes>"
            ]
          },
          "metadata": {
            "needs_background": "light"
          }
        }
      ]
    },
    {
      "cell_type": "code",
      "source": [
        "# ANN Model\n",
        "from sklearn.neural_network import MLPClassifier\n",
        "\n",
        "mod19 = MLPClassifier(random_state=1, max_iter=1000)\n",
        "mod19.fit(x_train, y_train)"
      ],
      "metadata": {
        "colab": {
          "base_uri": "https://localhost:8080/"
        },
        "id": "jijBc8iB65au",
        "outputId": "23fd6228-f8b5-456d-fa80-005138e70021"
      },
      "execution_count": null,
      "outputs": [
        {
          "output_type": "execute_result",
          "data": {
            "text/plain": [
              "MLPClassifier(max_iter=1000, random_state=1)"
            ]
          },
          "metadata": {},
          "execution_count": 113
        }
      ]
    },
    {
      "cell_type": "code",
      "source": [
        "train_pred_mod19 = mod19.predict(x_train)\n",
        "test_pred_mod19 = mod19.predict(x_test)"
      ],
      "metadata": {
        "id": "27lXkCHz-OhV"
      },
      "execution_count": null,
      "outputs": []
    },
    {
      "cell_type": "code",
      "source": [
        "# training dataset\n",
        "print(classification_report(y_train, train_pred_mod19))"
      ],
      "metadata": {
        "colab": {
          "base_uri": "https://localhost:8080/"
        },
        "id": "N5p5yuVC-SJm",
        "outputId": "3d8495c4-b1c8-417e-bf0a-de70e997c21f"
      },
      "execution_count": null,
      "outputs": [
        {
          "output_type": "stream",
          "name": "stdout",
          "text": [
            "              precision    recall  f1-score   support\n",
            "\n",
            "         0.0       1.00      1.00      1.00      6555\n",
            "         1.0       1.00      1.00      1.00      1327\n",
            "\n",
            "    accuracy                           1.00      7882\n",
            "   macro avg       1.00      1.00      1.00      7882\n",
            "weighted avg       1.00      1.00      1.00      7882\n",
            "\n"
          ]
        }
      ]
    },
    {
      "cell_type": "code",
      "source": [
        "# testing dataset\n",
        "print(classification_report(y_test, test_pred_mod19))"
      ],
      "metadata": {
        "colab": {
          "base_uri": "https://localhost:8080/"
        },
        "id": "eZZ_cm-w-ZaC",
        "outputId": "1ceb7200-2792-43c9-ef90-19c3b9d4b043"
      },
      "execution_count": null,
      "outputs": [
        {
          "output_type": "stream",
          "name": "stdout",
          "text": [
            "              precision    recall  f1-score   support\n",
            "\n",
            "         0.0       0.98      0.99      0.99      2809\n",
            "         1.0       0.94      0.92      0.93       569\n",
            "\n",
            "    accuracy                           0.98      3378\n",
            "   macro avg       0.96      0.95      0.96      3378\n",
            "weighted avg       0.98      0.98      0.98      3378\n",
            "\n"
          ]
        }
      ]
    },
    {
      "cell_type": "code",
      "source": [
        "# Confusion Matrix\n",
        "# training dataset\n",
        "sns.heatmap(confusion_matrix(y_train, train_pred_mod19), annot=True, fmt='d', cbar=False)\n",
        "plt.xlabel('predicted labels')\n",
        "plt.ylabel('actual labels')\n",
        "plt.title('confusion matrix for base ANN model on training data')"
      ],
      "metadata": {
        "colab": {
          "base_uri": "https://localhost:8080/",
          "height": 312
        },
        "id": "CeZWWBHU-aoI",
        "outputId": "13d9df6a-2a91-4d26-bdab-d2c55fbb7732"
      },
      "execution_count": null,
      "outputs": [
        {
          "output_type": "execute_result",
          "data": {
            "text/plain": [
              "Text(0.5, 1.0, 'confusion matrix for base ANN model on training data')"
            ]
          },
          "metadata": {},
          "execution_count": 117
        },
        {
          "output_type": "display_data",
          "data": {
            "image/png": "[encoded data removed]",
            "text/plain": [
              "<Figure size 432x288 with 1 Axes>"
            ]
          },
          "metadata": {
            "needs_background": "light"
          }
        }
      ]
    },
    {
      "cell_type": "code",
      "source": [
        "# testing dataset\n",
        "sns.heatmap(confusion_matrix(y_test, test_pred_mod19), annot=True, fmt='d', cbar=False)\n",
        "plt.xlabel('predicted labels')\n",
        "plt.ylabel('actual labels')\n",
        "plt.title('confusion matrix for base ANN model on testing data')"
      ],
      "metadata": {
        "colab": {
          "base_uri": "https://localhost:8080/",
          "height": 312
        },
        "id": "w4i0VnMt-jfY",
        "outputId": "caf0a293-dd34-468f-b203-93b32d39b318"
      },
      "execution_count": null,
      "outputs": [
        {
          "output_type": "execute_result",
          "data": {
            "text/plain": [
              "Text(0.5, 1.0, 'confusion matrix for base ANN model on testing data')"
            ]
          },
          "metadata": {},
          "execution_count": 118
        },
        {
          "output_type": "display_data",
          "data": {
            "image/png": "[encoded data removed]",
            "text/plain": [
              "<Figure size 432x288 with 1 Axes>"
            ]
          },
          "metadata": {
            "needs_background": "light"
          }
        }
      ]
    },
    {
      "cell_type": "code",
      "source": [
        "# Score\n",
        "# training dataset\n",
        "mod19.score(x_train, y_train)"
      ],
      "metadata": {
        "colab": {
          "base_uri": "https://localhost:8080/"
        },
        "id": "UEeS42dj-mpf",
        "outputId": "2b7d2e27-ee45-43ad-ef25-fa423002902d"
      },
      "execution_count": null,
      "outputs": [
        {
          "output_type": "execute_result",
          "data": {
            "text/plain": [
              "1.0"
            ]
          },
          "metadata": {},
          "execution_count": 119
        }
      ]
    },
    {
      "cell_type": "code",
      "source": [
        "# testing dataset\n",
        "mod19.score(x_test, y_test)"
      ],
      "metadata": {
        "colab": {
          "base_uri": "https://localhost:8080/"
        },
        "id": "gAVGBtkm-wCy",
        "outputId": "8caf0421-ca73-424d-e95e-876cebcbcb0f"
      },
      "execution_count": null,
      "outputs": [
        {
          "output_type": "execute_result",
          "data": {
            "text/plain": [
              "0.9769094138543517"
            ]
          },
          "metadata": {},
          "execution_count": 120
        }
      ]
    },
    {
      "cell_type": "code",
      "source": [
        "# ROC\n",
        "# training dataset\n",
        "probs37 = mod19.predict_proba(x_train)\n",
        "probs37 = probs37[:,1]\n",
        "\n",
        "auc_score_mod19_train = roc_auc_score(y_train, probs37)\n",
        "print('the auc score for mod19 on training dataset is: %.3f' %auc_score_mod19_train)\n",
        "\n",
        "train_tpr_mod19, train_fpr_mod19, train_thresholds_mod19 = roc_curve(y_train, probs37)\n",
        "plt.plot([0,1], [0,1], linestyle='--', color='g')\n",
        "plt.plot(train_tpr_mod19, train_fpr_mod19)\n",
        "plt.title('ROC curve for base ANN model on training data')"
      ],
      "metadata": {
        "colab": {
          "base_uri": "https://localhost:8080/",
          "height": 316
        },
        "id": "uOdzFwzq-0sg",
        "outputId": "48a4fad2-7b62-4561-bb7b-276aa9c37b91"
      },
      "execution_count": null,
      "outputs": [
        {
          "output_type": "stream",
          "name": "stdout",
          "text": [
            "the auc score for mod19 on training dataset is: 1.000\n"
          ]
        },
        {
          "output_type": "execute_result",
          "data": {
            "text/plain": [
              "Text(0.5, 1.0, 'ROC curve for base ANN model on training data')"
            ]
          },
          "metadata": {},
          "execution_count": 121
        },
        {
          "output_type": "display_data",
          "data": {
            "image/png": "[encoded data removed]",
            "text/plain": [
              "<Figure size 432x288 with 1 Axes>"
            ]
          },
          "metadata": {
            "needs_background": "light"
          }
        }
      ]
    },
    {
      "cell_type": "code",
      "source": [
        "# testing dataset\n",
        "probs38 = mod19.predict_proba(x_test)\n",
        "probs38 = probs38[:,1]\n",
        "\n",
        "auc_score_mod19_test = roc_auc_score(y_test, probs38)\n",
        "print('the auc score for mod19 on testing dataset is: %.3f' %auc_score_mod19_test)\n",
        "\n",
        "test_tpr_mod19, test_fpr_mod19, test_thresholds_mod19 = roc_curve(y_test, probs38)\n",
        "plt.plot([0,1], [0,1], linestyle='--', color='g')\n",
        "plt.plot(test_tpr_mod19, test_fpr_mod19)\n",
        "plt.title('ROC curve for base ANN model on testing data')"
      ],
      "metadata": {
        "colab": {
          "base_uri": "https://localhost:8080/",
          "height": 316
        },
        "id": "QvaPQgD--8xJ",
        "outputId": "e4c1e59a-7941-4193-c7b8-c4d37cdfbe79"
      },
      "execution_count": null,
      "outputs": [
        {
          "output_type": "stream",
          "name": "stdout",
          "text": [
            "the auc score for mod19 on testing dataset is: 0.983\n"
          ]
        },
        {
          "output_type": "execute_result",
          "data": {
            "text/plain": [
              "Text(0.5, 1.0, 'ROC curve for base ANN model on testing data')"
            ]
          },
          "metadata": {},
          "execution_count": 122
        },
        {
          "output_type": "display_data",
          "data": {
            "image/png": "[encoded data removed]",
            "text/plain": [
              "<Figure size 432x288 with 1 Axes>"
            ]
          },
          "metadata": {
            "needs_background": "light"
          }
        }
      ]
    },
    {
      "cell_type": "code",
      "source": [
        "# Tuned ANN Model\n",
        "from sklearn.model_selection import GridSearchCV\n",
        "\n",
        "params = {\n",
        "    'activation': ['logistic', 'relu', 'tanh', 'identity' ],\n",
        "    'hidden_layer_sizes': [100, 200, 300, (100,100), (200,200), (300,300), (100, 100, 100)],\n",
        "    'max_iter' : [10000],\n",
        "    'solver': ['sgd', 'adam', 'lbfgs'],\n",
        "    #'tol': [0.1,0.5,0.01],\n",
        "    \n",
        "}\n",
        "\n",
        "ann = MLPClassifier(random_state=1)\n",
        "grid = GridSearchCV(estimator=ann, param_grid=params,scoring='recall', cv=5, verbose=3)"
      ],
      "metadata": {
        "id": "ufuJZRrW_Bp8"
      },
      "execution_count": null,
      "outputs": []
    },
    {
      "cell_type": "code",
      "source": [
        "start = time.time()\n",
        "grid.fit(x_train, y_train)\n",
        "end = time.time()"
      ],
      "metadata": {
        "colab": {
          "base_uri": "https://localhost:8080/"
        },
        "id": "zvNQlrQ__PqQ",
        "outputId": "c192c5d9-fc09-4b53-f35a-0d7c8797892b"
      },
      "execution_count": null,
      "outputs": [
        {
          "output_type": "stream",
          "name": "stdout",
          "text": [
            "Fitting 5 folds for each of 84 candidates, totalling 420 fits\n",
            "[CV 1/5] END activation=logistic, hidden_layer_sizes=100, max_iter=10000, solver=sgd;, score=0.410 total time=  13.8s\n",
            "[CV 2/5] END activation=logistic, hidden_layer_sizes=100, max_iter=10000, solver=sgd;, score=0.466 total time=  17.1s\n",
            "[CV 3/5] END activation=logistic, hidden_layer_sizes=100, max_iter=10000, solver=sgd;, score=0.479 total time=  15.2s\n",
            "[CV 4/5] END activation=logistic, hidden_layer_sizes=100, max_iter=10000, solver=sgd;, score=0.445 total time=  14.8s\n",
            "[CV 5/5] END activation=logistic, hidden_layer_sizes=100, max_iter=10000, solver=sgd;, score=0.460 total time=  15.1s\n",
            "[CV 1/5] END activation=logistic, hidden_layer_sizes=100, max_iter=10000, solver=adam;, score=0.925 total time=  38.9s\n",
            "[CV 2/5] END activation=logistic, hidden_layer_sizes=100, max_iter=10000, solver=adam;, score=0.876 total time=  38.7s\n",
            "[CV 3/5] END activation=logistic, hidden_layer_sizes=100, max_iter=10000, solver=adam;, score=0.909 total time=  40.2s\n",
            "[CV 4/5] END activation=logistic, hidden_layer_sizes=100, max_iter=10000, solver=adam;, score=0.891 total time=  41.3s\n",
            "[CV 5/5] END activation=logistic, hidden_layer_sizes=100, max_iter=10000, solver=adam;, score=0.906 total time=  37.8s\n",
            "[CV 1/5] END activation=logistic, hidden_layer_sizes=100, max_iter=10000, solver=lbfgs;, score=0.842 total time=   4.2s\n",
            "[CV 2/5] END activation=logistic, hidden_layer_sizes=100, max_iter=10000, solver=lbfgs;, score=0.805 total time=   4.1s\n",
            "[CV 3/5] END activation=logistic, hidden_layer_sizes=100, max_iter=10000, solver=lbfgs;, score=0.849 total time=   4.6s\n",
            "[CV 4/5] END activation=logistic, hidden_layer_sizes=100, max_iter=10000, solver=lbfgs;, score=0.758 total time=   4.6s\n",
            "[CV 5/5] END activation=logistic, hidden_layer_sizes=100, max_iter=10000, solver=lbfgs;, score=0.842 total time=   4.3s\n",
            "[CV 1/5] END activation=logistic, hidden_layer_sizes=200, max_iter=10000, solver=sgd;, score=0.414 total time=  25.7s\n",
            "[CV 2/5] END activation=logistic, hidden_layer_sizes=200, max_iter=10000, solver=sgd;, score=0.470 total time=  27.0s\n",
            "[CV 3/5] END activation=logistic, hidden_layer_sizes=200, max_iter=10000, solver=sgd;, score=0.494 total time=  28.5s\n",
            "[CV 4/5] END activation=logistic, hidden_layer_sizes=200, max_iter=10000, solver=sgd;, score=0.445 total time=  28.1s\n",
            "[CV 5/5] END activation=logistic, hidden_layer_sizes=200, max_iter=10000, solver=sgd;, score=0.502 total time=  29.6s\n",
            "[CV 1/5] END activation=logistic, hidden_layer_sizes=200, max_iter=10000, solver=adam;, score=0.925 total time= 1.1min\n",
            "[CV 2/5] END activation=logistic, hidden_layer_sizes=200, max_iter=10000, solver=adam;, score=0.883 total time= 1.1min\n",
            "[CV 3/5] END activation=logistic, hidden_layer_sizes=200, max_iter=10000, solver=adam;, score=0.909 total time= 1.1min\n",
            "[CV 4/5] END activation=logistic, hidden_layer_sizes=200, max_iter=10000, solver=adam;, score=0.879 total time= 1.2min\n",
            "[CV 5/5] END activation=logistic, hidden_layer_sizes=200, max_iter=10000, solver=adam;, score=0.913 total time= 1.1min\n",
            "[CV 1/5] END activation=logistic, hidden_layer_sizes=200, max_iter=10000, solver=lbfgs;, score=0.880 total time=  10.4s\n",
            "[CV 2/5] END activation=logistic, hidden_layer_sizes=200, max_iter=10000, solver=lbfgs;, score=0.827 total time=  11.2s\n",
            "[CV 3/5] END activation=logistic, hidden_layer_sizes=200, max_iter=10000, solver=lbfgs;, score=0.830 total time=   9.7s\n",
            "[CV 4/5] END activation=logistic, hidden_layer_sizes=200, max_iter=10000, solver=lbfgs;, score=0.826 total time=  10.6s\n",
            "[CV 5/5] END activation=logistic, hidden_layer_sizes=200, max_iter=10000, solver=lbfgs;, score=0.819 total time=  10.6s\n",
            "[CV 1/5] END activation=logistic, hidden_layer_sizes=300, max_iter=10000, solver=sgd;, score=0.417 total time=  36.4s\n",
            "[CV 2/5] END activation=logistic, hidden_layer_sizes=300, max_iter=10000, solver=sgd;, score=0.474 total time=  36.0s\n",
            "[CV 3/5] END activation=logistic, hidden_layer_sizes=300, max_iter=10000, solver=sgd;, score=0.506 total time=  44.0s\n",
            "[CV 4/5] END activation=logistic, hidden_layer_sizes=300, max_iter=10000, solver=sgd;, score=0.449 total time=  41.8s\n",
            "[CV 5/5] END activation=logistic, hidden_layer_sizes=300, max_iter=10000, solver=sgd;, score=0.472 total time=  39.2s\n",
            "[CV 1/5] END activation=logistic, hidden_layer_sizes=300, max_iter=10000, solver=adam;, score=0.947 total time= 1.5min\n",
            "[CV 2/5] END activation=logistic, hidden_layer_sizes=300, max_iter=10000, solver=adam;, score=0.496 total time=  10.0s\n",
            "[CV 3/5] END activation=logistic, hidden_layer_sizes=300, max_iter=10000, solver=adam;, score=0.555 total time=   6.1s\n",
            "[CV 4/5] END activation=logistic, hidden_layer_sizes=300, max_iter=10000, solver=adam;, score=0.902 total time= 1.4min\n",
            "[CV 5/5] END activation=logistic, hidden_layer_sizes=300, max_iter=10000, solver=adam;, score=0.491 total time=   4.7s\n",
            "[CV 1/5] END activation=logistic, hidden_layer_sizes=300, max_iter=10000, solver=lbfgs;, score=0.827 total time=  21.9s\n",
            "[CV 2/5] END activation=logistic, hidden_layer_sizes=300, max_iter=10000, solver=lbfgs;, score=0.789 total time=  19.1s\n",
            "[CV 3/5] END activation=logistic, hidden_layer_sizes=300, max_iter=10000, solver=lbfgs;, score=0.872 total time=  21.5s\n",
            "[CV 4/5] END activation=logistic, hidden_layer_sizes=300, max_iter=10000, solver=lbfgs;, score=0.808 total time=  19.5s\n",
            "[CV 5/5] END activation=logistic, hidden_layer_sizes=300, max_iter=10000, solver=lbfgs;, score=0.838 total time=  21.0s\n",
            "[CV 1/5] END activation=logistic, hidden_layer_sizes=(100, 100), max_iter=10000, solver=sgd;, score=0.000 total time=   2.3s\n",
            "[CV 2/5] END activation=logistic, hidden_layer_sizes=(100, 100), max_iter=10000, solver=sgd;, score=0.000 total time=   3.2s\n",
            "[CV 3/5] END activation=logistic, hidden_layer_sizes=(100, 100), max_iter=10000, solver=sgd;, score=0.000 total time=   3.0s\n",
            "[CV 4/5] END activation=logistic, hidden_layer_sizes=(100, 100), max_iter=10000, solver=sgd;, score=0.000 total time=   1.7s\n",
            "[CV 5/5] END activation=logistic, hidden_layer_sizes=(100, 100), max_iter=10000, solver=sgd;, score=0.000 total time=   6.6s\n",
            "[CV 1/5] END activation=logistic, hidden_layer_sizes=(100, 100), max_iter=10000, solver=adam;, score=0.872 total time= 1.0min\n",
            "[CV 2/5] END activation=logistic, hidden_layer_sizes=(100, 100), max_iter=10000, solver=adam;, score=0.820 total time=  59.4s\n",
            "[CV 3/5] END activation=logistic, hidden_layer_sizes=(100, 100), max_iter=10000, solver=adam;, score=0.909 total time=  58.7s\n",
            "[CV 4/5] END activation=logistic, hidden_layer_sizes=(100, 100), max_iter=10000, solver=adam;, score=0.857 total time=  58.0s\n",
            "[CV 5/5] END activation=logistic, hidden_layer_sizes=(100, 100), max_iter=10000, solver=adam;, score=0.891 total time=  58.5s\n",
            "[CV 1/5] END activation=logistic, hidden_layer_sizes=(100, 100), max_iter=10000, solver=lbfgs;, score=0.868 total time=  21.1s\n",
            "[CV 2/5] END activation=logistic, hidden_layer_sizes=(100, 100), max_iter=10000, solver=lbfgs;, score=0.853 total time=  20.8s\n",
            "[CV 3/5] END activation=logistic, hidden_layer_sizes=(100, 100), max_iter=10000, solver=lbfgs;, score=0.823 total time=  19.4s\n",
            "[CV 4/5] END activation=logistic, hidden_layer_sizes=(100, 100), max_iter=10000, solver=lbfgs;, score=0.770 total time=  20.6s\n",
            "[CV 5/5] END activation=logistic, hidden_layer_sizes=(100, 100), max_iter=10000, solver=lbfgs;, score=0.853 total time=  22.1s\n",
            "[CV 1/5] END activation=logistic, hidden_layer_sizes=(200, 200), max_iter=10000, solver=sgd;, score=0.425 total time= 2.4min\n",
            "[CV 2/5] END activation=logistic, hidden_layer_sizes=(200, 200), max_iter=10000, solver=sgd;, score=0.481 total time= 2.5min\n",
            "[CV 3/5] END activation=logistic, hidden_layer_sizes=(200, 200), max_iter=10000, solver=sgd;, score=0.509 total time= 2.6min\n",
            "[CV 4/5] END activation=logistic, hidden_layer_sizes=(200, 200), max_iter=10000, solver=sgd;, score=0.453 total time= 2.5min\n",
            "[CV 5/5] END activation=logistic, hidden_layer_sizes=(200, 200), max_iter=10000, solver=sgd;, score=0.506 total time= 2.7min\n",
            "[CV 1/5] END activation=logistic, hidden_layer_sizes=(200, 200), max_iter=10000, solver=adam;, score=0.876 total time= 2.3min\n",
            "[CV 2/5] END activation=logistic, hidden_layer_sizes=(200, 200), max_iter=10000, solver=adam;, score=0.838 total time= 2.1min\n",
            "[CV 3/5] END activation=logistic, hidden_layer_sizes=(200, 200), max_iter=10000, solver=adam;, score=0.898 total time= 2.2min\n",
            "[CV 4/5] END activation=logistic, hidden_layer_sizes=(200, 200), max_iter=10000, solver=adam;, score=0.879 total time= 2.3min\n",
            "[CV 5/5] END activation=logistic, hidden_layer_sizes=(200, 200), max_iter=10000, solver=adam;, score=0.909 total time= 2.4min\n",
            "[CV 1/5] END activation=logistic, hidden_layer_sizes=(200, 200), max_iter=10000, solver=lbfgs;, score=0.835 total time=  42.1s\n",
            "[CV 2/5] END activation=logistic, hidden_layer_sizes=(200, 200), max_iter=10000, solver=lbfgs;, score=0.850 total time=  55.7s\n",
            "[CV 3/5] END activation=logistic, hidden_layer_sizes=(200, 200), max_iter=10000, solver=lbfgs;, score=0.872 total time=  55.0s\n",
            "[CV 4/5] END activation=logistic, hidden_layer_sizes=(200, 200), max_iter=10000, solver=lbfgs;, score=0.811 total time=  54.9s\n",
            "[CV 5/5] END activation=logistic, hidden_layer_sizes=(200, 200), max_iter=10000, solver=lbfgs;, score=0.864 total time= 1.1min\n",
            "[CV 1/5] END activation=logistic, hidden_layer_sizes=(300, 300), max_iter=10000, solver=sgd;, score=0.429 total time= 4.0min\n",
            "[CV 2/5] END activation=logistic, hidden_layer_sizes=(300, 300), max_iter=10000, solver=sgd;, score=0.474 total time= 4.0min\n",
            "[CV 3/5] END activation=logistic, hidden_layer_sizes=(300, 300), max_iter=10000, solver=sgd;, score=0.000 total time=  18.9s\n",
            "[CV 4/5] END activation=logistic, hidden_layer_sizes=(300, 300), max_iter=10000, solver=sgd;, score=0.445 total time= 4.1min\n",
            "[CV 5/5] END activation=logistic, hidden_layer_sizes=(300, 300), max_iter=10000, solver=sgd;, score=0.479 total time= 4.1min\n",
            "[CV 1/5] END activation=logistic, hidden_layer_sizes=(300, 300), max_iter=10000, solver=adam;, score=0.921 total time= 3.3min\n",
            "[CV 2/5] END activation=logistic, hidden_layer_sizes=(300, 300), max_iter=10000, solver=adam;, score=0.850 total time= 3.2min\n",
            "[CV 3/5] END activation=logistic, hidden_layer_sizes=(300, 300), max_iter=10000, solver=adam;, score=0.883 total time= 3.3min\n",
            "[CV 4/5] END activation=logistic, hidden_layer_sizes=(300, 300), max_iter=10000, solver=adam;, score=0.864 total time= 3.3min\n"
          ]
        }
      ]
    },
    {
      "cell_type": "code",
      "source": [
        "print('the time for algo execution is: {}'.format(end-start))\n"
      ],
      "metadata": {
        "id": "QNIxlbaV_U4c"
      },
      "execution_count": null,
      "outputs": []
    },
    {
      "cell_type": "code",
      "source": [
        "grid.best_params_"
      ],
      "metadata": {
        "id": "WG-d1IIs_YuF"
      },
      "execution_count": null,
      "outputs": []
    },
    {
      "cell_type": "code",
      "source": [
        "grid.best_estimator_"
      ],
      "metadata": {
        "id": "kSwmFuAS_ZmQ"
      },
      "execution_count": null,
      "outputs": []
    },
    {
      "cell_type": "code",
      "source": [
        "mod20 = MLPClassifier(activation='tanh', hidden_layer_sizes=(300, 300), max_iter=10000,\n",
        "              random_state=1)\n",
        "mod20.fit(x_train,y_train)"
      ],
      "metadata": {
        "id": "nKEARUBC_b7U"
      },
      "execution_count": null,
      "outputs": []
    },
    {
      "cell_type": "code",
      "source": [
        "train_pred_mod20 = mod20.predict(x_train)\n",
        "test_pred_mod20 = mod20.predict(x_test)"
      ],
      "metadata": {
        "id": "UgbGX2a8_fM7"
      },
      "execution_count": null,
      "outputs": []
    },
    {
      "cell_type": "code",
      "source": [
        "# Report\n",
        "# training data\n",
        "print('Classification Report For Training Data')\n",
        "print(classification_report(y_train, train_pred_mod20))"
      ],
      "metadata": {
        "id": "nG9qLvaU_ilh"
      },
      "execution_count": null,
      "outputs": []
    },
    {
      "cell_type": "code",
      "source": [
        "# testing data\n",
        "print('Classification Report For Testing Data')\n",
        "print(classification_report(y_test, test_pred_mod20))"
      ],
      "metadata": {
        "id": "7fEl9Cqr_oby"
      },
      "execution_count": null,
      "outputs": []
    },
    {
      "cell_type": "code",
      "source": [
        "# Confusion Matrix for Tuned ANN Model\n",
        "# training dataset\n",
        "sns.heatmap(confusion_matrix(y_train, train_pred_mod20), annot=True, cbar=False, fmt='d')\n",
        "plt.xlabel('predicted label')\n",
        "plt.ylabel('actual label')\n",
        "plt.title('confusion matrix for tuned ANN model on training data')"
      ],
      "metadata": {
        "id": "d6zoHhst_t02"
      },
      "execution_count": null,
      "outputs": []
    },
    {
      "cell_type": "code",
      "source": [
        "# testing dataset\n",
        "sns.heatmap(confusion_matrix(y_test, test_pred_mod20), annot=True, cbar=False, fmt='d')\n",
        "plt.xlabel('predicted label')\n",
        "plt.ylabel('actual label')\n",
        "plt.title('confusion matrix for tuned ANN model on testing data')"
      ],
      "metadata": {
        "id": "6ifnMvWW_yUj"
      },
      "execution_count": null,
      "outputs": []
    },
    {
      "cell_type": "code",
      "source": [
        "# Model Score\n",
        "# trianing dataset\n",
        "mod20.score(x_train , y_train)"
      ],
      "metadata": {
        "id": "LIcDGaTa_00R"
      },
      "execution_count": null,
      "outputs": []
    },
    {
      "cell_type": "code",
      "source": [
        "# testing dataset\n",
        "mod20.score(x_test, y_test)"
      ],
      "metadata": {
        "id": "sSFXnumk_5sl"
      },
      "execution_count": null,
      "outputs": []
    },
    {
      "cell_type": "code",
      "source": [
        "# ROC-AUC Score for Tuned ANN Model\n",
        "# training dataset\n",
        "probs39 = mod20.predict_proba(x_train)\n",
        "probs39 = probs39[:,1]\n",
        "\n",
        "auc_score_mod20_train = roc_auc_score(y_train, probs39)\n",
        "print('the auc score for mod20 on training dataset is: %.3f' %auc_score_mod20_train)\n",
        "\n",
        "train_tpr_mod20, train_fpr_mod20, train_thresholds_mod20 = roc_curve(y_train, probs39)\n",
        "plt.plot([0,1],[0,1], linestyle='--', color='g')\n",
        "plt.plot(train_tpr_mod20, train_fpr_mod20)\n",
        "plt.title('ROC curve for tuned ANN model on training data')"
      ],
      "metadata": {
        "id": "jgQM8cMu_8BS"
      },
      "execution_count": null,
      "outputs": []
    },
    {
      "cell_type": "code",
      "source": [
        "# testing dataset\n",
        "probs40 = mod20.predict_proba(x_test)\n",
        "probs40 = probs40[:,1]\n",
        "\n",
        "auc_score_mod20_test = roc_auc_score(y_test, probs40)\n",
        "print('the auc score for mod20 on testing dataset is: %.3f' %auc_score_mod20_test)\n",
        "\n",
        "test_tpr_mod20, test_fpr_mod20, test_thresholds_mod20 = roc_curve(y_test, probs40)\n",
        "plt.plot([0,1], [0,1], linestyle='--', color='g')\n",
        "plt.plot(test_tpr_mod20, test_fpr_mod20)\n",
        "plt.title('ROC curve for tuned ANN model on testing data')"
      ],
      "metadata": {
        "id": "2Bsh88YUAEET"
      },
      "execution_count": null,
      "outputs": []
    },
    {
      "cell_type": "code",
      "source": [
        "# Recall\n",
        "from sklearn.neural_network import MLPClassifier\n",
        "from sklearn.model_selection import cross_val_score \n",
        "\n",
        "ANN_model = MLPClassifier(activation='tanh', hidden_layer_sizes=(300, 300), max_iter=10000,\n",
        "              random_state=1)\n",
        "\n",
        "ANN_kfold_Recall = cross_val_score(ANN_model, x_train, y_train, cv=10, scoring='recall', verbose=3)\n",
        "ANN_kfold_Recall"
      ],
      "metadata": {
        "id": "WBAw-V8fAGpF"
      },
      "execution_count": null,
      "outputs": []
    },
    {
      "cell_type": "code",
      "source": [
        "np.mean(ANN_kfold_Recall)"
      ],
      "metadata": {
        "id": "eQfQAqK_ALBO"
      },
      "execution_count": null,
      "outputs": []
    },
    {
      "cell_type": "code",
      "source": [
        "ANN_kfold_accuracy = cross_val_score(ANN_model, x_train, y_train, cv=10, scoring='accuracy', verbose=3)\n",
        "ANN_kfold_accuracy"
      ],
      "metadata": {
        "id": "n8svBEe_ANtN"
      },
      "execution_count": null,
      "outputs": []
    },
    {
      "cell_type": "code",
      "source": [
        "np.mean(ANN_kfold_accuracy)"
      ],
      "metadata": {
        "id": "0a7QbgV8AP2V"
      },
      "execution_count": null,
      "outputs": []
    },
    {
      "cell_type": "code",
      "source": [
        "ANN_kfold_precision = cross_val_score(ANN_model, x_train, y_train, cv=10, scoring='precision', verbose=3)\n",
        "ANN_kfold_precision"
      ],
      "metadata": {
        "id": "pZU6MxKuATEf"
      },
      "execution_count": null,
      "outputs": []
    },
    {
      "cell_type": "code",
      "source": [
        "np.mean(ANN_kfold_precision)"
      ],
      "metadata": {
        "id": "GBK5Lz1vAVHZ"
      },
      "execution_count": null,
      "outputs": []
    },
    {
      "cell_type": "markdown",
      "source": [
        "F1 score cross validation"
      ],
      "metadata": {
        "id": "LmzJ0E6QIj41"
      }
    },
    {
      "cell_type": "code",
      "source": [
        "ANN_kfold_f1 = cross_val_score(ANN_model, x_train, y_train, cv=10, scoring='f1', verbose=3)\n",
        "ANN_kfold_f1"
      ],
      "metadata": {
        "id": "WvQi0kq4AaFs"
      },
      "execution_count": null,
      "outputs": []
    },
    {
      "cell_type": "code",
      "source": [
        "np.mean(ANN_kfold_f1)"
      ],
      "metadata": {
        "id": "DqjAG1RiAckQ"
      },
      "execution_count": null,
      "outputs": []
    }
  ]
}